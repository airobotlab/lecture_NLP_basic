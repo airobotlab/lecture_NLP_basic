{
 "cells": [
  {
   "cell_type": "markdown",
   "metadata": {
    "id": "Km-bz2MXJ8Qo"
   },
   "source": [
    "# Naive Neural Networks 의 문제점\n",
    "\n",
    "```\n",
    "Yesterday, Harry Potter met Hermione Granger\n",
    "```\n",
    "\n",
    "- 사람 이름 = 1\n",
    "- 아니라면 = 0\n",
    "\n",
    "![](https://i.imgur.com/zPTrFRt.png)\n",
    "\n",
    "만약 아래 문장이라면 위의 구조로 가능할까?\n",
    "\n",
    "```\n",
    "First time Hermione meet Harry and Ron\n",
    "```\n",
    "\n",
    "### 기계 번역 문제의 경우, 입력과 출력 시퀀스의 길이가 동일하지 않을수 있다!"
   ]
  },
  {
   "cell_type": "markdown",
   "metadata": {
    "id": "eiKtC8zeK4wM"
   },
   "source": [
    "# Recurrent Neural Networks (RNN)\n",
    "\n",
    "![](https://i.imgur.com/owxFJp3.png)\n",
    "\n",
    "## 장점\n",
    "\n",
    "- RNN Cell을 여러개 연결하여 유연한 구조를 만든다.\n",
    "- y^<2> 예측 시 x<2>만 사용하는 것이 아니라, 첫번째 단어로 연산한 정보의 일부(a<1>)를 사용하게 된다.\n",
    "\n",
    "## 기본적인 RNN 단점\n",
    "\n",
    "- 앞서 나온 단어들의 정보만을 사용한다.\n",
    "    - `He said, \"Teddy Roosevelt was a great President.\"`\n",
    "    - `He said, \"Teddy bears are on sale.\"`\n",
    "- Gradient vanishing\n",
    "    - `The cat, which already ate ............, was full`\n",
    "    - `The cats, which already ate ............, were full`\n",
    "    - 신경망이 깊어질수록 (문장이 길어질수록) 문장 초반부의 단어가 후반부 단어에 미치는 영향이 적어진다. (가까이 있는 입력 영향을 더 많이 받음)"
   ]
  },
  {
   "cell_type": "markdown",
   "metadata": {
    "id": "oc5TnpODOvRQ"
   },
   "source": [
    "# RNN 발전형\n",
    "\n",
    "## RNN\n",
    "\n",
    "![](https://i.imgur.com/vcUIhTL.png)\n",
    "\n",
    "## Long Short-Term Memory (LSTM)\n",
    "\n",
    "![](https://i.imgur.com/VXeCc8x.png)\n",
    "\n",
    "LSTM은 메모리를 컨베이어 벨트같이 오래 전파하는 특성을 가진다.\n",
    "\n",
    "## Gated Recurrent Unit (GRU)\n",
    "\n",
    "![](https://i.imgur.com/fXeGJu6.png)\n",
    "\n",
    "- 일반적으로 GRU는 LSTM보다 학습 속도가 빠르다.\n",
    "- 여러 평가에서 GRU는 LSTM과 비슷한 성능을 보인다.\n",
    "- 데이터 양이 적을 때는 GRU를 사용하는 것이 좋다."
   ]
  },
  {
   "cell_type": "markdown",
   "metadata": {
    "id": "NupI_6NCr0A4"
   },
   "source": [
    "# LSTM 실습"
   ]
  },
  {
   "cell_type": "markdown",
   "metadata": {
    "id": "aaU-ui1oud5-"
   },
   "source": [
    "## 자동 완성 모델"
   ]
  },
  {
   "cell_type": "code",
   "execution_count": 27,
   "metadata": {
    "executionInfo": {
     "elapsed": 7293,
     "status": "ok",
     "timestamp": 1649132729024,
     "user": {
      "displayName": "Taehee Lee",
      "userId": "12017922817927484990"
     },
     "user_tz": -540
    },
    "id": "slG3lHcUuiSG"
   },
   "outputs": [],
   "source": [
    "import numpy as np\n",
    "import torch\n",
    "import torch.nn as nn\n",
    "import torch.nn.functional as F\n",
    "import torch.optim as optim"
   ]
  },
  {
   "cell_type": "markdown",
   "metadata": {
    "id": "4Bop8L3EDl9_"
   },
   "source": [
    "### 데이터셋"
   ]
  },
  {
   "cell_type": "code",
   "execution_count": 28,
   "metadata": {
    "executionInfo": {
     "elapsed": 433,
     "status": "ok",
     "timestamp": 1649132767907,
     "user": {
      "displayName": "Taehee Lee",
      "userId": "12017922817927484990"
     },
     "user_tz": -540
    },
    "id": "exae7slZukI1"
   },
   "outputs": [],
   "source": [
    "sentences = [\n",
    "    \"i like dog\",\n",
    "    \"i love coffee\",\n",
    "    \"i hate milk\",\n",
    "    \"you like cat\",\n",
    "    \"you love milk\",\n",
    "    \"you hate coffee\"]"
   ]
  },
  {
   "cell_type": "markdown",
   "metadata": {
    "id": "dfvcVsQFDm_K"
   },
   "source": [
    "### 단어 사전 만들기"
   ]
  },
  {
   "cell_type": "code",
   "execution_count": 29,
   "metadata": {
    "colab": {
     "base_uri": "https://localhost:8080/"
    },
    "executionInfo": {
     "elapsed": 399,
     "status": "ok",
     "timestamp": 1649132772240,
     "user": {
      "displayName": "Taehee Lee",
      "userId": "12017922817927484990"
     },
     "user_tz": -540
    },
    "id": "_QolY_nquvY9",
    "outputId": "19fa3772-71eb-4851-8550-36cb32aecc17"
   },
   "outputs": [
    {
     "data": {
      "text/plain": [
       "['love', 'you', 'cat', 'coffee', 'milk', 'dog', 'like', 'i', 'hate']"
      ]
     },
     "execution_count": 29,
     "metadata": {},
     "output_type": "execute_result"
    }
   ],
   "source": [
    "word_list = list(set(\" \".join(sentences).split()))\n",
    "\n",
    "word_list"
   ]
  },
  {
   "cell_type": "code",
   "execution_count": 30,
   "metadata": {
    "colab": {
     "base_uri": "https://localhost:8080/"
    },
    "executionInfo": {
     "elapsed": 352,
     "status": "ok",
     "timestamp": 1649132804096,
     "user": {
      "displayName": "Taehee Lee",
      "userId": "12017922817927484990"
     },
     "user_tz": -540
    },
    "id": "9eL-mis7uyEr",
    "outputId": "edf6aaf7-41cb-4e2c-be3a-b56dd389510a"
   },
   "outputs": [
    {
     "data": {
      "text/plain": [
       "{'love': 0,\n",
       " 'you': 1,\n",
       " 'cat': 2,\n",
       " 'coffee': 3,\n",
       " 'milk': 4,\n",
       " 'dog': 5,\n",
       " 'like': 6,\n",
       " 'i': 7,\n",
       " 'hate': 8}"
      ]
     },
     "execution_count": 30,
     "metadata": {},
     "output_type": "execute_result"
    }
   ],
   "source": [
    "word_dict = {w: i for i, w in enumerate(word_list)}\n",
    "\n",
    "word_dict"
   ]
  },
  {
   "cell_type": "markdown",
   "metadata": {
    "id": "wA5rW2NuDicn"
   },
   "source": [
    "### 데이터 전처리"
   ]
  },
  {
   "cell_type": "code",
   "execution_count": 31,
   "metadata": {
    "colab": {
     "base_uri": "https://localhost:8080/"
    },
    "executionInfo": {
     "elapsed": 292,
     "status": "ok",
     "timestamp": 1649133220657,
     "user": {
      "displayName": "Taehee Lee",
      "userId": "12017922817927484990"
     },
     "user_tz": -540
    },
    "id": "egWeAXqZvH9-",
    "outputId": "92655a36-1022-49de-9704-388bc8496abb"
   },
   "outputs": [
    {
     "name": "stdout",
     "output_type": "stream",
     "text": [
      "tensor([[[0., 0., 0., 0., 0., 0., 0., 1., 0.],\n",
      "         [0., 0., 0., 0., 0., 0., 1., 0., 0.]],\n",
      "\n",
      "        [[0., 0., 0., 0., 0., 0., 0., 1., 0.],\n",
      "         [1., 0., 0., 0., 0., 0., 0., 0., 0.]],\n",
      "\n",
      "        [[0., 0., 0., 0., 0., 0., 0., 1., 0.],\n",
      "         [0., 0., 0., 0., 0., 0., 0., 0., 1.]],\n",
      "\n",
      "        [[0., 1., 0., 0., 0., 0., 0., 0., 0.],\n",
      "         [0., 0., 0., 0., 0., 0., 1., 0., 0.]],\n",
      "\n",
      "        [[0., 1., 0., 0., 0., 0., 0., 0., 0.],\n",
      "         [1., 0., 0., 0., 0., 0., 0., 0., 0.]],\n",
      "\n",
      "        [[0., 1., 0., 0., 0., 0., 0., 0., 0.],\n",
      "         [0., 0., 0., 0., 0., 0., 0., 0., 1.]]])\n",
      "tensor([[0., 0., 0., 0., 0., 1., 0., 0., 0.],\n",
      "        [0., 0., 0., 1., 0., 0., 0., 0., 0.],\n",
      "        [0., 0., 0., 0., 1., 0., 0., 0., 0.],\n",
      "        [0., 0., 1., 0., 0., 0., 0., 0., 0.],\n",
      "        [0., 0., 0., 0., 1., 0., 0., 0., 0.],\n",
      "        [0., 0., 0., 1., 0., 0., 0., 0., 0.]])\n"
     ]
    }
   ],
   "source": [
    "n_classes = len(word_list)\n",
    "x_train = []\n",
    "y_train = []\n",
    "\n",
    "for sen in sentences:\n",
    "    words = sen.split(' ')\n",
    "\n",
    "    x = []\n",
    "    for w in words[:-1]:\n",
    "        x.append(word_dict[w])\n",
    "\n",
    "    y = word_dict[words[-1]]\n",
    "\n",
    "    x_train.append(np.eye(n_classes)[x])\n",
    "    y_train.append(np.eye(n_classes)[y])\n",
    "\n",
    "x_train = torch.FloatTensor(x_train)\n",
    "y_train = torch.FloatTensor(y_train)\n",
    "\n",
    "print(x_train)\n",
    "print(y_train)"
   ]
  },
  {
   "cell_type": "markdown",
   "metadata": {
    "id": "dClPhxBZDg6k"
   },
   "source": [
    "### 모델 정의"
   ]
  },
  {
   "cell_type": "code",
   "execution_count": 32,
   "metadata": {
    "code_folding": [],
    "executionInfo": {
     "elapsed": 275,
     "status": "ok",
     "timestamp": 1649133377361,
     "user": {
      "displayName": "Taehee Lee",
      "userId": "12017922817927484990"
     },
     "user_tz": -540
    },
    "id": "jlaeao5syUk6"
   },
   "outputs": [],
   "source": [
    "class TextLSTM(nn.Module):\n",
    "    def __init__(self):\n",
    "        super(TextLSTM, self).__init__()\n",
    "\n",
    "        self.lstm = nn.LSTM(input_size=2, hidden_size=5, batch_first=True)\n",
    "        self.fc = nn.Linear(5, n_classes)\n",
    "\n",
    "    def forward(self, hidden_and_cell, x):\n",
    "        # (batch_size, seq_length, feature_size) (6, 2, 9) -> (6, 9, 2)\n",
    "        x = x.transpose(1, 2)\n",
    "        x, (hidden, cell) = self.lstm(x, hidden_and_cell)\n",
    "        # print(x.shape) # (batch_size, seq_length, hidden_size) (6, 9, 5)\n",
    "\n",
    "        x = x[:, -1, :]  # (6, 5)\n",
    "        x = self.fc(x)  # (6, 9)\n",
    "        return x\n",
    "\n",
    "\n",
    "model = TextLSTM()\n",
    "criterion = nn.CrossEntropyLoss()\n",
    "optimizer = optim.Adam(model.parameters(), lr=0.01)"
   ]
  },
  {
   "cell_type": "markdown",
   "metadata": {
    "id": "Z4bqAx1GDe3a"
   },
   "source": [
    "### 학습"
   ]
  },
  {
   "cell_type": "code",
   "execution_count": 33,
   "metadata": {
    "colab": {
     "base_uri": "https://localhost:8080/"
    },
    "executionInfo": {
     "elapsed": 1633,
     "status": "ok",
     "timestamp": 1649133839898,
     "user": {
      "displayName": "Taehee Lee",
      "userId": "12017922817927484990"
     },
     "user_tz": -540
    },
    "id": "5QuyvjIqzKuI",
    "outputId": "9881144d-678c-455b-d9ae-be15286cde20"
   },
   "outputs": [
    {
     "name": "stdout",
     "output_type": "stream",
     "text": [
      "Epoch: 0000, cost = 2.092577\n",
      "Epoch: 0100, cost = 1.286472\n",
      "Epoch: 0200, cost = 0.479984\n",
      "Epoch: 0300, cost = 0.094947\n",
      "Epoch: 0400, cost = 0.028681\n",
      "Epoch: 0500, cost = 0.016647\n"
     ]
    }
   ],
   "source": [
    "batch_size = len(x_train)\n",
    "\n",
    "for epoch in range(500 + 1):\n",
    "    hidden = torch.zeros(1, batch_size, 5, requires_grad=True)\n",
    "    cell = torch.zeros(1, batch_size, 5, requires_grad=True)\n",
    "\n",
    "    y_pred = model((hidden, cell), x_train)\n",
    "    loss = criterion(y_pred, y_train)\n",
    "\n",
    "    optimizer.zero_grad()\n",
    "    loss.backward()\n",
    "    optimizer.step()\n",
    "\n",
    "    if epoch % 100 == 0:\n",
    "        print('Epoch: {:04d}, cost = {:.6f}'.format(epoch, loss))"
   ]
  },
  {
   "cell_type": "markdown",
   "metadata": {
    "id": "l4WppQ7HDY-X"
   },
   "source": [
    "### 테스트"
   ]
  },
  {
   "cell_type": "code",
   "execution_count": 40,
   "metadata": {
    "colab": {
     "base_uri": "https://localhost:8080/"
    },
    "executionInfo": {
     "elapsed": 287,
     "status": "ok",
     "timestamp": 1649133870752,
     "user": {
      "displayName": "Taehee Lee",
      "userId": "12017922817927484990"
     },
     "user_tz": -540
    },
    "id": "yZ1V8Swv8B7h",
    "outputId": "7ffaa7a9-ad79-4e01-ee4e-0d74fedea8d4"
   },
   "outputs": [
    {
     "name": "stdout",
     "output_type": "stream",
     "text": [
      "['you', 'like']\n"
     ]
    }
   ],
   "source": [
    "input = 'i hate'\n",
    "# input = 'you like'\n",
    "# input = 'he liks'\n",
    "\n",
    "input = input.split(' ')\n",
    "\n",
    "print(input)"
   ]
  },
  {
   "cell_type": "code",
   "execution_count": 41,
   "metadata": {
    "colab": {
     "base_uri": "https://localhost:8080/"
    },
    "executionInfo": {
     "elapsed": 3,
     "status": "ok",
     "timestamp": 1649133873821,
     "user": {
      "displayName": "Taehee Lee",
      "userId": "12017922817927484990"
     },
     "user_tz": -540
    },
    "id": "CMkz4mEW_79f",
    "outputId": "2987ab72-86b4-49e9-8bee-6e27091eb5ef"
   },
   "outputs": [
    {
     "data": {
      "text/plain": [
       "tensor([[[0., 1., 0., 0., 0., 0., 0., 0., 0.],\n",
       "         [0., 0., 0., 0., 0., 0., 1., 0., 0.]]])"
      ]
     },
     "execution_count": 41,
     "metadata": {},
     "output_type": "execute_result"
    }
   ],
   "source": [
    "x_test = []\n",
    "for w in input:\n",
    "    x_test.append(word_dict[w])\n",
    "\n",
    "x_test = np.eye(n_classes)[x_test]\n",
    "x_test = torch.FloatTensor([x_test])\n",
    "x_test"
   ]
  },
  {
   "cell_type": "code",
   "execution_count": 42,
   "metadata": {
    "colab": {
     "base_uri": "https://localhost:8080/"
    },
    "executionInfo": {
     "elapsed": 283,
     "status": "ok",
     "timestamp": 1649133914849,
     "user": {
      "displayName": "Taehee Lee",
      "userId": "12017922817927484990"
     },
     "user_tz": -540
    },
    "id": "wRA5niq4_xK2",
    "outputId": "5e5a056c-83bc-4c0e-f63e-c9ca288db75a"
   },
   "outputs": [
    {
     "data": {
      "text/plain": [
       "tensor([[-3.6639, -2.9489,  7.2513,  1.8710, -0.5808,  1.1556, -3.0509, -2.9111,\n",
       "         -2.4495]], grad_fn=<AddmmBackward0>)"
      ]
     },
     "execution_count": 42,
     "metadata": {},
     "output_type": "execute_result"
    }
   ],
   "source": [
    "hidden = torch.zeros(1, 1, 5, requires_grad=True)\n",
    "cell = torch.zeros(1, 1, 5, requires_grad=True)\n",
    "\n",
    "y_pred = model((hidden, cell), x_test)\n",
    "\n",
    "y_pred"
   ]
  },
  {
   "cell_type": "code",
   "execution_count": 43,
   "metadata": {
    "colab": {
     "base_uri": "https://localhost:8080/"
    },
    "executionInfo": {
     "elapsed": 277,
     "status": "ok",
     "timestamp": 1649133917510,
     "user": {
      "displayName": "Taehee Lee",
      "userId": "12017922817927484990"
     },
     "user_tz": -540
    },
    "id": "wFmlc0j_BA8c",
    "outputId": "77c053f7-30de-413b-9680-e77d7dffbc47"
   },
   "outputs": [
    {
     "data": {
      "text/plain": [
       "tensor([[1.8045e-05, 3.6889e-05, 9.9261e-01, 4.5725e-03, 3.9386e-04, 2.2359e-03,\n",
       "         3.3313e-05, 3.8308e-05, 6.0780e-05]], grad_fn=<SoftmaxBackward0>)"
      ]
     },
     "execution_count": 43,
     "metadata": {},
     "output_type": "execute_result"
    }
   ],
   "source": [
    "torch.softmax(y_pred, dim=1)"
   ]
  },
  {
   "cell_type": "code",
   "execution_count": 44,
   "metadata": {
    "colab": {
     "base_uri": "https://localhost:8080/"
    },
    "executionInfo": {
     "elapsed": 307,
     "status": "ok",
     "timestamp": 1649133934300,
     "user": {
      "displayName": "Taehee Lee",
      "userId": "12017922817927484990"
     },
     "user_tz": -540
    },
    "id": "HCCQf3LABFFt",
    "outputId": "5bb6f3fa-1954-41cf-fd25-fe2157ea3d87"
   },
   "outputs": [
    {
     "data": {
      "text/plain": [
       "2"
      ]
     },
     "execution_count": 44,
     "metadata": {},
     "output_type": "execute_result"
    }
   ],
   "source": [
    "torch.argmax(torch.softmax(y_pred, dim=1)).cpu().item()"
   ]
  },
  {
   "cell_type": "code",
   "execution_count": 45,
   "metadata": {
    "colab": {
     "base_uri": "https://localhost:8080/",
     "height": 36
    },
    "executionInfo": {
     "elapsed": 345,
     "status": "ok",
     "timestamp": 1649133941799,
     "user": {
      "displayName": "Taehee Lee",
      "userId": "12017922817927484990"
     },
     "user_tz": -540
    },
    "id": "1aRUWRdIBcem",
    "outputId": "b3f1c3ec-abd3-438e-e6c8-5e5d9a1334f4"
   },
   "outputs": [
    {
     "data": {
      "text/plain": [
       "'cat'"
      ]
     },
     "execution_count": 45,
     "metadata": {},
     "output_type": "execute_result"
    }
   ],
   "source": [
    "word_list[torch.argmax(torch.softmax(y_pred, dim=1)).cpu().item()]"
   ]
  },
  {
   "cell_type": "code",
   "execution_count": null,
   "metadata": {},
   "outputs": [],
   "source": []
  },
  {
   "cell_type": "code",
   "execution_count": null,
   "metadata": {
    "id": "8HZf7SsqeKmS"
   },
   "outputs": [],
   "source": []
  }
 ],
 "metadata": {
  "accelerator": "GPU",
  "colab": {
   "authorship_tag": "ABX9TyMJpsSGofNBph/39yiMGcON",
   "collapsed_sections": [],
   "name": "04-01. RNN",
   "provenance": []
  },
  "kernelspec": {
   "display_name": "Python 3 (ipykernel)",
   "language": "python",
   "name": "python3"
  },
  "language_info": {
   "codemirror_mode": {
    "name": "ipython",
    "version": 3
   },
   "file_extension": ".py",
   "mimetype": "text/x-python",
   "name": "python",
   "nbconvert_exporter": "python",
   "pygments_lexer": "ipython3",
   "version": "3.7.11"
  },
  "varInspector": {
   "cols": {
    "lenName": 16,
    "lenType": 16,
    "lenVar": 40
   },
   "kernels_config": {
    "python": {
     "delete_cmd_postfix": "",
     "delete_cmd_prefix": "del ",
     "library": "var_list.py",
     "varRefreshCmd": "print(var_dic_list())"
    },
    "r": {
     "delete_cmd_postfix": ") ",
     "delete_cmd_prefix": "rm(",
     "library": "var_list.r",
     "varRefreshCmd": "cat(var_dic_list()) "
    }
   },
   "types_to_exclude": [
    "module",
    "function",
    "builtin_function_or_method",
    "instance",
    "_Feature"
   ],
   "window_display": false
  }
 },
 "nbformat": 4,
 "nbformat_minor": 1
}
