{
  "cells": [
    {
      "cell_type": "markdown",
      "id": "af8e6701",
      "metadata": {
        "id": "af8e6701"
      },
      "source": [
        "# 텍스트 전처리 기초 1\n",
        "\n",
        "220526\n"
      ]
    },
    {
      "cell_type": "markdown",
      "id": "d707e905",
      "metadata": {
        "heading_collapsed": true,
        "id": "d707e905"
      },
      "source": [
        "## 1) 자소 분리\n",
        "\n",
        "- 영어는 소문자(a\\~z), 대문자(A\\~Z)로 이루어진 알파벳 52자로 모든 글자 표현 가능\n",
        "\n",
        "- 한국어는 초성(ㄱ\\~ㅎ)+중성(ㅏ\\~ㅣ)+종성(ㄱ\\~ㅎ) 으로 이루어진 음절의 개수가 11,172개로 글자가 매우 많음. 연산량이 많이 필요\n",
        "\n",
        "- 때론 음절을 자모 단위로 분리하여 분석하는게 유리할 수 있음 "
      ]
    },
    {
      "cell_type": "code",
      "execution_count": null,
      "id": "d1a7e8f6",
      "metadata": {
        "hidden": true,
        "scrolled": true,
        "colab": {
          "base_uri": "https://localhost:8080/"
        },
        "id": "d1a7e8f6",
        "outputId": "83b3b110-b466-49ef-eceb-51e8a8bdc803"
      },
      "outputs": [
        {
          "output_type": "stream",
          "name": "stdout",
          "text": [
            "Looking in indexes: https://pypi.org/simple, https://us-python.pkg.dev/colab-wheels/public/simple/\n",
            "Collecting hgtk\n",
            "  Downloading hgtk-0.1.3.tar.gz (6.2 kB)\n",
            "Building wheels for collected packages: hgtk\n",
            "  Building wheel for hgtk (setup.py) ... \u001b[?25l\u001b[?25hdone\n",
            "  Created wheel for hgtk: filename=hgtk-0.1.3-py2.py3-none-any.whl size=6689 sha256=02be70490be797c5e92b69118aa791474a47de2db05d22f73e5f4b7bf336e2ad\n",
            "  Stored in directory: /root/.cache/pip/wheels/a6/e9/bc/524beb5222b11aa439a23a07be5bd8a559d266153103c37979\n",
            "Successfully built hgtk\n",
            "Installing collected packages: hgtk\n",
            "Successfully installed hgtk-0.1.3\n"
          ]
        }
      ],
      "source": [
        "# install\n",
        "!pip install hgtk"
      ]
    },
    {
      "cell_type": "markdown",
      "id": "0e2b3896",
      "metadata": {
        "heading_collapsed": true,
        "hidden": true,
        "id": "0e2b3896"
      },
      "source": [
        "#### 1.1) 자소분리 실습"
      ]
    },
    {
      "cell_type": "code",
      "execution_count": null,
      "id": "97371445",
      "metadata": {
        "hidden": true,
        "colab": {
          "base_uri": "https://localhost:8080/"
        },
        "id": "97371445",
        "outputId": "5a582872-1b1f-4e1b-8b89-6b90eb1789d4"
      },
      "outputs": [
        {
          "output_type": "execute_result",
          "data": {
            "text/plain": [
              "('ㄱ', 'ㅏ', 'ㅁ')"
            ]
          },
          "metadata": {},
          "execution_count": 2
        }
      ],
      "source": [
        "import hgtk\n",
        "# Decompose character\n",
        "hgtk.letter.decompose('감')"
      ]
    },
    {
      "cell_type": "code",
      "execution_count": null,
      "id": "f1b45cf1",
      "metadata": {
        "hidden": true,
        "colab": {
          "base_uri": "https://localhost:8080/",
          "height": 35
        },
        "id": "f1b45cf1",
        "outputId": "b9d988c6-74ad-4852-f45c-fa12bdc536f3"
      },
      "outputs": [
        {
          "output_type": "execute_result",
          "data": {
            "text/plain": [
              "'감'"
            ],
            "application/vnd.google.colaboratory.intrinsic+json": {
              "type": "string"
            }
          },
          "metadata": {},
          "execution_count": 3
        }
      ],
      "source": [
        "# Compose character\n",
        "hgtk.letter.compose('ㄱ', 'ㅏ', 'ㅁ')"
      ]
    },
    {
      "cell_type": "code",
      "execution_count": null,
      "id": "9d1ff674",
      "metadata": {
        "hidden": true,
        "colab": {
          "base_uri": "https://localhost:8080/",
          "height": 35
        },
        "id": "9d1ff674",
        "outputId": "dd10c01e-c7d2-46de-a2e3-eeddead116dc"
      },
      "outputs": [
        {
          "output_type": "execute_result",
          "data": {
            "text/plain": [
              "'ㅎㅏㄱᴥㄱㅛᴥㅈㅗㅇᴥㅇㅣᴥ ㄸㅐㅇᴥㄸㅐㅇᴥㄸㅐㅇᴥ! hello world 1234567890 ㅋᴥㅋᴥ!'"
            ],
            "application/vnd.google.colaboratory.intrinsic+json": {
              "type": "string"
            }
          },
          "metadata": {},
          "execution_count": 4
        }
      ],
      "source": [
        "# Decompose sentence\n",
        "hgtk.text.decompose('학교종이 땡땡땡! hello world 1234567890 ㅋㅋ!')"
      ]
    },
    {
      "cell_type": "code",
      "execution_count": null,
      "id": "2a8366ba",
      "metadata": {
        "hidden": true,
        "colab": {
          "base_uri": "https://localhost:8080/",
          "height": 35
        },
        "id": "2a8366ba",
        "outputId": "999cfc92-5920-44a0-fe5c-e7b2d271dd48"
      },
      "outputs": [
        {
          "output_type": "execute_result",
          "data": {
            "text/plain": [
              "'학교종이 땡땡땡! hello world 1234567890 ㅋㅋ!'"
            ],
            "application/vnd.google.colaboratory.intrinsic+json": {
              "type": "string"
            }
          },
          "metadata": {},
          "execution_count": 5
        }
      ],
      "source": [
        "# Compose sentence\n",
        "hgtk.text.compose('ㅎㅏㄱᴥㄱㅛᴥㅈㅗㅇᴥㅇㅣᴥ ㄸㅐㅇᴥㄸㅐㅇᴥㄸㅐㅇᴥ! hello world 1234567890 ㅋᴥㅋᴥ!')"
      ]
    },
    {
      "cell_type": "markdown",
      "id": "36be2d30",
      "metadata": {
        "heading_collapsed": true,
        "hidden": true,
        "id": "36be2d30"
      },
      "source": [
        "#### 1.2) 한글 텍스트 체크"
      ]
    },
    {
      "cell_type": "code",
      "execution_count": null,
      "id": "019c65f0",
      "metadata": {
        "hidden": true,
        "colab": {
          "base_uri": "https://localhost:8080/"
        },
        "id": "019c65f0",
        "outputId": "dd74d5a7-9315-4f2c-8b1e-5ea4d5a452e0"
      },
      "outputs": [
        {
          "output_type": "stream",
          "name": "stdout",
          "text": [
            "True\n",
            "False\n",
            "False\n"
          ]
        }
      ],
      "source": [
        "# 문장이 순수한 한글인지 체크\n",
        "print(hgtk.checker.is_hangul('한글입니다'))\n",
        "print(hgtk.checker.is_hangul('no한글입니다'))\n",
        "print(hgtk.checker.is_hangul('it is english'))"
      ]
    },
    {
      "cell_type": "code",
      "execution_count": null,
      "id": "f868c9d0",
      "metadata": {
        "hidden": true,
        "colab": {
          "base_uri": "https://localhost:8080/"
        },
        "id": "f868c9d0",
        "outputId": "10aa4583-3f48-40ed-b92b-2c3faa76a744"
      },
      "outputs": [
        {
          "output_type": "stream",
          "name": "stdout",
          "text": [
            "True\n",
            "False\n",
            "False\n"
          ]
        }
      ],
      "source": [
        "# 문장이 순수한 한자인지 체크\n",
        "print(hgtk.checker.is_hanja('大韓民國'))\n",
        "print(hgtk.checker.is_hanja('大한민국'))\n",
        "print(hgtk.checker.is_hanja('대한민국'))"
      ]
    },
    {
      "cell_type": "code",
      "execution_count": null,
      "id": "a2fbb156",
      "metadata": {
        "hidden": true,
        "colab": {
          "base_uri": "https://localhost:8080/"
        },
        "id": "a2fbb156",
        "outputId": "3054e5ce-73d9-4d72-8a0d-84163636236a"
      },
      "outputs": [
        {
          "output_type": "stream",
          "name": "stdout",
          "text": [
            "True\n",
            "False\n"
          ]
        }
      ],
      "source": [
        "# 문장이 순수한 영어인지 체크\n",
        "print(hgtk.checker.is_latin1('abcdefghijklmnopqrstuvwxyz'))\n",
        "print(hgtk.checker.is_latin1('한글latin1한'))"
      ]
    },
    {
      "cell_type": "code",
      "execution_count": null,
      "id": "3cd07d05",
      "metadata": {
        "hidden": true,
        "colab": {
          "base_uri": "https://localhost:8080/"
        },
        "id": "3cd07d05",
        "outputId": "da24400d-b9b4-4f35-bd37-417f18a1a117"
      },
      "outputs": [
        {
          "output_type": "stream",
          "name": "stdout",
          "text": [
            "True\n",
            "False\n"
          ]
        }
      ],
      "source": [
        "# 글자에 받침이 있는지 체크\n",
        "print(hgtk.checker.has_batchim('한'))  # 'ㄴ\n",
        "print(hgtk.checker.has_batchim('하'))"
      ]
    },
    {
      "cell_type": "code",
      "execution_count": null,
      "id": "5dffa935",
      "metadata": {
        "hidden": true,
        "colab": {
          "base_uri": "https://localhost:8080/"
        },
        "id": "5dffa935",
        "outputId": "c45f6159-7ba3-4b70-8375-68d7413c29cd"
      },
      "outputs": [
        {
          "output_type": "stream",
          "name": "stdout",
          "text": [
            "하늘은\n",
            "바다는\n",
            "하늘이\n",
            "바다가\n",
            "하늘을\n",
            "바다를\n",
            "하늘과\n",
            "바다와\n",
            "하늘이다\n",
            "바다다\n",
            "하늘로\n",
            "바다로\n",
            "태양으로\n",
            "방어율\n",
            "공격률\n",
            "반환율\n"
          ]
        }
      ],
      "source": [
        "# 조사 체크\n",
        "print(hgtk.josa.attach('하늘', hgtk.josa.EUN_NEUN))\n",
        "print(hgtk.josa.attach('바다', hgtk.josa.EUN_NEUN))\n",
        "print(hgtk.josa.attach('하늘', hgtk.josa.I_GA))\n",
        "print(hgtk.josa.attach('바다', hgtk.josa.I_GA))\n",
        "print(hgtk.josa.attach('하늘', hgtk.josa.EUL_REUL))\n",
        "print(hgtk.josa.attach('바다', hgtk.josa.EUL_REUL))\n",
        "print(hgtk.josa.attach('하늘', hgtk.josa.GWA_WA))\n",
        "print(hgtk.josa.attach('바다', hgtk.josa.GWA_WA))\n",
        "print(hgtk.josa.attach('하늘', hgtk.josa.IDA_DA))\n",
        "print(hgtk.josa.attach('바다', hgtk.josa.IDA_DA))\n",
        "print(hgtk.josa.attach('하늘', hgtk.josa.EURO_RO))\n",
        "print(hgtk.josa.attach('바다', hgtk.josa.EURO_RO))\n",
        "print(hgtk.josa.attach('태양', hgtk.josa.EURO_RO))\n",
        "print(hgtk.josa.attach('방어', hgtk.josa.RYUL_YUL))\n",
        "print(hgtk.josa.attach('공격', hgtk.josa.RYUL_YUL))\n",
        "print(hgtk.josa.attach('반환', hgtk.josa.RYUL_YUL))"
      ]
    },
    {
      "cell_type": "markdown",
      "id": "578bd476",
      "metadata": {
        "heading_collapsed": true,
        "id": "578bd476"
      },
      "source": [
        "## 2) 영어 언어 분석\n",
        "\n",
        "- 형태소 분석: 의미를 가지는 가장 최소의 단위\n",
        "    - 단어는 같지만, 품사에 따라 의미가 다르 경우가 존재\n",
        "    - '못'의 경우 명사로서는 망치를 사용해 목재 따위를 고정하는 물건을 뜻하지만, 부사로서는 '먹는다', '달린다'와 같은 동작 동사를 부정하는 의미로도 쓰임\n",
        "    - 단어의 의미 파악을 위해선 어떤 품사로 쓰였는지 제대로 파악이 필요\n",
        "\n",
        "- 구문 분석: 명사구, 동사구 등 문장을 tree로 만듦\n",
        "- 의미 분석: 같은 단어인 동의어를 주변 의미를 분석하여 컴퓨터가 분석할수 있도록\n",
        "- 화용 분석: 발화 맥락에 따라 지시체가 바뀌는 ‘나’, ‘지금’, ‘여기’연구. 상호참조해결\n",
        "- 담화 분석: 챗봇\n",
        "\n"
      ]
    },
    {
      "cell_type": "code",
      "execution_count": null,
      "id": "de6cc3fb",
      "metadata": {
        "code_folding": [
          0
        ],
        "hidden": true,
        "colab": {
          "base_uri": "https://localhost:8080/"
        },
        "id": "de6cc3fb",
        "outputId": "163d17ff-2475-4f2e-ba60-1edd117e6e29"
      },
      "outputs": [
        {
          "output_type": "stream",
          "name": "stdout",
          "text": [
            "[nltk_data] Downloading package punkt to /root/nltk_data...\n",
            "[nltk_data]   Unzipping tokenizers/punkt.zip.\n",
            "['My name is park.', 'How old are you.']\n"
          ]
        }
      ],
      "source": [
        "# 2.1) 문장 분리\n",
        "import nltk\n",
        "nltk.download('punkt')\n",
        "\n",
        "sentences=\"My name is park. How old are you.\"\n",
        "sen=nltk.sent_tokenize(sentences)\n",
        "print(sen)"
      ]
    },
    {
      "cell_type": "code",
      "execution_count": null,
      "id": "f6408b81",
      "metadata": {
        "code_folding": [
          0
        ],
        "hidden": true,
        "colab": {
          "base_uri": "https://localhost:8080/"
        },
        "id": "f6408b81",
        "outputId": "dd06c865-c7e4-4ec7-b690-d9e95f1b4f97"
      },
      "outputs": [
        {
          "output_type": "stream",
          "name": "stdout",
          "text": [
            "[nltk_data] Downloading package punkt to /root/nltk_data...\n",
            "[nltk_data]   Package punkt is already up-to-date!\n",
            "['My', 'name', 'is', 'park']\n"
          ]
        }
      ],
      "source": [
        "# 2.2) 어절 분리\n",
        "import nltk\n",
        "nltk.download('punkt')\n",
        "\n",
        "sentences=\"My name is park\"\n",
        "tokens=nltk.word_tokenize(sentences)\n",
        "print(tokens)"
      ]
    },
    {
      "cell_type": "markdown",
      "id": "21d1e092",
      "metadata": {
        "hidden": true,
        "id": "21d1e092"
      },
      "source": [
        "##### 어절 분리와 형태소 분석\n",
        "\n",
        "###### 영어의 띄어쓰기 \n",
        "- 영어는 복합명사(Machine Learning)나 Don't같은 줄임말만 잘 처리한다면 띄어쓰기 기준으로 토큰화를 해도 잘 작동\n",
        "- 대부분의 경우에서 단어 단위로 띄어쓰기가 이뤄지기 때문에 띄어쓰기 토큰화가 단어 토큰화와 거의 같음\n",
        "\n",
        "###### 한국어의 띄어쓰기\n",
        "- 한국어는 띄어쓰기 만으로는 토큰화가 어려움\n",
        "- '어절: 띄어쓰기의 단위\n",
        "- 한국어는 교착어(조사, 어미 등을 붙여 말을 만드는 언어)라서 어절이 독립적인 단어로 구성되는 것이 아니라 조사가 붙은 경우가 많아서 어절 토큰화와 단어 토큰화가 같지 않음!\n",
        "- 교착어 예시: '그' -> '그가', '그에게', '그를', '그와', '그는' 등 '그' 라는 의미있는 다어에 띄어쓰기 없이 붙어 다른 단어로 구분됨\n",
        "\n",
        "- 그러므로 한국어 NLP에선 조사를 분리해주는것이 필요\n",
        "\n",
        "###### 한국어 형태소(morpheme) 분석\n",
        "- 형태소\n",
        "    - 자립 형태소: 자립해서 사용할 수 있는 형태소. 자체가 단어\n",
        "        - 체언(명사, 대명사, 수사), 수식언(관형사, 부사), 감탄사 등\n",
        "    - 의존 형태소: 다른 형태소와 결합하여 사용되는 형태소\n",
        "        - 접사, 어미, 조사, 어간\n",
        "    - '우영이가 NLP를 공부한다'\n",
        "        - 띄어쓰기 단위 분절: ['우영이가', 'NLP를', '공부한다']\n",
        "        - 자립 형태소: '우영', 'NLP'\n",
        "        - 의존 형태소: '이가', '를', '공부', '한다'\n",
        "        - 형태소 단위 분절: ['우영', '이가', 'NLP', '를', '공부', '한다']\n",
        "\n"
      ]
    },
    {
      "cell_type": "code",
      "execution_count": null,
      "id": "8f32433d",
      "metadata": {
        "hidden": true,
        "colab": {
          "base_uri": "https://localhost:8080/"
        },
        "id": "8f32433d",
        "outputId": "ea47cd71-0aec-4b8d-d22a-d01676a19eea"
      },
      "outputs": [
        {
          "output_type": "stream",
          "name": "stdout",
          "text": [
            "[nltk_data] Downloading package averaged_perceptron_tagger to\n",
            "[nltk_data]     /root/nltk_data...\n",
            "[nltk_data]   Unzipping taggers/averaged_perceptron_tagger.zip.\n",
            "('Today', 'NN')\n",
            "(',', ',')\n",
            "('We', 'PRP')\n",
            "('do', 'VBP')\n",
            "(\"n't\", 'RB')\n",
            "('study', 'VB')\n",
            "('natural', 'JJ')\n",
            "('language', 'NN')\n",
            "('processing', 'NN')\n",
            "('too', 'RB')\n",
            "('hard', 'JJ')\n",
            "('!', '.')\n",
            "('!', '.')\n"
          ]
        }
      ],
      "source": [
        "# 3.3) 형태소 분석\n",
        "import nltk\n",
        "nltk.download('averaged_perceptron_tagger')\n",
        "\n",
        "sentence=\"Today, We don't study natural language processing too hard!!\"\n",
        "\n",
        "tokens=nltk.word_tokenize(sentence)\n",
        "tagged=nltk.pos_tag(tokens)\n",
        "\n",
        "for tmp in tagged:\n",
        "    print(tmp)"
      ]
    },
    {
      "cell_type": "markdown",
      "id": "444d94e2",
      "metadata": {
        "hidden": true,
        "id": "444d94e2"
      },
      "source": [
        "![](https://postfiles.pstatic.net/MjAyMTAzMThfMjEz/MDAxNjE2MDc4MDAwMjEy.TlY6Pe0PrTxT9u9JBjP7ZeHRtinJQw6RakQqlmPboqkg.ntHJqheAwTFMy_9TprH-X_40bfFqKdKbP-KPNxnf24Ug.PNG.nabilera1/image.png?type=w966)"
      ]
    },
    {
      "cell_type": "code",
      "execution_count": null,
      "id": "0be2acfa",
      "metadata": {
        "hidden": true,
        "colab": {
          "base_uri": "https://localhost:8080/"
        },
        "id": "0be2acfa",
        "outputId": "6df1481e-7cdb-4fe0-cbc8-0fc28df8a1c1"
      },
      "outputs": [
        {
          "output_type": "stream",
          "name": "stdout",
          "text": [
            "[nltk_data] Downloading package maxent_ne_chunker to\n",
            "[nltk_data]     /root/nltk_data...\n",
            "[nltk_data]   Unzipping chunkers/maxent_ne_chunker.zip.\n",
            "[nltk_data] Downloading package words to /root/nltk_data...\n",
            "[nltk_data]   Unzipping corpora/words.zip.\n",
            "(S\n",
            "  Today/NN\n",
            "  ,/,\n",
            "  We/PRP\n",
            "  do/VBP\n",
            "  n't/RB\n",
            "  study/VB\n",
            "  natural/JJ\n",
            "  language/NN\n",
            "  processing/NN\n",
            "  too/RB\n",
            "  hard/JJ\n",
            "  !/.\n",
            "  !/.)\n"
          ]
        }
      ],
      "source": [
        "# 3.4) 개체명 인식\n",
        "import nltk\n",
        "nltk.download('maxent_ne_chunker')\n",
        "nltk.download('words')\n",
        "\n",
        "sentence=\"Today, We don't study natural language processing too hard!!\"\n",
        "\n",
        "tokens=nltk.word_tokenize(sentence)\n",
        "tagged=nltk.pos_tag(tokens)\n",
        "entities=nltk.chunk.ne_chunk(tagged)\n",
        "\n",
        "print(entities)"
      ]
    },
    {
      "cell_type": "markdown",
      "id": "947cf0e7",
      "metadata": {
        "hidden": true,
        "id": "947cf0e7"
      },
      "source": [
        "#### 3.4) 개체명 인식\n",
        "\n",
        "개체명 인식(Named Entity Recognition)\n",
        "\n",
        "- 이름을 가진 개체(named entity)를 인식\n",
        "- 문맥을 파악하여 특정 단어가 미리 정해놓은 개체명에 해당되는지 인식      \n",
        "- ex) \"Wooyoung studied natural language process at the KAIST in Korea\"\n",
        "    - PERSON: Wooyoung\n",
        "    - ORGANIZATION: KAIST \n",
        "    - GPE: Korea\n",
        "    \n",
        "개체명을 태깅하기 위해서 앞서 품사 태깅(pos_tag) 선행 필요\n",
        "\n",
        "- Wooyoung: PERSON\n",
        "- KAIST: ORGANIZATION\n",
        "- Korea: 위치(GPE)\n",
        "\n",
        "로 개체명 수행 완료\n"
      ]
    },
    {
      "cell_type": "code",
      "execution_count": null,
      "id": "bfbc4fe1",
      "metadata": {
        "code_folding": [
          0
        ],
        "hidden": true,
        "colab": {
          "base_uri": "https://localhost:8080/"
        },
        "id": "bfbc4fe1",
        "outputId": "fca10c61-9092-4412-91d6-23d481133be2"
      },
      "outputs": [
        {
          "output_type": "stream",
          "name": "stdout",
          "text": [
            "[nltk_data] Downloading package maxent_ne_chunker to\n",
            "[nltk_data]     /root/nltk_data...\n",
            "[nltk_data]   Package maxent_ne_chunker is already up-to-date!\n",
            "[nltk_data] Downloading package words to /root/nltk_data...\n",
            "[nltk_data]   Package words is already up-to-date!\n",
            "(S\n",
            "  (PERSON Wooyoung/NNP)\n",
            "  studied/VBD\n",
            "  natural/JJ\n",
            "  language/NN\n",
            "  process/NN\n",
            "  at/IN\n",
            "  the/DT\n",
            "  (ORGANIZATION KAIST/NNP)\n",
            "  in/IN\n",
            "  (GPE Korea/NNP))\n"
          ]
        }
      ],
      "source": [
        "# 3.4) 개체명 인식\n",
        "import nltk\n",
        "nltk.download('maxent_ne_chunker')\n",
        "nltk.download('words')\n",
        "\n",
        "sentence=\"Wooyoung studied natural language process at the KAIST in Korea\"\n",
        "\n",
        "tokens=nltk.word_tokenize(sentence)\n",
        "tagged=nltk.pos_tag(tokens)\n",
        "entities=nltk.chunk.ne_chunk(tagged)\n",
        "\n",
        "print(entities)"
      ]
    },
    {
      "cell_type": "markdown",
      "id": "d518ed2d",
      "metadata": {
        "id": "d518ed2d"
      },
      "source": [
        "## 3) 한글 언어 분석"
      ]
    },
    {
      "cell_type": "markdown",
      "id": "fd4b155a",
      "metadata": {
        "heading_collapsed": true,
        "id": "fd4b155a"
      },
      "source": [
        "#### 3.1) 문장 분리"
      ]
    },
    {
      "cell_type": "code",
      "execution_count": null,
      "id": "9906cbaa",
      "metadata": {
        "hidden": true,
        "scrolled": true,
        "colab": {
          "base_uri": "https://localhost:8080/"
        },
        "id": "9906cbaa",
        "outputId": "e9660cd8-3faa-4bdf-9f83-d2929ce4a17a"
      },
      "outputs": [
        {
          "output_type": "stream",
          "name": "stdout",
          "text": [
            "Looking in indexes: https://pypi.org/simple, https://us-python.pkg.dev/colab-wheels/public/simple/\n",
            "Collecting kss\n",
            "  Downloading kss-3.4.2.tar.gz (42.4 MB)\n",
            "\u001b[K     |████████████████████████████████| 42.4 MB 1.3 MB/s \n",
            "\u001b[?25hCollecting emoji\n",
            "  Downloading emoji-1.7.0.tar.gz (175 kB)\n",
            "\u001b[K     |████████████████████████████████| 175 kB 11.3 MB/s \n",
            "\u001b[?25hRequirement already satisfied: regex in /usr/local/lib/python3.7/dist-packages (from kss) (2019.12.20)\n",
            "Requirement already satisfied: more_itertools in /usr/local/lib/python3.7/dist-packages (from kss) (8.13.0)\n",
            "Building wheels for collected packages: kss, emoji\n",
            "  Building wheel for kss (setup.py) ... \u001b[?25l\u001b[?25hdone\n",
            "  Created wheel for kss: filename=kss-3.4.2-py3-none-any.whl size=42448069 sha256=e03a41b0b85d464b24162bf35c482c0112a2653b2928dc38775c98cfb0ba946e\n",
            "  Stored in directory: /root/.cache/pip/wheels/ef/22/aa/6399b60516a067ec97fa6599fb2d472aeb25e3f9ee6dae3224\n",
            "  Building wheel for emoji (setup.py) ... \u001b[?25l\u001b[?25hdone\n",
            "  Created wheel for emoji: filename=emoji-1.7.0-py3-none-any.whl size=171046 sha256=f72b7d2c73530cb48072423334ac7637a0c4e58636eedcc8facee0497981259e\n",
            "  Stored in directory: /root/.cache/pip/wheels/8a/4e/b6/57b01db010d17ef6ea9b40300af725ef3e210cb1acfb7ac8b6\n",
            "Successfully built kss emoji\n",
            "Installing collected packages: emoji, kss\n",
            "Successfully installed emoji-1.7.0 kss-3.4.2\n",
            "Looking in indexes: https://pypi.org/simple, https://us-python.pkg.dev/colab-wheels/public/simple/\n",
            "Collecting kiwipiepy\n",
            "  Downloading kiwipiepy-0.12.0-cp37-cp37m-manylinux_2_12_x86_64.manylinux2010_x86_64.whl (1.4 MB)\n",
            "\u001b[K     |████████████████████████████████| 1.4 MB 4.8 MB/s \n",
            "\u001b[?25hCollecting kiwipiepy-model~=0.12\n",
            "  Downloading kiwipiepy_model-0.12.0.tar.gz (27.7 MB)\n",
            "\u001b[K     |████████████████████████████████| 27.7 MB 2.2 MB/s \n",
            "\u001b[?25hBuilding wheels for collected packages: kiwipiepy-model\n",
            "  Building wheel for kiwipiepy-model (setup.py) ... \u001b[?25l\u001b[?25hdone\n",
            "  Created wheel for kiwipiepy-model: filename=kiwipiepy_model-0.12.0-py3-none-any.whl size=27789677 sha256=cf1ba1102e2cfca9c552979ffaf6a50acfac4d59e8a722d86b7fc52d47bd4776\n",
            "  Stored in directory: /root/.cache/pip/wheels/da/30/65/0934400fe1c12633da117d661b7795ea83c2a224ddc71fb72e\n",
            "Successfully built kiwipiepy-model\n",
            "Installing collected packages: kiwipiepy-model, kiwipiepy\n",
            "Successfully installed kiwipiepy-0.12.0 kiwipiepy-model-0.12.0\n"
          ]
        }
      ],
      "source": [
        "# 한국어 문장분리 라이브러리 설치\n",
        "!pip install kss\n",
        "!pip install kiwipiepy"
      ]
    },
    {
      "cell_type": "code",
      "execution_count": null,
      "id": "601b4823",
      "metadata": {
        "code_folding": [
          0
        ],
        "hidden": true,
        "colab": {
          "base_uri": "https://localhost:8080/"
        },
        "id": "601b4823",
        "outputId": "921bcd83-efa3-4a3b-f1ff-ed5961029b0c"
      },
      "outputs": [
        {
          "output_type": "stream",
          "name": "stdout",
          "text": [
            "자연어처리 공부를 시작해 볼까요? 텍스트는 비정형 데이터로 정형화 하기 위해 많은 노력이 필요합니다. 하지만 우리 포기하지 말고 끝까지 공부해봐요!! \n",
            "=>\n",
            "자연어처리 공부를 시작해 볼까요?\n",
            "텍스트는 비정형 데이터로 정형화 하기 위해 많은 노력이 필요합니다.\n",
            "하지만 우리 포기하지 말고 끝까지 공부해봐요!!\n"
          ]
        }
      ],
      "source": [
        "## 3.1) kiwi를 이용한 문장분리\n",
        "from kiwipiepy import Kiwi\n",
        "kiwi = Kiwi()\n",
        "\n",
        "sentences = '자연어처리 공부를 시작해 볼까요? 텍스트는 비정형 데이터로 정형화 하기 위해 많은 노력이 필요합니다. 하지만 우리 포기하지 말고 끝까지 공부해봐요!!'\n",
        "\n",
        "result_kiwi = kiwi.split_into_sents(sentences)\n",
        "sentence_tokenized_text = []\n",
        "for sent in result_kiwi:\n",
        "    sentence_tokenized_text.append(sent.text)\n",
        "\n",
        "print(sentences, '\\n=>')\n",
        "for tmp in sentence_tokenized_text:\n",
        "    print(tmp)"
      ]
    },
    {
      "cell_type": "markdown",
      "id": "aa1889f3",
      "metadata": {
        "heading_collapsed": true,
        "id": "aa1889f3"
      },
      "source": [
        "#### 3.2) konlpy를 이용한 형태소 분석"
      ]
    },
    {
      "cell_type": "code",
      "execution_count": null,
      "id": "1f4f1be3",
      "metadata": {
        "hidden": true,
        "colab": {
          "base_uri": "https://localhost:8080/"
        },
        "id": "1f4f1be3",
        "outputId": "2bfee3c5-b804-417c-89d4-0c7387b560e8"
      },
      "outputs": [
        {
          "output_type": "stream",
          "name": "stdout",
          "text": [
            "Looking in indexes: https://pypi.org/simple, https://us-python.pkg.dev/colab-wheels/public/simple/\n",
            "Collecting konlpy\n",
            "  Downloading konlpy-0.6.0-py2.py3-none-any.whl (19.4 MB)\n",
            "\u001b[K     |████████████████████████████████| 19.4 MB 126 kB/s \n",
            "\u001b[?25hRequirement already satisfied: numpy>=1.6 in /usr/local/lib/python3.7/dist-packages (from konlpy) (1.21.6)\n",
            "Collecting JPype1>=0.7.0\n",
            "  Downloading JPype1-1.4.0-cp37-cp37m-manylinux_2_5_x86_64.manylinux1_x86_64.whl (453 kB)\n",
            "\u001b[K     |████████████████████████████████| 453 kB 39.9 MB/s \n",
            "\u001b[?25hRequirement already satisfied: lxml>=4.1.0 in /usr/local/lib/python3.7/dist-packages (from konlpy) (4.2.6)\n",
            "Requirement already satisfied: typing-extensions in /usr/local/lib/python3.7/dist-packages (from JPype1>=0.7.0->konlpy) (4.2.0)\n",
            "Installing collected packages: JPype1, konlpy\n",
            "Successfully installed JPype1-1.4.0 konlpy-0.6.0\n"
          ]
        }
      ],
      "source": [
        "# install\n",
        "!python -m pip install konlpy  # https://konlpy.org/ko/v0.5.2/install/#ubuntu"
      ]
    },
    {
      "cell_type": "code",
      "execution_count": null,
      "id": "a39cebdb",
      "metadata": {
        "hidden": true,
        "id": "a39cebdb"
      },
      "outputs": [],
      "source": [
        "sentence = '텍스트는 비정형 데이터로 정형화 하기 위해 많은 노력이 필요합니다.'"
      ]
    },
    {
      "cell_type": "code",
      "execution_count": null,
      "id": "bb9e0b66",
      "metadata": {
        "code_folding": [
          0
        ],
        "hidden": true,
        "colab": {
          "base_uri": "https://localhost:8080/"
        },
        "id": "bb9e0b66",
        "outputId": "df8e0596-8a08-4d97-8aad-62a049e56ad5"
      },
      "outputs": [
        {
          "output_type": "stream",
          "name": "stdout",
          "text": [
            "## 1) Okt\n",
            "\n",
            "- 형태소 추출\n",
            "['텍스트', '는', '비정', '형', '데이터', '로', '정형', '화', '하기', '위해', '많은', '노력', '이', '필요합니다', '.']\n",
            "\n",
            "- 품사 태깅\n",
            "[('텍스트', 'Noun'), ('는', 'Josa'), ('비정', 'Noun'), ('형', 'Suffix'), ('데이터', 'Noun'), ('로', 'Josa'), ('정형', 'Noun'), ('화', 'Suffix'), ('하기', 'Verb'), ('위해', 'Noun'), ('많은', 'Adjective'), ('노력', 'Noun'), ('이', 'Josa'), ('필요합니다', 'Adjective'), ('.', 'Punctuation')]\n",
            "\n",
            "- 명사 추출\n",
            "['텍스트', '비정', '데이터', '정형', '위해', '노력']\n"
          ]
        }
      ],
      "source": [
        "# Okt\n",
        "from konlpy.tag import Okt\n",
        "okt = Okt()\n",
        "\n",
        "print('## 1) Okt\\n')\n",
        "print('- 형태소 추출\\n%s\\n'%okt.morphs(sentence))\n",
        "print('- 품사 태깅\\n%s\\n'%okt.pos(sentence))\n",
        "print('- 명사 추출\\n%s'%okt.nouns(sentence))"
      ]
    },
    {
      "cell_type": "code",
      "execution_count": null,
      "id": "dc882da6",
      "metadata": {
        "code_folding": [
          0
        ],
        "hidden": true,
        "colab": {
          "base_uri": "https://localhost:8080/"
        },
        "id": "dc882da6",
        "outputId": "57893b8b-a822-4541-d1a2-35e81db1639b"
      },
      "outputs": [
        {
          "output_type": "stream",
          "name": "stdout",
          "text": [
            "## 2) Hannanum\n",
            "\n",
            "- 형태소 분석\n",
            "['텍스트', '는', '비정형', '데이터', '로', '정형화', '하', '기', '위하', '어', '많', '은', '노력', '이', '필요', '하', 'ㅂ니다', '.']\n",
            "\n",
            "- 품사 태깅\n",
            "[('텍스트', 'N'), ('는', 'J'), ('비정형', 'N'), ('데이터', 'N'), ('로', 'J'), ('정형화', 'N'), ('하', 'P'), ('기', 'E'), ('위하', 'P'), ('어', 'E'), ('많', 'P'), ('은', 'E'), ('노력', 'N'), ('이', 'J'), ('필요', 'N'), ('하', 'X'), ('ㅂ니다', 'E'), ('.', 'S')]\n",
            "\n",
            "- 명사 추출\n",
            "['텍스트', '비정형', '데이터', '정형화', '노력', '필요']\n"
          ]
        }
      ],
      "source": [
        "# Hannanum\n",
        "from konlpy.tag import Hannanum\n",
        "hannanum = Hannanum()\n",
        "\n",
        "print('## 2) Hannanum\\n')\n",
        "print('- 형태소 분석\\n%s\\n'%hannanum.morphs(sentence))\n",
        "print('- 품사 태깅\\n%s\\n'%hannanum.pos(sentence))\n",
        "print('- 명사 추출\\n%s'%hannanum.nouns(sentence))"
      ]
    },
    {
      "cell_type": "code",
      "execution_count": null,
      "id": "8da630a3",
      "metadata": {
        "code_folding": [
          0
        ],
        "hidden": true,
        "colab": {
          "base_uri": "https://localhost:8080/"
        },
        "id": "8da630a3",
        "outputId": "6db9d234-fec7-41a0-cd2b-1b13f3a72da1"
      },
      "outputs": [
        {
          "output_type": "stream",
          "name": "stdout",
          "text": [
            "## 3) Kkma\n",
            "\n",
            "- 형태소 분석\n",
            "['텍스트', '는', '비정형', '데이터', '로', '정형', '화', '하', '기', '위하', '어', '많', '은', '노력', '이', '필요', '하', 'ㅂ니다', '.']\n",
            "\n",
            "- 품사 태깅\n",
            "[('텍스트', 'NNG'), ('는', 'JX'), ('비정형', 'NNG'), ('데이터', 'NNG'), ('로', 'JKM'), ('정형', 'NNG'), ('화', 'XSN'), ('하', 'VV'), ('기', 'ETN'), ('위하', 'VV'), ('어', 'ECS'), ('많', 'VA'), ('은', 'ETD'), ('노력', 'NNG'), ('이', 'JKS'), ('필요', 'NNG'), ('하', 'XSV'), ('ㅂ니다', 'EFN'), ('.', 'SF')]\n",
            "\n",
            "- 명사 추출\n",
            "['텍스트', '비정형', '데이터', '정형', '노력', '필요']\n"
          ]
        }
      ],
      "source": [
        "# Kkma\n",
        "from konlpy.tag import Kkma\n",
        "kkma = Kkma()\n",
        "\n",
        "print('## 3) Kkma\\n')\n",
        "print('- 형태소 분석\\n%s\\n'%kkma.morphs(sentence))\n",
        "print('- 품사 태깅\\n%s\\n'%kkma.pos(sentence))\n",
        "print('- 명사 추출\\n%s'%kkma.nouns(sentence))"
      ]
    },
    {
      "cell_type": "code",
      "execution_count": null,
      "id": "396ba7ca",
      "metadata": {
        "code_folding": [
          0
        ],
        "hidden": true,
        "colab": {
          "base_uri": "https://localhost:8080/"
        },
        "id": "396ba7ca",
        "outputId": "853d6ea6-dcdd-4d67-b4e4-474c3e941606"
      },
      "outputs": [
        {
          "output_type": "stream",
          "name": "stdout",
          "text": [
            "## komoran\n",
            "\n",
            "- 형태소 분석\n",
            "['텍스트', '는', '비', '정형', '데이터', '로', '정형', '화', '하', '기', '위하', '아', '많', '은', '노력', '이', '필요', '하', 'ㅂ니다', '.']\n",
            "\n",
            "- 품사 태깅\n",
            "[('텍스트', 'NNP'), ('는', 'JX'), ('비', 'XPN'), ('정형', 'NNG'), ('데이터', 'NNG'), ('로', 'JKB'), ('정형', 'NNG'), ('화', 'XSN'), ('하', 'VV'), ('기', 'ETN'), ('위하', 'VV'), ('아', 'EC'), ('많', 'VA'), ('은', 'ETM'), ('노력', 'NNG'), ('이', 'JKS'), ('필요', 'NNG'), ('하', 'XSV'), ('ㅂ니다', 'EF'), ('.', 'SF')]\n",
            "\n",
            "- 명사 추출\n",
            "['텍스트', '정형', '데이터', '정형', '노력', '필요']\n"
          ]
        }
      ],
      "source": [
        "# Komoran\n",
        "from konlpy.tag import Komoran\n",
        "komoran = Komoran()\n",
        "\n",
        "print('## komoran\\n')\n",
        "print('- 형태소 분석\\n%s\\n'%komoran.morphs(sentence))\n",
        "print('- 품사 태깅\\n%s\\n'%komoran.pos(sentence))\n",
        "print('- 명사 추출\\n%s'%komoran.nouns(sentence))"
      ]
    },
    {
      "cell_type": "markdown",
      "id": "fcd9e671",
      "metadata": {
        "hidden": true,
        "id": "fcd9e671"
      },
      "source": [
        "##### 결과 비교 - Okt가 단어를 글자단위로 분해해서 적절해 보인다\n",
        "\n",
        "- Okt(11.2s/1000sentence)\n",
        "    - ['텍스트', '는', '비정', '형', '데이터', '로', '정형', '화', '하기', '위해', '많은', '노력', '이', '필요합니다', '.']  \n",
        "\n",
        "- Hannanum(6.87s/1000sentence)\n",
        "    - ['텍스트', '는', '비정형', '데이터', '로', '정형화', '하', '기', '위하', '어', '많', '은', '노력', '이', '필요', '하', 'ㅂ니다', '.']  \n",
        "\n",
        "- Kkma(1min 57s/1000sentence)\n",
        "    - ['텍스트', '는', '비정형', '데이터', '로', '정형', '화', '하', '기', '위하', '어', '많', '은', '노력', '이', '필요', '하', 'ㅂ니다', '.']\n",
        "\n",
        "- komoran(3.23/1000sentence)\n",
        "    - ['텍스트', '는', '비', '정형', '데이터', '로', '정형', '화', '하', '기', '위하', '아', '많', '은', '노력', '이', '필요', '하', 'ㅂ니다', '.']\n",
        "\n",
        "\n"
      ]
    },
    {
      "cell_type": "markdown",
      "id": "0b20b11e",
      "metadata": {
        "heading_collapsed": true,
        "id": "0b20b11e"
      },
      "source": [
        "#### 3.3) Stemming (어간 추출)\n",
        "\n",
        "- 어간/어미\n",
        "    - 어간(stem): 용언의 활용 시 변하지 않는 부분, (~=식물의 줄기)\n",
        "    - 어미(ending): 용언의 활용시 어간 뒤에 붙어서 변하는 부분\n",
        "    - 규칙 활용: 어간이 어미를 취할 때, 어간과 어미의 형태가 둘다 변하지 않거나 규칙적으로 변하는 활용\n",
        "        - 가(다) + 니 -> 가니\n",
        "        - 먹(다) + 고 -> 먹고\n",
        "        - 울- + 니 -> 우니(ㄹ탈락)\n",
        "        - 치르(다) + 어 -> 치러(ㅡ탈락)\n",
        "        - 쓰(다) + 어 -> 써(ㅡ탈락)\n",
        "    - 불규칙 활용: 어간이나 어미의 모습이 변하는 활용\n",
        "        - 어간이 변하는 경우\n",
        "            - 긋(다) + 어 -> 그어\n",
        "            - 걷(다) + 어 -> 걸어\n",
        "            - 흐르(다) + 어 -> 흘러\n",
        "        - 어미가 변하는 경우\n",
        "            - 하(다) + 어 -> 하여\n",
        "        - 어간+어미 모두 변하는 경우\n",
        "            - 파랗(다) + 아 -> 파래\n",
        "\n",
        "    - ex) (1) 동사: ***먹***다, ***먹***고, ***먹***니, ***먹***지, ***먹***으며, ***먹***어서\n",
        "    - ex) (2) 형용사: ***예쁘***다, ***예쁘***고, ***예쁘***니, ***예쁘***지\n",
        "\n",
        "- Stemming: 어절에서 어간 추출\n",
        "    - 용언에서 어미를 제외하고 어간을 추출\n",
        "    - ex) 'going' -> 'go\n",
        "    - ex) 'Computers' -> 'Comput'"
      ]
    },
    {
      "cell_type": "code",
      "execution_count": null,
      "id": "a2d7f7a5",
      "metadata": {
        "code_folding": [
          0
        ],
        "hidden": true,
        "colab": {
          "base_uri": "https://localhost:8080/"
        },
        "id": "a2d7f7a5",
        "outputId": "715f99a9-79d9-404b-cde1-f4a7f0154063"
      },
      "outputs": [
        {
          "output_type": "stream",
          "name": "stdout",
          "text": [
            "concentration -> concentr\n",
            "computer -> comput\n",
            "electronic -> electron\n",
            "are -> are\n"
          ]
        }
      ],
      "source": [
        "# 3.3) 영어 stemming\n",
        "from nltk.stem import PorterStemmer\n",
        "stemmer = PorterStemmer()\n",
        "\n",
        "word = 'concentration'\n",
        "stemmed_word = stemmer.stem(word)\n",
        "print('%s -> %s'%(word, stemmed_word))\n",
        "\n",
        "word = 'computer'\n",
        "stemmed_word = stemmer.stem(word)\n",
        "print('%s -> %s'%(word, stemmed_word))\n",
        "\n",
        "word = 'electronic'\n",
        "stemmed_word = stemmer.stem(word)\n",
        "print('%s -> %s'%(word, stemmed_word))\n",
        "\n",
        "word = 'are'\n",
        "stemmed_word = stemmer.stem(word)\n",
        "print('%s -> %s'%(word, stemmed_word))"
      ]
    },
    {
      "cell_type": "code",
      "execution_count": null,
      "id": "2ba482bd",
      "metadata": {
        "code_folding": [
          0
        ],
        "hidden": true,
        "colab": {
          "base_uri": "https://localhost:8080/"
        },
        "id": "2ba482bd",
        "outputId": "295108cd-010a-4bd9-dad3-aa07679e349a"
      },
      "outputs": [
        {
          "output_type": "stream",
          "name": "stdout",
          "text": [
            "[('먹다', 'Verb')]\n",
            "[('예쁘다', 'Adjective')]\n"
          ]
        }
      ],
      "source": [
        "# 3.3) 한국어 stemming\n",
        "from konlpy.tag import Okt\n",
        "okt = Okt()\n",
        "\n",
        "print(okt.pos('먹어서', stem=True))\n",
        "print(okt.pos('예쁘지', stem=True))"
      ]
    },
    {
      "cell_type": "markdown",
      "id": "cd456f25",
      "metadata": {
        "id": "cd456f25"
      },
      "source": [
        "#### 3.4) Lemmatization (표제어 추출)\n",
        "\n",
        "- 표제어(Lemma)는 한글로는 '표제어' 또는 '기본 사전형 단어' 정도의 의미\n",
        "- 원형 추출\n",
        "- ex) 'am, is, are' -> 'be'(표제어)\n",
        "- ex) 'taken' -> 'take'(표제어)\n",
        "\n",
        "1) 어간(stem)\n",
        ": 단어의 의미를 담고 있는 단어의 핵심 부분.\n",
        "\n",
        "2) 접사(affix)\n",
        ": 단어에 추가적인 의미를 주는 부분.\n",
        "\n",
        "hand + -s -> hands"
      ]
    },
    {
      "cell_type": "code",
      "execution_count": null,
      "id": "18fc6ccf",
      "metadata": {
        "code_folding": [
          0
        ],
        "colab": {
          "base_uri": "https://localhost:8080/"
        },
        "id": "18fc6ccf",
        "outputId": "ed17ac72-c729-479e-c97c-cff72288750b"
      },
      "outputs": [
        {
          "output_type": "stream",
          "name": "stdout",
          "text": [
            "[nltk_data] Downloading package wordnet to /root/nltk_data...\n",
            "[nltk_data]   Unzipping corpora/wordnet.zip.\n",
            "[nltk_data] Downloading package omw-1.4 to /root/nltk_data...\n",
            "[nltk_data]   Unzipping corpora/omw-1.4.zip.\n",
            "표제어 추출 전 : ['am', 'is', 'are', 'taken']\n",
            "표제어 추출 후 : ['be', 'be', 'be', 'take']\n"
          ]
        }
      ],
      "source": [
        "# 3.4) 영어 Lemmatization\n",
        "import nltk\n",
        "from nltk.stem import WordNetLemmatizer\n",
        "nltk.download('wordnet')\n",
        "nltk.download('omw-1.4')\n",
        "\n",
        "lemmatizer = WordNetLemmatizer()\n",
        "\n",
        "words = ['am', 'is', 'are', 'taken']\n",
        "\n",
        "print('표제어 추출 전 :',words)\n",
        "print('표제어 추출 후 :',[lemmatizer.lemmatize(word, pos='v') for word in words])"
      ]
    },
    {
      "cell_type": "code",
      "execution_count": null,
      "id": "0f45807d",
      "metadata": {
        "colab": {
          "base_uri": "https://localhost:8080/"
        },
        "id": "0f45807d",
        "outputId": "1b2dc689-21e6-47c0-8429-a8abb3996a95"
      },
      "outputs": [
        {
          "output_type": "execute_result",
          "data": {
            "text/plain": [
              "[('피', 'NNG'),\n",
              " ('와', 'JKM'),\n",
              " ('돈', 'NNG'),\n",
              " ('으로', 'JKM'),\n",
              " ('얼룩지', 'VV'),\n",
              " ('ㄴ', 'ETD'),\n",
              " ('가문', 'NNG'),\n",
              " ('의', 'JKG'),\n",
              " ('영광', 'NNG'),\n",
              " ('이', 'VCP'),\n",
              " ('라', 'ECD'),\n",
              " ('캐서린', 'NNG'),\n",
              " ('무섭', 'VA'),\n",
              " ('ㄴ', 'ETD'),\n",
              " ('요부', 'NNG'),\n",
              " ('요', 'NNG'),\n",
              " ('킬러', 'NNG'),\n",
              " ('이', 'VCP'),\n",
              " ('다', 'EFN')]"
            ]
          },
          "metadata": {},
          "execution_count": 27
        }
      ],
      "source": [
        "# 3.4) 한글 Lemmatization\n",
        "# Kkma\n",
        "from konlpy.tag import Kkma\n",
        "kkma = Kkma()\n",
        "\n",
        "kkma.pos(\"피와 돈으로 얼룩진 가문의 영광이라 캐서린 무서운 요부요 킬러다\")"
      ]
    },
    {
      "cell_type": "markdown",
      "id": "85f74344",
      "metadata": {
        "heading_collapsed": true,
        "id": "85f74344"
      },
      "source": [
        "#### 3.5) Stemming VS Lemmatization\n",
        "\n",
        "###### Stemming: [change, changing, changes, changed] -> 'chang'\n",
        "###### Lemmatization: [change, changing, changes, changed] -> 'change'"
      ]
    },
    {
      "cell_type": "markdown",
      "id": "785d8c31",
      "metadata": {
        "id": "785d8c31"
      },
      "source": [
        "#### 3.6) Stopword (불용어)\n",
        "\n",
        "불용어는 인터넷 검색 시 검색 용어로 사용하지 않는 단어. 관사, 전치사, 조사, 접속사 등 검색 색인 단어로 의미가 없는 단어입니다.\n",
        "\n",
        "영어에 불용어의 종류로는 이렇게 많은 단어들이 있으며 대부분 검색 시 의미없는 단어들입니다.\n",
        "\n",
        "['a', 'about', 'above', 'after', 'again', 'against', 'ain', 'all', 'am', 'an', 'and', 'any', 'are', 'aren', \"aren't\", 'as', 'at', 'be', 'because', 'been', 'before', 'being', 'below', 'between', 'both', 'but', 'by', 'can', 'couldn', \"couldn't\", 'd', 'did', 'didn', \"didn't\", 'do', 'does', 'doesn', \"doesn't\", 'doing', 'don', \"don't\", 'down', 'during', 'each', 'few', 'for', 'from', 'further', 'had', 'hadn', \"hadn't\", 'has', 'hasn', \"hasn't\", 'have', 'haven', \"haven't\", 'having', 'he', 'her', 'here', 'hers', 'herself', 'him', 'himself', 'his', 'how', 'i', 'if', 'in', 'into', 'is', 'isn', \"isn't\", 'it', \"it's\", 'its', 'itself', 'just', 'll', 'm', 'ma', 'me', 'mightn', \"mightn't\", 'more', 'most', 'mustn', \"mustn't\", 'my', 'myself', 'needn', \"needn't\", 'no', 'nor', 'not', 'now', 'o', 'of', 'off', 'on', 'once', 'only', 'or', 'other', 'our', 'ours', 'ourselves', 'out', 'over', 'own', 're', 's', 'same', 'shan', \"shan't\", 'she', \"she's\", 'should', \"should've\", 'shouldn', \"shouldn't\", 'so', 'some', 'such', 't', 'than', 'that', \"that'll\", 'the', 'their', 'theirs', 'them', 'themselves', 'then', 'there', 'these', 'they', 'this', 'those', 'through', 'to', 'too', 'under', 'until', 'up', 've', 'very', 'was', 'wasn', \"wasn't\", 'we', 'were', 'weren', \"weren't\", 'what', 'when', 'where', 'which', 'while', 'who', 'whom', 'why', 'will', 'with', 'won', \"won't\", 'wouldn', \"wouldn't\", 'y', 'you', \"you'd\", \"you'll\", \"you're\", \"you've\", 'your', 'yours', 'yourself', 'yourselves']"
      ]
    },
    {
      "cell_type": "code",
      "execution_count": null,
      "id": "83068317",
      "metadata": {
        "code_folding": [
          0
        ],
        "colab": {
          "base_uri": "https://localhost:8080/"
        },
        "id": "83068317",
        "outputId": "fcf7e862-3a61-42ea-e6ec-98e2f13a83ea"
      },
      "outputs": [
        {
          "output_type": "stream",
          "name": "stdout",
          "text": [
            "[nltk_data] Downloading package stopwords to /root/nltk_data...\n",
            "[nltk_data]   Unzipping corpora/stopwords.zip.\n",
            "['a', 'about', 'above', 'after', 'again', 'against', 'ain', 'all', 'am', 'an', 'and', 'any', 'are', 'aren', \"aren't\", 'as', 'at', 'be', 'because', 'been', 'before', 'being', 'below', 'between', 'both', 'but', 'by', 'can', 'couldn', \"couldn't\", 'd', 'did', 'didn', \"didn't\", 'do', 'does', 'doesn', \"doesn't\", 'doing', 'don', \"don't\", 'down', 'during', 'each', 'few', 'for', 'from', 'further', 'had', 'hadn', \"hadn't\", 'has', 'hasn', \"hasn't\", 'have', 'haven', \"haven't\", 'having', 'he', 'her', 'here', 'hers', 'herself', 'him', 'himself', 'his', 'how', 'i', 'if', 'in', 'into', 'is', 'isn', \"isn't\", 'it', \"it's\", 'its', 'itself', 'just', 'll', 'm', 'ma', 'me', 'mightn', \"mightn't\", 'more', 'most', 'mustn', \"mustn't\", 'my', 'myself', 'needn', \"needn't\", 'no', 'nor', 'not', 'now', 'o', 'of', 'off', 'on', 'once', 'only', 'or', 'other', 'our', 'ours', 'ourselves', 'out', 'over', 'own', 're', 's', 'same', 'shan', \"shan't\", 'she', \"she's\", 'should', \"should've\", 'shouldn', \"shouldn't\", 'so', 'some', 'such', 't', 'than', 'that', \"that'll\", 'the', 'their', 'theirs', 'them', 'themselves', 'then', 'there', 'these', 'they', 'this', 'those', 'through', 'to', 'too', 'under', 'until', 'up', 've', 'very', 'was', 'wasn', \"wasn't\", 'we', 'were', 'weren', \"weren't\", 'what', 'when', 'where', 'which', 'while', 'who', 'whom', 'why', 'will', 'with', 'won', \"won't\", 'wouldn', \"wouldn't\", 'y', 'you', \"you'd\", \"you'll\", \"you're\", \"you've\", 'your', 'yours', 'yourself', 'yourselves']\n"
          ]
        }
      ],
      "source": [
        "# 3.6) 영어 불용어\n",
        "import nltk\n",
        "from nltk.corpus import stopwords\n",
        "nltk.download('stopwords')\n",
        "\n",
        "stop_word = sorted(set(stopwords.words('english')))\n",
        "print(stop_word)"
      ]
    },
    {
      "cell_type": "code",
      "execution_count": null,
      "id": "c58b02f7",
      "metadata": {
        "code_folding": [
          0
        ],
        "colab": {
          "base_uri": "https://localhost:8080/"
        },
        "id": "c58b02f7",
        "outputId": "8eb5f0f3-0ebc-4c3e-e95f-8d5ad6ce662c"
      },
      "outputs": [
        {
          "output_type": "stream",
          "name": "stdout",
          "text": [
            "\n",
            "## 원문\n",
            " ['Wooyoung', 'studied', 'natural', 'language', 'process', 'at', 'the', 'KAIST', 'in', 'Korea']\n",
            "\n",
            "## 원문 - 불용어\n",
            " ['Wooyoung', 'studied', 'natural', 'language', 'process', 'KAIST', 'Korea']\n",
            "\n",
            "## 불용어\n",
            " ['at', 'the', 'in']\n"
          ]
        }
      ],
      "source": [
        "# 3.6) 불용어 적용\n",
        "sentence=\"Wooyoung studied natural language process at the KAIST in Korea\"\n",
        "tokens = nltk.word_tokenize(sentence)\n",
        "\n",
        "clean_tokens, extracted_stop_word = [], []\n",
        "for tok in tokens:\n",
        "    if (tok.lower() not in stop_word):\n",
        "        clean_tokens.append(tok)\n",
        "    else:\n",
        "        extracted_stop_word.append(tok)\n",
        "\n",
        "print(\"\\n## 원문\\n\", tokens)\n",
        "print(\"\\n## 원문 - 불용어\\n\", clean_tokens)\n",
        "print(\"\\n## 불용어\\n\", extracted_stop_word)"
      ]
    },
    {
      "cell_type": "markdown",
      "id": "5ee0af1b",
      "metadata": {
        "id": "5ee0af1b"
      },
      "source": [
        "#### 3.7) 명사&동사 추출"
      ]
    },
    {
      "cell_type": "code",
      "execution_count": null,
      "id": "cd542002",
      "metadata": {
        "code_folding": [
          0
        ],
        "colab": {
          "base_uri": "https://localhost:8080/"
        },
        "id": "cd542002",
        "outputId": "6c09574a-47a5-4c11-fe2a-687f0048bb39"
      },
      "outputs": [
        {
          "output_type": "stream",
          "name": "stdout",
          "text": [
            "[nltk_data] Downloading package punkt to /root/nltk_data...\n",
            "[nltk_data]   Package punkt is already up-to-date!\n",
            "[nltk_data] Downloading package averaged_perceptron_tagger to\n",
            "[nltk_data]     /root/nltk_data...\n",
            "[nltk_data]   Package averaged_perceptron_tagger is already up-to-\n",
            "[nltk_data]       date!\n",
            "## pos tagging result\n",
            " [('Wooyoung', 'NNP'), ('studied', 'VBD'), ('natural', 'JJ'), ('language', 'NN'), ('process', 'NN'), ('at', 'IN'), ('the', 'DT'), ('KAIST', 'NNP'), ('in', 'IN'), ('Korea', 'NNP')]\n",
            "\n",
            "## extract only noun\n",
            " ['language', 'processing']\n",
            "\n",
            "## extract only verb\n",
            " ['do', 'study']\n"
          ]
        }
      ],
      "source": [
        "## 3.7) 영어 명사&동사 추출\n",
        "import nltk\n",
        "nltk.download('punkt')\n",
        "nltk.download('averaged_perceptron_tagger')\n",
        "\n",
        "sentence = 'Hopely, We do not study natural language processing too hard!!'\n",
        "\n",
        "tokens = nltk.word_tokenize(sentence)\n",
        "list_pos = nltk.pos_tag(tokens)\n",
        "\n",
        "# extract noun & verb\n",
        "list_only_noun = [word for word, pos in list_pos if pos in ['NN', 'NNP'] ]\n",
        "list_only_verb = [word for word, pos in list_pos if pos in ['VBZ','VBD', 'VBP', 'VB'] ]\n",
        "\n",
        "print('## pos tagging result\\n', tagged)\n",
        "print('\\n## extract only noun\\n', list_only_noun)\n",
        "print('\\n## extract only verb\\n', list_only_verb)"
      ]
    },
    {
      "cell_type": "code",
      "execution_count": null,
      "id": "b4dc9084",
      "metadata": {
        "code_folding": [
          0
        ],
        "colab": {
          "base_uri": "https://localhost:8080/"
        },
        "id": "b4dc9084",
        "outputId": "d9a3e5c2-ec82-41b8-bea1-f07e31471020"
      },
      "outputs": [
        {
          "output_type": "stream",
          "name": "stdout",
          "text": [
            "## pos tagging result\n",
            " ['텍스트', '는', '비정', '형', '데이터', '로', '정형', '화', '하기', '위해', '많은', '노력', '이', '필요합니다', '.']\n",
            "\n",
            "## extract only noun\n",
            " ['텍스트', '비정', '데이터', '정형', '위해', '노력']\n",
            "\n",
            "## extract only verb\n",
            " ['하기']\n"
          ]
        },
        {
          "output_type": "execute_result",
          "data": {
            "text/plain": [
              "[('텍스트', 'Noun'),\n",
              " ('는', 'Josa'),\n",
              " ('비정', 'Noun'),\n",
              " ('형', 'Suffix'),\n",
              " ('데이터', 'Noun'),\n",
              " ('로', 'Josa'),\n",
              " ('정형', 'Noun'),\n",
              " ('화', 'Suffix'),\n",
              " ('하기', 'Verb'),\n",
              " ('위해', 'Noun'),\n",
              " ('많은', 'Adjective'),\n",
              " ('노력', 'Noun'),\n",
              " ('이', 'Josa'),\n",
              " ('필요합니다', 'Adjective'),\n",
              " ('.', 'Punctuation')]"
            ]
          },
          "metadata": {},
          "execution_count": 31
        }
      ],
      "source": [
        "## 3.7) 한글 명사&동사 추출\n",
        "sentence = '텍스트는 비정형 데이터로 정형화 하기 위해 많은 노력이 필요합니다.'\n",
        "\n",
        "from konlpy.tag import Okt\n",
        "okt = Okt()\n",
        "\n",
        "list_pos = okt.pos(sentence)\n",
        "\n",
        "# extract noun & verb\n",
        "list_only_noun = [word for word, pos in list_pos if pos in ['Noun'] ]\n",
        "list_only_verb = [word for word, pos in list_pos if pos in ['Verb'] ]\n",
        "\n",
        "\n",
        "print('## pos tagging result\\n', [word for word, pos in list_pos])\n",
        "print('\\n## extract only noun\\n', list_only_noun)\n",
        "print('\\n## extract only verb\\n', list_only_verb)\n",
        "\n",
        "list_pos"
      ]
    },
    {
      "cell_type": "markdown",
      "id": "e90e2f18",
      "metadata": {
        "id": "e90e2f18"
      },
      "source": [
        "## 4) 워드크라우드 그리기"
      ]
    },
    {
      "cell_type": "code",
      "execution_count": null,
      "id": "6fb147d9",
      "metadata": {
        "scrolled": true,
        "colab": {
          "base_uri": "https://localhost:8080/"
        },
        "id": "6fb147d9",
        "outputId": "809a6041-97c3-4242-a55f-ecffce9c6b3e"
      },
      "outputs": [
        {
          "output_type": "stream",
          "name": "stdout",
          "text": [
            "Looking in indexes: https://pypi.org/simple, https://us-python.pkg.dev/colab-wheels/public/simple/\n",
            "Requirement already satisfied: wordcloud in /usr/local/lib/python3.7/dist-packages (1.5.0)\n",
            "Requirement already satisfied: numpy>=1.6.1 in /usr/local/lib/python3.7/dist-packages (from wordcloud) (1.21.6)\n",
            "Requirement already satisfied: pillow in /usr/local/lib/python3.7/dist-packages (from wordcloud) (7.1.2)\n"
          ]
        }
      ],
      "source": [
        "!pip install wordcloud"
      ]
    },
    {
      "cell_type": "code",
      "execution_count": null,
      "id": "369937cf",
      "metadata": {
        "code_folding": [
          0
        ],
        "colab": {
          "base_uri": "https://localhost:8080/"
        },
        "id": "369937cf",
        "outputId": "5215f3ec-7291-4803-9fb8-12c7ceec372e"
      },
      "outputs": [
        {
          "output_type": "stream",
          "name": "stdout",
          "text": [
            "[('굳 ㅋ', 1), ('GDNTOPCLASSINTHECLUB', 0)]\n"
          ]
        }
      ],
      "source": [
        "# prepare wordcloud\n",
        "from wordcloud import WordCloud, STOPWORDS\n",
        "import numpy as np\n",
        "from PIL import Image\n",
        "from wordcloud import STOPWORDS\n",
        "import matplotlib.pyplot as plt\n",
        "\n",
        "stopwords = set(STOPWORDS)\n",
        "stopwords.add(\"said\")\n",
        "\n",
        "## 1.2) read csv data\n",
        "# NSMC 데이터 로드\n",
        "import pandas as pd\n",
        "# data_nsmc = pd.read_csv('data/nsmc.txt', sep='\\t')\n",
        "data_nsmc = pd.read_table('https://raw.githubusercontent.com/e9t/nsmc/master/ratings_test.txt')\n",
        "\n",
        "train_pair = [(row[1], row[2]) for _, row in data_nsmc.iterrows() if type(row[1]) == str]  # nan 제거\n",
        "print(train_pair[:2])\n",
        "\n",
        "#  문장 및 라벨 데이터 추출\n",
        "train_data  = [pair[0] for pair in train_pair][:100]"
      ]
    },
    {
      "cell_type": "code",
      "execution_count": null,
      "id": "abb0842d",
      "metadata": {
        "code_folding": [
          0
        ],
        "colab": {
          "base_uri": "https://localhost:8080/",
          "height": 1000
        },
        "id": "abb0842d",
        "outputId": "3868149c-396d-4a9b-97e3-5ca43b59d38d"
      },
      "outputs": [
        {
          "output_type": "stream",
          "name": "stderr",
          "text": [
            "/usr/local/lib/python3.7/dist-packages/matplotlib/backends/backend_agg.py:214: RuntimeWarning: Glyph 51060 missing from current font.\n",
            "  font.set_text(s, 0.0, flags=flags)\n",
            "/usr/local/lib/python3.7/dist-packages/matplotlib/backends/backend_agg.py:214: RuntimeWarning: Glyph 51032 missing from current font.\n",
            "  font.set_text(s, 0.0, flags=flags)\n",
            "/usr/local/lib/python3.7/dist-packages/matplotlib/backends/backend_agg.py:214: RuntimeWarning: Glyph 50689 missing from current font.\n",
            "  font.set_text(s, 0.0, flags=flags)\n",
            "/usr/local/lib/python3.7/dist-packages/matplotlib/backends/backend_agg.py:214: RuntimeWarning: Glyph 54868 missing from current font.\n",
            "  font.set_text(s, 0.0, flags=flags)\n",
            "/usr/local/lib/python3.7/dist-packages/matplotlib/backends/backend_agg.py:214: RuntimeWarning: Glyph 51008 missing from current font.\n",
            "  font.set_text(s, 0.0, flags=flags)\n",
            "/usr/local/lib/python3.7/dist-packages/matplotlib/backends/backend_agg.py:214: RuntimeWarning: Glyph 45716 missing from current font.\n",
            "  font.set_text(s, 0.0, flags=flags)\n",
            "/usr/local/lib/python3.7/dist-packages/matplotlib/backends/backend_agg.py:214: RuntimeWarning: Glyph 46020 missing from current font.\n",
            "  font.set_text(s, 0.0, flags=flags)\n",
            "/usr/local/lib/python3.7/dist-packages/matplotlib/backends/backend_agg.py:214: RuntimeWarning: Glyph 44032 missing from current font.\n",
            "  font.set_text(s, 0.0, flags=flags)\n",
            "/usr/local/lib/python3.7/dist-packages/matplotlib/backends/backend_agg.py:214: RuntimeWarning: Glyph 46308 missing from current font.\n",
            "  font.set_text(s, 0.0, flags=flags)\n",
            "/usr/local/lib/python3.7/dist-packages/matplotlib/backends/backend_agg.py:214: RuntimeWarning: Glyph 50640 missing from current font.\n",
            "  font.set_text(s, 0.0, flags=flags)\n",
            "/usr/local/lib/python3.7/dist-packages/matplotlib/backends/backend_agg.py:214: RuntimeWarning: Glyph 51012 missing from current font.\n",
            "  font.set_text(s, 0.0, flags=flags)\n",
            "/usr/local/lib/python3.7/dist-packages/matplotlib/backends/backend_agg.py:214: RuntimeWarning: Glyph 54217 missing from current font.\n",
            "  font.set_text(s, 0.0, flags=flags)\n",
            "/usr/local/lib/python3.7/dist-packages/matplotlib/backends/backend_agg.py:214: RuntimeWarning: Glyph 51216 missing from current font.\n",
            "  font.set_text(s, 0.0, flags=flags)\n",
            "/usr/local/lib/python3.7/dist-packages/matplotlib/backends/backend_agg.py:214: RuntimeWarning: Glyph 47484 missing from current font.\n",
            "  font.set_text(s, 0.0, flags=flags)\n",
            "/usr/local/lib/python3.7/dist-packages/matplotlib/backends/backend_agg.py:214: RuntimeWarning: Glyph 47952 missing from current font.\n",
            "  font.set_text(s, 0.0, flags=flags)\n",
            "/usr/local/lib/python3.7/dist-packages/matplotlib/backends/backend_agg.py:214: RuntimeWarning: Glyph 49436 missing from current font.\n",
            "  font.set_text(s, 0.0, flags=flags)\n",
            "/usr/local/lib/python3.7/dist-packages/matplotlib/backends/backend_agg.py:214: RuntimeWarning: Glyph 44536 missing from current font.\n",
            "  font.set_text(s, 0.0, flags=flags)\n",
            "/usr/local/lib/python3.7/dist-packages/matplotlib/backends/backend_agg.py:214: RuntimeWarning: Glyph 45796 missing from current font.\n",
            "  font.set_text(s, 0.0, flags=flags)\n",
            "/usr/local/lib/python3.7/dist-packages/matplotlib/backends/backend_agg.py:214: RuntimeWarning: Glyph 47803 missing from current font.\n",
            "  font.set_text(s, 0.0, flags=flags)\n",
            "/usr/local/lib/python3.7/dist-packages/matplotlib/backends/backend_agg.py:214: RuntimeWarning: Glyph 44172 missing from current font.\n",
            "  font.set_text(s, 0.0, flags=flags)\n",
            "/usr/local/lib/python3.7/dist-packages/matplotlib/backends/backend_agg.py:214: RuntimeWarning: Glyph 47564 missing from current font.\n",
            "  font.set_text(s, 0.0, flags=flags)\n",
            "/usr/local/lib/python3.7/dist-packages/matplotlib/backends/backend_agg.py:214: RuntimeWarning: Glyph 47196 missing from current font.\n",
            "  font.set_text(s, 0.0, flags=flags)\n",
            "/usr/local/lib/python3.7/dist-packages/matplotlib/backends/backend_agg.py:214: RuntimeWarning: Glyph 47568 missing from current font.\n",
            "  font.set_text(s, 0.0, flags=flags)\n",
            "/usr/local/lib/python3.7/dist-packages/matplotlib/backends/backend_agg.py:214: RuntimeWarning: Glyph 44148 missing from current font.\n",
            "  font.set_text(s, 0.0, flags=flags)\n",
            "/usr/local/lib/python3.7/dist-packages/matplotlib/backends/backend_agg.py:214: RuntimeWarning: Glyph 45236 missing from current font.\n",
            "  font.set_text(s, 0.0, flags=flags)\n",
            "/usr/local/lib/python3.7/dist-packages/matplotlib/backends/backend_agg.py:214: RuntimeWarning: Glyph 51652 missing from current font.\n",
            "  font.set_text(s, 0.0, flags=flags)\n",
            "/usr/local/lib/python3.7/dist-packages/matplotlib/backends/backend_agg.py:214: RuntimeWarning: Glyph 51676 missing from current font.\n",
            "  font.set_text(s, 0.0, flags=flags)\n",
            "/usr/local/lib/python3.7/dist-packages/matplotlib/backends/backend_agg.py:214: RuntimeWarning: Glyph 50556 missing from current font.\n",
            "  font.set_text(s, 0.0, flags=flags)\n",
            "/usr/local/lib/python3.7/dist-packages/matplotlib/backends/backend_agg.py:214: RuntimeWarning: Glyph 50756 missing from current font.\n",
            "  font.set_text(s, 0.0, flags=flags)\n",
            "/usr/local/lib/python3.7/dist-packages/matplotlib/backends/backend_agg.py:214: RuntimeWarning: Glyph 51204 missing from current font.\n",
            "  font.set_text(s, 0.0, flags=flags)\n",
            "/usr/local/lib/python3.7/dist-packages/matplotlib/backends/backend_agg.py:214: RuntimeWarning: Glyph 52572 missing from current font.\n",
            "  font.set_text(s, 0.0, flags=flags)\n",
            "/usr/local/lib/python3.7/dist-packages/matplotlib/backends/backend_agg.py:214: RuntimeWarning: Glyph 44256 missing from current font.\n",
            "  font.set_text(s, 0.0, flags=flags)\n",
            "/usr/local/lib/python3.7/dist-packages/matplotlib/backends/backend_agg.py:214: RuntimeWarning: Glyph 54620 missing from current font.\n",
            "  font.set_text(s, 0.0, flags=flags)\n",
            "/usr/local/lib/python3.7/dist-packages/matplotlib/backends/backend_agg.py:214: RuntimeWarning: Glyph 50630 missing from current font.\n",
            "  font.set_text(s, 0.0, flags=flags)\n",
            "/usr/local/lib/python3.7/dist-packages/matplotlib/backends/backend_agg.py:214: RuntimeWarning: Glyph 50500 missing from current font.\n",
            "  font.set_text(s, 0.0, flags=flags)\n",
            "/usr/local/lib/python3.7/dist-packages/matplotlib/backends/backend_agg.py:214: RuntimeWarning: Glyph 44057 missing from current font.\n",
            "  font.set_text(s, 0.0, flags=flags)\n",
            "/usr/local/lib/python3.7/dist-packages/matplotlib/backends/backend_agg.py:214: RuntimeWarning: Glyph 47784 missing from current font.\n",
            "  font.set_text(s, 0.0, flags=flags)\n",
            "/usr/local/lib/python3.7/dist-packages/matplotlib/backends/backend_agg.py:214: RuntimeWarning: Glyph 46304 missing from current font.\n",
            "  font.set_text(s, 0.0, flags=flags)\n",
            "/usr/local/lib/python3.7/dist-packages/matplotlib/backends/backend_agg.py:214: RuntimeWarning: Glyph 47088 missing from current font.\n",
            "  font.set_text(s, 0.0, flags=flags)\n",
            "/usr/local/lib/python3.7/dist-packages/matplotlib/backends/backend_agg.py:214: RuntimeWarning: Glyph 50752 missing from current font.\n",
            "  font.set_text(s, 0.0, flags=flags)\n",
            "/usr/local/lib/python3.7/dist-packages/matplotlib/backends/backend_agg.py:214: RuntimeWarning: Glyph 51200 missing from current font.\n",
            "  font.set_text(s, 0.0, flags=flags)\n",
            "/usr/local/lib/python3.7/dist-packages/matplotlib/backends/backend_agg.py:214: RuntimeWarning: Glyph 51201 missing from current font.\n",
            "  font.set_text(s, 0.0, flags=flags)\n",
            "/usr/local/lib/python3.7/dist-packages/matplotlib/backends/backend_agg.py:214: RuntimeWarning: Glyph 46412 missing from current font.\n",
            "  font.set_text(s, 0.0, flags=flags)\n",
            "/usr/local/lib/python3.7/dist-packages/matplotlib/backends/backend_agg.py:214: RuntimeWarning: Glyph 45448 missing from current font.\n",
            "  font.set_text(s, 0.0, flags=flags)\n",
            "/usr/local/lib/python3.7/dist-packages/matplotlib/backends/backend_agg.py:214: RuntimeWarning: Glyph 45320 missing from current font.\n",
            "  font.set_text(s, 0.0, flags=flags)\n",
            "/usr/local/lib/python3.7/dist-packages/matplotlib/backends/backend_agg.py:214: RuntimeWarning: Glyph 47924 missing from current font.\n",
            "  font.set_text(s, 0.0, flags=flags)\n",
            "/usr/local/lib/python3.7/dist-packages/matplotlib/backends/backend_agg.py:214: RuntimeWarning: Glyph 51116 missing from current font.\n",
            "  font.set_text(s, 0.0, flags=flags)\n",
            "/usr/local/lib/python3.7/dist-packages/matplotlib/backends/backend_agg.py:214: RuntimeWarning: Glyph 48140 missing from current font.\n",
            "  font.set_text(s, 0.0, flags=flags)\n",
            "/usr/local/lib/python3.7/dist-packages/matplotlib/backends/backend_agg.py:214: RuntimeWarning: Glyph 49884 missing from current font.\n",
            "  font.set_text(s, 0.0, flags=flags)\n",
            "/usr/local/lib/python3.7/dist-packages/matplotlib/backends/backend_agg.py:214: RuntimeWarning: Glyph 44036 missing from current font.\n",
            "  font.set_text(s, 0.0, flags=flags)\n",
            "/usr/local/lib/python3.7/dist-packages/matplotlib/backends/backend_agg.py:183: RuntimeWarning: Glyph 51060 missing from current font.\n",
            "  font.set_text(s, 0, flags=flags)\n",
            "/usr/local/lib/python3.7/dist-packages/matplotlib/backends/backend_agg.py:183: RuntimeWarning: Glyph 51032 missing from current font.\n",
            "  font.set_text(s, 0, flags=flags)\n",
            "/usr/local/lib/python3.7/dist-packages/matplotlib/backends/backend_agg.py:183: RuntimeWarning: Glyph 50689 missing from current font.\n",
            "  font.set_text(s, 0, flags=flags)\n",
            "/usr/local/lib/python3.7/dist-packages/matplotlib/backends/backend_agg.py:183: RuntimeWarning: Glyph 54868 missing from current font.\n",
            "  font.set_text(s, 0, flags=flags)\n",
            "/usr/local/lib/python3.7/dist-packages/matplotlib/backends/backend_agg.py:183: RuntimeWarning: Glyph 51008 missing from current font.\n",
            "  font.set_text(s, 0, flags=flags)\n",
            "/usr/local/lib/python3.7/dist-packages/matplotlib/backends/backend_agg.py:183: RuntimeWarning: Glyph 45716 missing from current font.\n",
            "  font.set_text(s, 0, flags=flags)\n",
            "/usr/local/lib/python3.7/dist-packages/matplotlib/backends/backend_agg.py:183: RuntimeWarning: Glyph 46020 missing from current font.\n",
            "  font.set_text(s, 0, flags=flags)\n",
            "/usr/local/lib/python3.7/dist-packages/matplotlib/backends/backend_agg.py:183: RuntimeWarning: Glyph 44032 missing from current font.\n",
            "  font.set_text(s, 0, flags=flags)\n",
            "/usr/local/lib/python3.7/dist-packages/matplotlib/backends/backend_agg.py:183: RuntimeWarning: Glyph 46308 missing from current font.\n",
            "  font.set_text(s, 0, flags=flags)\n",
            "/usr/local/lib/python3.7/dist-packages/matplotlib/backends/backend_agg.py:183: RuntimeWarning: Glyph 50640 missing from current font.\n",
            "  font.set_text(s, 0, flags=flags)\n",
            "/usr/local/lib/python3.7/dist-packages/matplotlib/backends/backend_agg.py:183: RuntimeWarning: Glyph 51012 missing from current font.\n",
            "  font.set_text(s, 0, flags=flags)\n",
            "/usr/local/lib/python3.7/dist-packages/matplotlib/backends/backend_agg.py:183: RuntimeWarning: Glyph 54217 missing from current font.\n",
            "  font.set_text(s, 0, flags=flags)\n",
            "/usr/local/lib/python3.7/dist-packages/matplotlib/backends/backend_agg.py:183: RuntimeWarning: Glyph 51216 missing from current font.\n",
            "  font.set_text(s, 0, flags=flags)\n",
            "/usr/local/lib/python3.7/dist-packages/matplotlib/backends/backend_agg.py:183: RuntimeWarning: Glyph 47484 missing from current font.\n",
            "  font.set_text(s, 0, flags=flags)\n",
            "/usr/local/lib/python3.7/dist-packages/matplotlib/backends/backend_agg.py:183: RuntimeWarning: Glyph 47952 missing from current font.\n",
            "  font.set_text(s, 0, flags=flags)\n",
            "/usr/local/lib/python3.7/dist-packages/matplotlib/backends/backend_agg.py:183: RuntimeWarning: Glyph 49436 missing from current font.\n",
            "  font.set_text(s, 0, flags=flags)\n",
            "/usr/local/lib/python3.7/dist-packages/matplotlib/backends/backend_agg.py:183: RuntimeWarning: Glyph 44536 missing from current font.\n",
            "  font.set_text(s, 0, flags=flags)\n",
            "/usr/local/lib/python3.7/dist-packages/matplotlib/backends/backend_agg.py:183: RuntimeWarning: Glyph 45796 missing from current font.\n",
            "  font.set_text(s, 0, flags=flags)\n",
            "/usr/local/lib/python3.7/dist-packages/matplotlib/backends/backend_agg.py:183: RuntimeWarning: Glyph 47803 missing from current font.\n",
            "  font.set_text(s, 0, flags=flags)\n",
            "/usr/local/lib/python3.7/dist-packages/matplotlib/backends/backend_agg.py:183: RuntimeWarning: Glyph 44172 missing from current font.\n",
            "  font.set_text(s, 0, flags=flags)\n",
            "/usr/local/lib/python3.7/dist-packages/matplotlib/backends/backend_agg.py:183: RuntimeWarning: Glyph 47564 missing from current font.\n",
            "  font.set_text(s, 0, flags=flags)\n",
            "/usr/local/lib/python3.7/dist-packages/matplotlib/backends/backend_agg.py:183: RuntimeWarning: Glyph 47196 missing from current font.\n",
            "  font.set_text(s, 0, flags=flags)\n",
            "/usr/local/lib/python3.7/dist-packages/matplotlib/backends/backend_agg.py:183: RuntimeWarning: Glyph 47568 missing from current font.\n",
            "  font.set_text(s, 0, flags=flags)\n",
            "/usr/local/lib/python3.7/dist-packages/matplotlib/backends/backend_agg.py:183: RuntimeWarning: Glyph 44148 missing from current font.\n",
            "  font.set_text(s, 0, flags=flags)\n",
            "/usr/local/lib/python3.7/dist-packages/matplotlib/backends/backend_agg.py:183: RuntimeWarning: Glyph 45236 missing from current font.\n",
            "  font.set_text(s, 0, flags=flags)\n",
            "/usr/local/lib/python3.7/dist-packages/matplotlib/backends/backend_agg.py:183: RuntimeWarning: Glyph 51652 missing from current font.\n",
            "  font.set_text(s, 0, flags=flags)\n",
            "/usr/local/lib/python3.7/dist-packages/matplotlib/backends/backend_agg.py:183: RuntimeWarning: Glyph 51676 missing from current font.\n",
            "  font.set_text(s, 0, flags=flags)\n",
            "/usr/local/lib/python3.7/dist-packages/matplotlib/backends/backend_agg.py:183: RuntimeWarning: Glyph 50556 missing from current font.\n",
            "  font.set_text(s, 0, flags=flags)\n",
            "/usr/local/lib/python3.7/dist-packages/matplotlib/backends/backend_agg.py:183: RuntimeWarning: Glyph 50756 missing from current font.\n",
            "  font.set_text(s, 0, flags=flags)\n",
            "/usr/local/lib/python3.7/dist-packages/matplotlib/backends/backend_agg.py:183: RuntimeWarning: Glyph 51204 missing from current font.\n",
            "  font.set_text(s, 0, flags=flags)\n",
            "/usr/local/lib/python3.7/dist-packages/matplotlib/backends/backend_agg.py:183: RuntimeWarning: Glyph 52572 missing from current font.\n",
            "  font.set_text(s, 0, flags=flags)\n",
            "/usr/local/lib/python3.7/dist-packages/matplotlib/backends/backend_agg.py:183: RuntimeWarning: Glyph 44256 missing from current font.\n",
            "  font.set_text(s, 0, flags=flags)\n",
            "/usr/local/lib/python3.7/dist-packages/matplotlib/backends/backend_agg.py:183: RuntimeWarning: Glyph 54620 missing from current font.\n",
            "  font.set_text(s, 0, flags=flags)\n",
            "/usr/local/lib/python3.7/dist-packages/matplotlib/backends/backend_agg.py:183: RuntimeWarning: Glyph 50630 missing from current font.\n",
            "  font.set_text(s, 0, flags=flags)\n",
            "/usr/local/lib/python3.7/dist-packages/matplotlib/backends/backend_agg.py:183: RuntimeWarning: Glyph 50500 missing from current font.\n",
            "  font.set_text(s, 0, flags=flags)\n",
            "/usr/local/lib/python3.7/dist-packages/matplotlib/backends/backend_agg.py:183: RuntimeWarning: Glyph 44057 missing from current font.\n",
            "  font.set_text(s, 0, flags=flags)\n",
            "/usr/local/lib/python3.7/dist-packages/matplotlib/backends/backend_agg.py:183: RuntimeWarning: Glyph 47784 missing from current font.\n",
            "  font.set_text(s, 0, flags=flags)\n",
            "/usr/local/lib/python3.7/dist-packages/matplotlib/backends/backend_agg.py:183: RuntimeWarning: Glyph 46304 missing from current font.\n",
            "  font.set_text(s, 0, flags=flags)\n",
            "/usr/local/lib/python3.7/dist-packages/matplotlib/backends/backend_agg.py:183: RuntimeWarning: Glyph 47088 missing from current font.\n",
            "  font.set_text(s, 0, flags=flags)\n",
            "/usr/local/lib/python3.7/dist-packages/matplotlib/backends/backend_agg.py:183: RuntimeWarning: Glyph 50752 missing from current font.\n",
            "  font.set_text(s, 0, flags=flags)\n",
            "/usr/local/lib/python3.7/dist-packages/matplotlib/backends/backend_agg.py:183: RuntimeWarning: Glyph 51200 missing from current font.\n",
            "  font.set_text(s, 0, flags=flags)\n",
            "/usr/local/lib/python3.7/dist-packages/matplotlib/backends/backend_agg.py:183: RuntimeWarning: Glyph 51201 missing from current font.\n",
            "  font.set_text(s, 0, flags=flags)\n",
            "/usr/local/lib/python3.7/dist-packages/matplotlib/backends/backend_agg.py:183: RuntimeWarning: Glyph 46412 missing from current font.\n",
            "  font.set_text(s, 0, flags=flags)\n",
            "/usr/local/lib/python3.7/dist-packages/matplotlib/backends/backend_agg.py:183: RuntimeWarning: Glyph 45448 missing from current font.\n",
            "  font.set_text(s, 0, flags=flags)\n",
            "/usr/local/lib/python3.7/dist-packages/matplotlib/backends/backend_agg.py:183: RuntimeWarning: Glyph 45320 missing from current font.\n",
            "  font.set_text(s, 0, flags=flags)\n",
            "/usr/local/lib/python3.7/dist-packages/matplotlib/backends/backend_agg.py:183: RuntimeWarning: Glyph 47924 missing from current font.\n",
            "  font.set_text(s, 0, flags=flags)\n",
            "/usr/local/lib/python3.7/dist-packages/matplotlib/backends/backend_agg.py:183: RuntimeWarning: Glyph 51116 missing from current font.\n",
            "  font.set_text(s, 0, flags=flags)\n",
            "/usr/local/lib/python3.7/dist-packages/matplotlib/backends/backend_agg.py:183: RuntimeWarning: Glyph 48140 missing from current font.\n",
            "  font.set_text(s, 0, flags=flags)\n",
            "/usr/local/lib/python3.7/dist-packages/matplotlib/backends/backend_agg.py:183: RuntimeWarning: Glyph 49884 missing from current font.\n",
            "  font.set_text(s, 0, flags=flags)\n",
            "/usr/local/lib/python3.7/dist-packages/matplotlib/backends/backend_agg.py:183: RuntimeWarning: Glyph 44036 missing from current font.\n",
            "  font.set_text(s, 0, flags=flags)\n"
          ]
        },
        {
          "output_type": "display_data",
          "data": {
            "text/plain": [
              "<Figure size 864x432 with 1 Axes>"
            ],
            "image/png": "[encoded data removed]"
          },
          "metadata": {
            "needs_background": "light"
          }
        },
        {
          "output_type": "stream",
          "name": "stdout",
          "text": [
            "['.', '이', '의', '영화', ',', '..', '은', '는', '도', '가', '들', '...', '에', '을', '평점', '를', '!', '뭐', '에서', '그', '....', '이다', '?', '못', '게', '만', '로', '??', '말', '이건']\n"
          ]
        },
        {
          "output_type": "display_data",
          "data": {
            "text/plain": [
              "<Figure size 864x576 with 1 Axes>"
            ],
            "image/png": "[encoded data removed]"
          },
          "metadata": {
            "needs_background": "light"
          }
        }
      ],
      "source": [
        "# plot word cloud\n",
        "from konlpy.tag import Okt\n",
        "okt = Okt()\n",
        "tmptmp = []\n",
        "for tmp in train_data:\n",
        "    tmptmp.extend(okt.morphs(tmp))    \n",
        "#     tmptmp.extend(okt.nouns(tmp))\n",
        "    \n",
        "# stopword를 등록한 다음에 다시 그래프를 그려보자\n",
        "ko = nltk.Text(tmptmp)\n",
        "plt.figure(figsize=(12,6))\n",
        "ko.plot(50)                 # 빈도수가 높은 단어 50개를 그래프에 출력\n",
        "plt.show()\n",
        "\n",
        "# wordcloud 그리기\n",
        "data = ko.vocab().most_common(150) #wordcloud로 출력할 단어의 갯수 150개\n",
        "from wordcloud import WordCloud\n",
        "\n",
        "# wordcloud = WordCloud(font_path='c:/Windows/Fonts/malgun.ttf', relative_scaling=0.2,\n",
        "#                       background_color='white',).generate_from_frequencies(dict(data))\n",
        "wordcloud = WordCloud(relative_scaling=0.2, background_color='white',).generate_from_frequencies(dict(data))\n",
        "\n",
        "print(list(wordcloud.words_)[:30])\n",
        "plt.figure(figsize=(12,8))\n",
        "plt.imshow(wordcloud)\n",
        "plt.axis('off')\n",
        "plt.show()"
      ]
    },
    {
      "cell_type": "code",
      "execution_count": null,
      "id": "2db86078",
      "metadata": {
        "code_folding": [
          0
        ],
        "colab": {
          "base_uri": "https://localhost:8080/",
          "height": 1000
        },
        "id": "2db86078",
        "outputId": "2db44b94-e433-4d68-9719-e23b052d70a8"
      },
      "outputs": [
        {
          "output_type": "stream",
          "name": "stderr",
          "text": [
            "/usr/local/lib/python3.7/dist-packages/matplotlib/backends/backend_agg.py:214: RuntimeWarning: Glyph 50689 missing from current font.\n",
            "  font.set_text(s, 0.0, flags=flags)\n",
            "/usr/local/lib/python3.7/dist-packages/matplotlib/backends/backend_agg.py:214: RuntimeWarning: Glyph 54868 missing from current font.\n",
            "  font.set_text(s, 0.0, flags=flags)\n",
            "/usr/local/lib/python3.7/dist-packages/matplotlib/backends/backend_agg.py:214: RuntimeWarning: Glyph 54217 missing from current font.\n",
            "  font.set_text(s, 0.0, flags=flags)\n",
            "/usr/local/lib/python3.7/dist-packages/matplotlib/backends/backend_agg.py:214: RuntimeWarning: Glyph 51216 missing from current font.\n",
            "  font.set_text(s, 0.0, flags=flags)\n",
            "/usr/local/lib/python3.7/dist-packages/matplotlib/backends/backend_agg.py:214: RuntimeWarning: Glyph 47952 missing from current font.\n",
            "  font.set_text(s, 0.0, flags=flags)\n",
            "/usr/local/lib/python3.7/dist-packages/matplotlib/backends/backend_agg.py:214: RuntimeWarning: Glyph 51060 missing from current font.\n",
            "  font.set_text(s, 0.0, flags=flags)\n",
            "/usr/local/lib/python3.7/dist-packages/matplotlib/backends/backend_agg.py:214: RuntimeWarning: Glyph 47568 missing from current font.\n",
            "  font.set_text(s, 0.0, flags=flags)\n",
            "/usr/local/lib/python3.7/dist-packages/matplotlib/backends/backend_agg.py:214: RuntimeWarning: Glyph 44148 missing from current font.\n",
            "  font.set_text(s, 0.0, flags=flags)\n",
            "/usr/local/lib/python3.7/dist-packages/matplotlib/backends/backend_agg.py:214: RuntimeWarning: Glyph 44536 missing from current font.\n",
            "  font.set_text(s, 0.0, flags=flags)\n",
            "/usr/local/lib/python3.7/dist-packages/matplotlib/backends/backend_agg.py:214: RuntimeWarning: Glyph 45236 missing from current font.\n",
            "  font.set_text(s, 0.0, flags=flags)\n",
            "/usr/local/lib/python3.7/dist-packages/matplotlib/backends/backend_agg.py:214: RuntimeWarning: Glyph 51652 missing from current font.\n",
            "  font.set_text(s, 0.0, flags=flags)\n",
            "/usr/local/lib/python3.7/dist-packages/matplotlib/backends/backend_agg.py:214: RuntimeWarning: Glyph 51676 missing from current font.\n",
            "  font.set_text(s, 0.0, flags=flags)\n",
            "/usr/local/lib/python3.7/dist-packages/matplotlib/backends/backend_agg.py:214: RuntimeWarning: Glyph 50756 missing from current font.\n",
            "  font.set_text(s, 0.0, flags=flags)\n",
            "/usr/local/lib/python3.7/dist-packages/matplotlib/backends/backend_agg.py:214: RuntimeWarning: Glyph 51204 missing from current font.\n",
            "  font.set_text(s, 0.0, flags=flags)\n",
            "/usr/local/lib/python3.7/dist-packages/matplotlib/backends/backend_agg.py:214: RuntimeWarning: Glyph 52572 missing from current font.\n",
            "  font.set_text(s, 0.0, flags=flags)\n",
            "/usr/local/lib/python3.7/dist-packages/matplotlib/backends/backend_agg.py:214: RuntimeWarning: Glyph 44256 missing from current font.\n",
            "  font.set_text(s, 0.0, flags=flags)\n",
            "/usr/local/lib/python3.7/dist-packages/matplotlib/backends/backend_agg.py:214: RuntimeWarning: Glyph 46412 missing from current font.\n",
            "  font.set_text(s, 0.0, flags=flags)\n",
            "/usr/local/lib/python3.7/dist-packages/matplotlib/backends/backend_agg.py:214: RuntimeWarning: Glyph 45448 missing from current font.\n",
            "  font.set_text(s, 0.0, flags=flags)\n",
            "/usr/local/lib/python3.7/dist-packages/matplotlib/backends/backend_agg.py:214: RuntimeWarning: Glyph 49884 missing from current font.\n",
            "  font.set_text(s, 0.0, flags=flags)\n",
            "/usr/local/lib/python3.7/dist-packages/matplotlib/backends/backend_agg.py:214: RuntimeWarning: Glyph 44036 missing from current font.\n",
            "  font.set_text(s, 0.0, flags=flags)\n",
            "/usr/local/lib/python3.7/dist-packages/matplotlib/backends/backend_agg.py:214: RuntimeWarning: Glyph 44288 missing from current font.\n",
            "  font.set_text(s, 0.0, flags=flags)\n",
            "/usr/local/lib/python3.7/dist-packages/matplotlib/backends/backend_agg.py:214: RuntimeWarning: Glyph 44061 missing from current font.\n",
            "  font.set_text(s, 0.0, flags=flags)\n",
            "/usr/local/lib/python3.7/dist-packages/matplotlib/backends/backend_agg.py:214: RuntimeWarning: Glyph 47784 missing from current font.\n",
            "  font.set_text(s, 0.0, flags=flags)\n",
            "/usr/local/lib/python3.7/dist-packages/matplotlib/backends/backend_agg.py:214: RuntimeWarning: Glyph 46021 missing from current font.\n",
            "  font.set_text(s, 0.0, flags=flags)\n",
            "/usr/local/lib/python3.7/dist-packages/matplotlib/backends/backend_agg.py:214: RuntimeWarning: Glyph 45908 missing from current font.\n",
            "  font.set_text(s, 0.0, flags=flags)\n",
            "/usr/local/lib/python3.7/dist-packages/matplotlib/backends/backend_agg.py:214: RuntimeWarning: Glyph 51020 missing from current font.\n",
            "  font.set_text(s, 0.0, flags=flags)\n",
            "/usr/local/lib/python3.7/dist-packages/matplotlib/backends/backend_agg.py:214: RuntimeWarning: Glyph 50501 missing from current font.\n",
            "  font.set_text(s, 0.0, flags=flags)\n",
            "/usr/local/lib/python3.7/dist-packages/matplotlib/backends/backend_agg.py:214: RuntimeWarning: Glyph 50857 missing from current font.\n",
            "  font.set_text(s, 0.0, flags=flags)\n",
            "/usr/local/lib/python3.7/dist-packages/matplotlib/backends/backend_agg.py:214: RuntimeWarning: Glyph 50672 missing from current font.\n",
            "  font.set_text(s, 0.0, flags=flags)\n",
            "/usr/local/lib/python3.7/dist-packages/matplotlib/backends/backend_agg.py:214: RuntimeWarning: Glyph 44592 missing from current font.\n",
            "  font.set_text(s, 0.0, flags=flags)\n",
            "/usr/local/lib/python3.7/dist-packages/matplotlib/backends/backend_agg.py:214: RuntimeWarning: Glyph 44048 missing from current font.\n",
            "  font.set_text(s, 0.0, flags=flags)\n",
            "/usr/local/lib/python3.7/dist-packages/matplotlib/backends/backend_agg.py:214: RuntimeWarning: Glyph 51116 missing from current font.\n",
            "  font.set_text(s, 0.0, flags=flags)\n",
            "/usr/local/lib/python3.7/dist-packages/matplotlib/backends/backend_agg.py:214: RuntimeWarning: Glyph 48120 missing from current font.\n",
            "  font.set_text(s, 0.0, flags=flags)\n",
            "/usr/local/lib/python3.7/dist-packages/matplotlib/backends/backend_agg.py:214: RuntimeWarning: Glyph 47532 missing from current font.\n",
            "  font.set_text(s, 0.0, flags=flags)\n",
            "/usr/local/lib/python3.7/dist-packages/matplotlib/backends/backend_agg.py:214: RuntimeWarning: Glyph 51592 missing from current font.\n",
            "  font.set_text(s, 0.0, flags=flags)\n",
            "/usr/local/lib/python3.7/dist-packages/matplotlib/backends/backend_agg.py:214: RuntimeWarning: Glyph 51328 missing from current font.\n",
            "  font.set_text(s, 0.0, flags=flags)\n",
            "/usr/local/lib/python3.7/dist-packages/matplotlib/backends/backend_agg.py:214: RuntimeWarning: Glyph 48372 missing from current font.\n",
            "  font.set_text(s, 0.0, flags=flags)\n",
            "/usr/local/lib/python3.7/dist-packages/matplotlib/backends/backend_agg.py:214: RuntimeWarning: Glyph 44163 missing from current font.\n",
            "  font.set_text(s, 0.0, flags=flags)\n",
            "/usr/local/lib/python3.7/dist-packages/matplotlib/backends/backend_agg.py:214: RuntimeWarning: Glyph 48757 missing from current font.\n",
            "  font.set_text(s, 0.0, flags=flags)\n",
            "/usr/local/lib/python3.7/dist-packages/matplotlib/backends/backend_agg.py:214: RuntimeWarning: Glyph 48380 missing from current font.\n",
            "  font.set_text(s, 0.0, flags=flags)\n",
            "/usr/local/lib/python3.7/dist-packages/matplotlib/backends/backend_agg.py:214: RuntimeWarning: Glyph 53680 missing from current font.\n",
            "  font.set_text(s, 0.0, flags=flags)\n",
            "/usr/local/lib/python3.7/dist-packages/matplotlib/backends/backend_agg.py:214: RuntimeWarning: Glyph 54665 missing from current font.\n",
            "  font.set_text(s, 0.0, flags=flags)\n",
            "/usr/local/lib/python3.7/dist-packages/matplotlib/backends/backend_agg.py:214: RuntimeWarning: Glyph 53356 missing from current font.\n",
            "  font.set_text(s, 0.0, flags=flags)\n",
            "/usr/local/lib/python3.7/dist-packages/matplotlib/backends/backend_agg.py:214: RuntimeWarning: Glyph 49828 missing from current font.\n",
            "  font.set_text(s, 0.0, flags=flags)\n",
            "/usr/local/lib/python3.7/dist-packages/matplotlib/backends/backend_agg.py:214: RuntimeWarning: Glyph 50865 missing from current font.\n",
            "  font.set_text(s, 0.0, flags=flags)\n",
            "/usr/local/lib/python3.7/dist-packages/matplotlib/backends/backend_agg.py:214: RuntimeWarning: Glyph 51076 missing from current font.\n",
            "  font.set_text(s, 0.0, flags=flags)\n",
            "/usr/local/lib/python3.7/dist-packages/matplotlib/backends/backend_agg.py:214: RuntimeWarning: Glyph 46024 missing from current font.\n",
            "  font.set_text(s, 0.0, flags=flags)\n",
            "/usr/local/lib/python3.7/dist-packages/matplotlib/backends/backend_agg.py:214: RuntimeWarning: Glyph 48324 missing from current font.\n",
            "  font.set_text(s, 0.0, flags=flags)\n",
            "/usr/local/lib/python3.7/dist-packages/matplotlib/backends/backend_agg.py:214: RuntimeWarning: Glyph 44060 missing from current font.\n",
            "  font.set_text(s, 0.0, flags=flags)\n",
            "/usr/local/lib/python3.7/dist-packages/matplotlib/backends/backend_agg.py:214: RuntimeWarning: Glyph 50780 missing from current font.\n",
            "  font.set_text(s, 0.0, flags=flags)\n",
            "/usr/local/lib/python3.7/dist-packages/matplotlib/backends/backend_agg.py:214: RuntimeWarning: Glyph 44397 missing from current font.\n",
            "  font.set_text(s, 0.0, flags=flags)\n",
            "/usr/local/lib/python3.7/dist-packages/matplotlib/backends/backend_agg.py:214: RuntimeWarning: Glyph 50528 missing from current font.\n",
            "  font.set_text(s, 0.0, flags=flags)\n",
            "/usr/local/lib/python3.7/dist-packages/matplotlib/backends/backend_agg.py:214: RuntimeWarning: Glyph 45768 missing from current font.\n",
            "  font.set_text(s, 0.0, flags=flags)\n",
            "/usr/local/lib/python3.7/dist-packages/matplotlib/backends/backend_agg.py:214: RuntimeWarning: Glyph 47196 missing from current font.\n",
            "  font.set_text(s, 0.0, flags=flags)\n",
            "/usr/local/lib/python3.7/dist-packages/matplotlib/backends/backend_agg.py:214: RuntimeWarning: Glyph 48391 missing from current font.\n",
            "  font.set_text(s, 0.0, flags=flags)\n",
            "/usr/local/lib/python3.7/dist-packages/matplotlib/backends/backend_agg.py:214: RuntimeWarning: Glyph 46304 missing from current font.\n",
            "  font.set_text(s, 0.0, flags=flags)\n",
            "/usr/local/lib/python3.7/dist-packages/matplotlib/backends/backend_agg.py:214: RuntimeWarning: Glyph 49324 missing from current font.\n",
            "  font.set_text(s, 0.0, flags=flags)\n",
            "/usr/local/lib/python3.7/dist-packages/matplotlib/backends/backend_agg.py:214: RuntimeWarning: Glyph 46988 missing from current font.\n",
            "  font.set_text(s, 0.0, flags=flags)\n",
            "/usr/local/lib/python3.7/dist-packages/matplotlib/backends/backend_agg.py:214: RuntimeWarning: Glyph 50880 missing from current font.\n",
            "  font.set_text(s, 0.0, flags=flags)\n",
            "/usr/local/lib/python3.7/dist-packages/matplotlib/backends/backend_agg.py:214: RuntimeWarning: Glyph 45576 missing from current font.\n",
            "  font.set_text(s, 0.0, flags=flags)\n",
            "/usr/local/lib/python3.7/dist-packages/matplotlib/backends/backend_agg.py:214: RuntimeWarning: Glyph 53664 missing from current font.\n",
            "  font.set_text(s, 0.0, flags=flags)\n",
            "/usr/local/lib/python3.7/dist-packages/matplotlib/backends/backend_agg.py:214: RuntimeWarning: Glyph 52636 missing from current font.\n",
            "  font.set_text(s, 0.0, flags=flags)\n",
            "/usr/local/lib/python3.7/dist-packages/matplotlib/backends/backend_agg.py:214: RuntimeWarning: Glyph 47751 missing from current font.\n",
            "  font.set_text(s, 0.0, flags=flags)\n",
            "/usr/local/lib/python3.7/dist-packages/matplotlib/backends/backend_agg.py:214: RuntimeWarning: Glyph 48264 missing from current font.\n",
            "  font.set_text(s, 0.0, flags=flags)\n",
            "/usr/local/lib/python3.7/dist-packages/matplotlib/backends/backend_agg.py:214: RuntimeWarning: Glyph 44032 missing from current font.\n",
            "  font.set_text(s, 0.0, flags=flags)\n",
            "/usr/local/lib/python3.7/dist-packages/matplotlib/backends/backend_agg.py:214: RuntimeWarning: Glyph 51109 missing from current font.\n",
            "  font.set_text(s, 0.0, flags=flags)\n",
            "/usr/local/lib/python3.7/dist-packages/matplotlib/backends/backend_agg.py:214: RuntimeWarning: Glyph 51200 missing from current font.\n",
            "  font.set_text(s, 0.0, flags=flags)\n",
            "/usr/local/lib/python3.7/dist-packages/matplotlib/backends/backend_agg.py:214: RuntimeWarning: Glyph 51089 missing from current font.\n",
            "  font.set_text(s, 0.0, flags=flags)\n",
            "/usr/local/lib/python3.7/dist-packages/matplotlib/backends/backend_agg.py:214: RuntimeWarning: Glyph 54408 missing from current font.\n",
            "  font.set_text(s, 0.0, flags=flags)\n",
            "/usr/local/lib/python3.7/dist-packages/matplotlib/backends/backend_agg.py:183: RuntimeWarning: Glyph 50689 missing from current font.\n",
            "  font.set_text(s, 0, flags=flags)\n",
            "/usr/local/lib/python3.7/dist-packages/matplotlib/backends/backend_agg.py:183: RuntimeWarning: Glyph 54868 missing from current font.\n",
            "  font.set_text(s, 0, flags=flags)\n",
            "/usr/local/lib/python3.7/dist-packages/matplotlib/backends/backend_agg.py:183: RuntimeWarning: Glyph 54217 missing from current font.\n",
            "  font.set_text(s, 0, flags=flags)\n",
            "/usr/local/lib/python3.7/dist-packages/matplotlib/backends/backend_agg.py:183: RuntimeWarning: Glyph 51216 missing from current font.\n",
            "  font.set_text(s, 0, flags=flags)\n",
            "/usr/local/lib/python3.7/dist-packages/matplotlib/backends/backend_agg.py:183: RuntimeWarning: Glyph 47952 missing from current font.\n",
            "  font.set_text(s, 0, flags=flags)\n",
            "/usr/local/lib/python3.7/dist-packages/matplotlib/backends/backend_agg.py:183: RuntimeWarning: Glyph 51060 missing from current font.\n",
            "  font.set_text(s, 0, flags=flags)\n",
            "/usr/local/lib/python3.7/dist-packages/matplotlib/backends/backend_agg.py:183: RuntimeWarning: Glyph 47568 missing from current font.\n",
            "  font.set_text(s, 0, flags=flags)\n",
            "/usr/local/lib/python3.7/dist-packages/matplotlib/backends/backend_agg.py:183: RuntimeWarning: Glyph 44148 missing from current font.\n",
            "  font.set_text(s, 0, flags=flags)\n",
            "/usr/local/lib/python3.7/dist-packages/matplotlib/backends/backend_agg.py:183: RuntimeWarning: Glyph 44536 missing from current font.\n",
            "  font.set_text(s, 0, flags=flags)\n",
            "/usr/local/lib/python3.7/dist-packages/matplotlib/backends/backend_agg.py:183: RuntimeWarning: Glyph 45236 missing from current font.\n",
            "  font.set_text(s, 0, flags=flags)\n",
            "/usr/local/lib/python3.7/dist-packages/matplotlib/backends/backend_agg.py:183: RuntimeWarning: Glyph 51652 missing from current font.\n",
            "  font.set_text(s, 0, flags=flags)\n",
            "/usr/local/lib/python3.7/dist-packages/matplotlib/backends/backend_agg.py:183: RuntimeWarning: Glyph 51676 missing from current font.\n",
            "  font.set_text(s, 0, flags=flags)\n",
            "/usr/local/lib/python3.7/dist-packages/matplotlib/backends/backend_agg.py:183: RuntimeWarning: Glyph 50756 missing from current font.\n",
            "  font.set_text(s, 0, flags=flags)\n",
            "/usr/local/lib/python3.7/dist-packages/matplotlib/backends/backend_agg.py:183: RuntimeWarning: Glyph 51204 missing from current font.\n",
            "  font.set_text(s, 0, flags=flags)\n",
            "/usr/local/lib/python3.7/dist-packages/matplotlib/backends/backend_agg.py:183: RuntimeWarning: Glyph 52572 missing from current font.\n",
            "  font.set_text(s, 0, flags=flags)\n",
            "/usr/local/lib/python3.7/dist-packages/matplotlib/backends/backend_agg.py:183: RuntimeWarning: Glyph 44256 missing from current font.\n",
            "  font.set_text(s, 0, flags=flags)\n",
            "/usr/local/lib/python3.7/dist-packages/matplotlib/backends/backend_agg.py:183: RuntimeWarning: Glyph 46412 missing from current font.\n",
            "  font.set_text(s, 0, flags=flags)\n",
            "/usr/local/lib/python3.7/dist-packages/matplotlib/backends/backend_agg.py:183: RuntimeWarning: Glyph 45448 missing from current font.\n",
            "  font.set_text(s, 0, flags=flags)\n",
            "/usr/local/lib/python3.7/dist-packages/matplotlib/backends/backend_agg.py:183: RuntimeWarning: Glyph 49884 missing from current font.\n",
            "  font.set_text(s, 0, flags=flags)\n",
            "/usr/local/lib/python3.7/dist-packages/matplotlib/backends/backend_agg.py:183: RuntimeWarning: Glyph 44036 missing from current font.\n",
            "  font.set_text(s, 0, flags=flags)\n",
            "/usr/local/lib/python3.7/dist-packages/matplotlib/backends/backend_agg.py:183: RuntimeWarning: Glyph 44288 missing from current font.\n",
            "  font.set_text(s, 0, flags=flags)\n",
            "/usr/local/lib/python3.7/dist-packages/matplotlib/backends/backend_agg.py:183: RuntimeWarning: Glyph 44061 missing from current font.\n",
            "  font.set_text(s, 0, flags=flags)\n",
            "/usr/local/lib/python3.7/dist-packages/matplotlib/backends/backend_agg.py:183: RuntimeWarning: Glyph 47784 missing from current font.\n",
            "  font.set_text(s, 0, flags=flags)\n",
            "/usr/local/lib/python3.7/dist-packages/matplotlib/backends/backend_agg.py:183: RuntimeWarning: Glyph 46021 missing from current font.\n",
            "  font.set_text(s, 0, flags=flags)\n",
            "/usr/local/lib/python3.7/dist-packages/matplotlib/backends/backend_agg.py:183: RuntimeWarning: Glyph 45908 missing from current font.\n",
            "  font.set_text(s, 0, flags=flags)\n",
            "/usr/local/lib/python3.7/dist-packages/matplotlib/backends/backend_agg.py:183: RuntimeWarning: Glyph 51020 missing from current font.\n",
            "  font.set_text(s, 0, flags=flags)\n",
            "/usr/local/lib/python3.7/dist-packages/matplotlib/backends/backend_agg.py:183: RuntimeWarning: Glyph 50501 missing from current font.\n",
            "  font.set_text(s, 0, flags=flags)\n",
            "/usr/local/lib/python3.7/dist-packages/matplotlib/backends/backend_agg.py:183: RuntimeWarning: Glyph 50857 missing from current font.\n",
            "  font.set_text(s, 0, flags=flags)\n",
            "/usr/local/lib/python3.7/dist-packages/matplotlib/backends/backend_agg.py:183: RuntimeWarning: Glyph 50672 missing from current font.\n",
            "  font.set_text(s, 0, flags=flags)\n",
            "/usr/local/lib/python3.7/dist-packages/matplotlib/backends/backend_agg.py:183: RuntimeWarning: Glyph 44592 missing from current font.\n",
            "  font.set_text(s, 0, flags=flags)\n",
            "/usr/local/lib/python3.7/dist-packages/matplotlib/backends/backend_agg.py:183: RuntimeWarning: Glyph 44048 missing from current font.\n",
            "  font.set_text(s, 0, flags=flags)\n",
            "/usr/local/lib/python3.7/dist-packages/matplotlib/backends/backend_agg.py:183: RuntimeWarning: Glyph 51116 missing from current font.\n",
            "  font.set_text(s, 0, flags=flags)\n",
            "/usr/local/lib/python3.7/dist-packages/matplotlib/backends/backend_agg.py:183: RuntimeWarning: Glyph 48120 missing from current font.\n",
            "  font.set_text(s, 0, flags=flags)\n",
            "/usr/local/lib/python3.7/dist-packages/matplotlib/backends/backend_agg.py:183: RuntimeWarning: Glyph 47532 missing from current font.\n",
            "  font.set_text(s, 0, flags=flags)\n",
            "/usr/local/lib/python3.7/dist-packages/matplotlib/backends/backend_agg.py:183: RuntimeWarning: Glyph 51592 missing from current font.\n",
            "  font.set_text(s, 0, flags=flags)\n",
            "/usr/local/lib/python3.7/dist-packages/matplotlib/backends/backend_agg.py:183: RuntimeWarning: Glyph 51328 missing from current font.\n",
            "  font.set_text(s, 0, flags=flags)\n",
            "/usr/local/lib/python3.7/dist-packages/matplotlib/backends/backend_agg.py:183: RuntimeWarning: Glyph 48372 missing from current font.\n",
            "  font.set_text(s, 0, flags=flags)\n",
            "/usr/local/lib/python3.7/dist-packages/matplotlib/backends/backend_agg.py:183: RuntimeWarning: Glyph 44163 missing from current font.\n",
            "  font.set_text(s, 0, flags=flags)\n",
            "/usr/local/lib/python3.7/dist-packages/matplotlib/backends/backend_agg.py:183: RuntimeWarning: Glyph 48757 missing from current font.\n",
            "  font.set_text(s, 0, flags=flags)\n",
            "/usr/local/lib/python3.7/dist-packages/matplotlib/backends/backend_agg.py:183: RuntimeWarning: Glyph 48380 missing from current font.\n",
            "  font.set_text(s, 0, flags=flags)\n",
            "/usr/local/lib/python3.7/dist-packages/matplotlib/backends/backend_agg.py:183: RuntimeWarning: Glyph 53680 missing from current font.\n",
            "  font.set_text(s, 0, flags=flags)\n",
            "/usr/local/lib/python3.7/dist-packages/matplotlib/backends/backend_agg.py:183: RuntimeWarning: Glyph 54665 missing from current font.\n",
            "  font.set_text(s, 0, flags=flags)\n",
            "/usr/local/lib/python3.7/dist-packages/matplotlib/backends/backend_agg.py:183: RuntimeWarning: Glyph 53356 missing from current font.\n",
            "  font.set_text(s, 0, flags=flags)\n",
            "/usr/local/lib/python3.7/dist-packages/matplotlib/backends/backend_agg.py:183: RuntimeWarning: Glyph 49828 missing from current font.\n",
            "  font.set_text(s, 0, flags=flags)\n",
            "/usr/local/lib/python3.7/dist-packages/matplotlib/backends/backend_agg.py:183: RuntimeWarning: Glyph 50865 missing from current font.\n",
            "  font.set_text(s, 0, flags=flags)\n",
            "/usr/local/lib/python3.7/dist-packages/matplotlib/backends/backend_agg.py:183: RuntimeWarning: Glyph 51076 missing from current font.\n",
            "  font.set_text(s, 0, flags=flags)\n",
            "/usr/local/lib/python3.7/dist-packages/matplotlib/backends/backend_agg.py:183: RuntimeWarning: Glyph 46024 missing from current font.\n",
            "  font.set_text(s, 0, flags=flags)\n",
            "/usr/local/lib/python3.7/dist-packages/matplotlib/backends/backend_agg.py:183: RuntimeWarning: Glyph 48324 missing from current font.\n",
            "  font.set_text(s, 0, flags=flags)\n",
            "/usr/local/lib/python3.7/dist-packages/matplotlib/backends/backend_agg.py:183: RuntimeWarning: Glyph 44060 missing from current font.\n",
            "  font.set_text(s, 0, flags=flags)\n",
            "/usr/local/lib/python3.7/dist-packages/matplotlib/backends/backend_agg.py:183: RuntimeWarning: Glyph 50780 missing from current font.\n",
            "  font.set_text(s, 0, flags=flags)\n",
            "/usr/local/lib/python3.7/dist-packages/matplotlib/backends/backend_agg.py:183: RuntimeWarning: Glyph 44397 missing from current font.\n",
            "  font.set_text(s, 0, flags=flags)\n",
            "/usr/local/lib/python3.7/dist-packages/matplotlib/backends/backend_agg.py:183: RuntimeWarning: Glyph 50528 missing from current font.\n",
            "  font.set_text(s, 0, flags=flags)\n",
            "/usr/local/lib/python3.7/dist-packages/matplotlib/backends/backend_agg.py:183: RuntimeWarning: Glyph 45768 missing from current font.\n",
            "  font.set_text(s, 0, flags=flags)\n",
            "/usr/local/lib/python3.7/dist-packages/matplotlib/backends/backend_agg.py:183: RuntimeWarning: Glyph 47196 missing from current font.\n",
            "  font.set_text(s, 0, flags=flags)\n",
            "/usr/local/lib/python3.7/dist-packages/matplotlib/backends/backend_agg.py:183: RuntimeWarning: Glyph 48391 missing from current font.\n",
            "  font.set_text(s, 0, flags=flags)\n",
            "/usr/local/lib/python3.7/dist-packages/matplotlib/backends/backend_agg.py:183: RuntimeWarning: Glyph 46304 missing from current font.\n",
            "  font.set_text(s, 0, flags=flags)\n",
            "/usr/local/lib/python3.7/dist-packages/matplotlib/backends/backend_agg.py:183: RuntimeWarning: Glyph 49324 missing from current font.\n",
            "  font.set_text(s, 0, flags=flags)\n",
            "/usr/local/lib/python3.7/dist-packages/matplotlib/backends/backend_agg.py:183: RuntimeWarning: Glyph 46988 missing from current font.\n",
            "  font.set_text(s, 0, flags=flags)\n",
            "/usr/local/lib/python3.7/dist-packages/matplotlib/backends/backend_agg.py:183: RuntimeWarning: Glyph 50880 missing from current font.\n",
            "  font.set_text(s, 0, flags=flags)\n",
            "/usr/local/lib/python3.7/dist-packages/matplotlib/backends/backend_agg.py:183: RuntimeWarning: Glyph 45576 missing from current font.\n",
            "  font.set_text(s, 0, flags=flags)\n",
            "/usr/local/lib/python3.7/dist-packages/matplotlib/backends/backend_agg.py:183: RuntimeWarning: Glyph 53664 missing from current font.\n",
            "  font.set_text(s, 0, flags=flags)\n",
            "/usr/local/lib/python3.7/dist-packages/matplotlib/backends/backend_agg.py:183: RuntimeWarning: Glyph 52636 missing from current font.\n",
            "  font.set_text(s, 0, flags=flags)\n",
            "/usr/local/lib/python3.7/dist-packages/matplotlib/backends/backend_agg.py:183: RuntimeWarning: Glyph 47751 missing from current font.\n",
            "  font.set_text(s, 0, flags=flags)\n",
            "/usr/local/lib/python3.7/dist-packages/matplotlib/backends/backend_agg.py:183: RuntimeWarning: Glyph 48264 missing from current font.\n",
            "  font.set_text(s, 0, flags=flags)\n",
            "/usr/local/lib/python3.7/dist-packages/matplotlib/backends/backend_agg.py:183: RuntimeWarning: Glyph 44032 missing from current font.\n",
            "  font.set_text(s, 0, flags=flags)\n",
            "/usr/local/lib/python3.7/dist-packages/matplotlib/backends/backend_agg.py:183: RuntimeWarning: Glyph 51109 missing from current font.\n",
            "  font.set_text(s, 0, flags=flags)\n",
            "/usr/local/lib/python3.7/dist-packages/matplotlib/backends/backend_agg.py:183: RuntimeWarning: Glyph 51200 missing from current font.\n",
            "  font.set_text(s, 0, flags=flags)\n",
            "/usr/local/lib/python3.7/dist-packages/matplotlib/backends/backend_agg.py:183: RuntimeWarning: Glyph 51089 missing from current font.\n",
            "  font.set_text(s, 0, flags=flags)\n",
            "/usr/local/lib/python3.7/dist-packages/matplotlib/backends/backend_agg.py:183: RuntimeWarning: Glyph 54408 missing from current font.\n",
            "  font.set_text(s, 0, flags=flags)\n"
          ]
        },
        {
          "output_type": "display_data",
          "data": {
            "text/plain": [
              "<Figure size 864x432 with 1 Axes>"
            ],
            "image/png": "[encoded data removed]"
          },
          "metadata": {
            "needs_background": "light"
          }
        },
        {
          "output_type": "stream",
          "name": "stdout",
          "text": [
            "['영화', '평점', '뭐', '이', '말', '이건', '그', '내', '진짜', '완전', '최고', '때', '놈', '시간', '관객모독', '점', '더', '음악', '내용', '연기', '감독', '재미', '시리즈', '좀', '보고', '이영화', '것', '빵점', '볼', '톰']\n"
          ]
        },
        {
          "output_type": "display_data",
          "data": {
            "text/plain": [
              "<Figure size 864x576 with 1 Axes>"
            ],
            "image/png": "[encoded data removed]"
          },
          "metadata": {
            "needs_background": "light"
          }
        }
      ],
      "source": [
        "# plot word cloud only noun\n",
        "from konlpy.tag import Okt\n",
        "okt = Okt()\n",
        "tmptmp = []\n",
        "for tmp in train_data:\n",
        "#     tmptmp.extend(okt.morphs(tmp))    \n",
        "    tmptmp.extend(okt.nouns(tmp))\n",
        "    \n",
        "# stopword를 등록한 다음에 다시 그래프를 그려보자\n",
        "ko = nltk.Text(tmptmp)\n",
        "plt.figure(figsize=(12,6))\n",
        "ko.plot(50)                 # 빈도수가 높은 단어 50개를 그래프에 출력\n",
        "plt.show()\n",
        "\n",
        "# wordcloud 그리기\n",
        "data = ko.vocab().most_common(150) #wordcloud로 출력할 단어의 갯수 150개\n",
        "from wordcloud import WordCloud\n",
        "\n",
        "# wordcloud = WordCloud(font_path='c:/Windows/Fonts/malgun.ttf', relative_scaling=0.2,\n",
        "#                       background_color='white',).generate_from_frequencies(dict(data))\n",
        "wordcloud = WordCloud(relative_scaling=0.2, background_color='white',).generate_from_frequencies(dict(data))\n",
        "print(list(wordcloud.words_)[:30])\n",
        "plt.figure(figsize=(12,8))\n",
        "plt.imshow(wordcloud)\n",
        "plt.axis('off')\n",
        "plt.show()"
      ]
    },
    {
      "cell_type": "markdown",
      "id": "3b62aa6e",
      "metadata": {
        "id": "3b62aa6e"
      },
      "source": [
        "## 언어 분석 완료!!"
      ]
    },
    {
      "cell_type": "code",
      "source": [
        "import nltk\n",
        "import urllib\n",
        "import re\n",
        "from bs4 import BeautifulSoup\n",
        "from nltk.corpus import stopwords\n",
        "import matplotlib\n",
        "import matplotlib.pyplot as plt\n",
        "import random\n",
        "\n",
        "nltk.download('averaged_perceptron_tagger')\n",
        "nltk.download('stopwords')\n",
        "\n",
        "# 페이지의 html을 긁어온다\n",
        "response = urllib.request.urlopen('https://pytorch.org/')\n",
        "html = response.read()\n",
        "print(\"HTML\", html[:500])\n",
        "\n",
        "tokens = re.split('\\W+', html.decode('utf-8'))\n",
        "print(\"\\n## 토큰\\n\", tokens[:20])\n",
        "\n",
        "clean = BeautifulSoup(html, 'html.parser').get_text()  # html cleansing\n",
        "\n",
        "tokens = clean.split()\n",
        "print(\"\\n## html 정제\\n\", tokens[:20])\n",
        "\n",
        "stop_word = set(stopwords.words('english'))  # 불용어\n",
        "clean_tokens = []\n",
        "for tok in tokens:\n",
        "    if (tok.lower() not in stop_word):  # 길이가 1 이상 인 것 !! stop word가 아닌 것 !\n",
        "        clean_tokens.append(tok)\n",
        "\n",
        "# FreqDist 클래스는 문서에 사용된 단어(토큰)의 사용빈도 정보를 담는 클래스이다.\n",
        "Freq_dist_nltk = nltk.FreqDist(clean_tokens)\n",
        "Freq_dist_nltk.plot(30, cumulative=False)"
      ],
      "metadata": {
        "colab": {
          "base_uri": "https://localhost:8080/",
          "height": 567
        },
        "id": "e2FD0h9YpGqq",
        "outputId": "c3ec8a41-f48d-4252-8830-59ea0b935bda"
      },
      "id": "e2FD0h9YpGqq",
      "execution_count": 1,
      "outputs": [
        {
          "output_type": "stream",
          "name": "stdout",
          "text": [
            "[nltk_data] Downloading package averaged_perceptron_tagger to\n",
            "[nltk_data]     /root/nltk_data...\n",
            "[nltk_data]   Unzipping taggers/averaged_perceptron_tagger.zip.\n",
            "[nltk_data] Downloading package stopwords to /root/nltk_data...\n",
            "[nltk_data]   Unzipping corpora/stopwords.zip.\n",
            "HTML b'<!DOCTYPE html>\\n<html lang=\"en\">\\n  <head>\\n  <!-- Google Tag Manager -->\\n  <script>(function(w,d,s,l,i){w[l]=w[l]||[];w[l].push({\\'gtm.start\\':\\n  new Date().getTime(),event:\\'gtm.js\\'});var f=d.getElementsByTagName(s)[0],\\n  j=d.createElement(s),dl=l!=\\'dataLayer\\'?\\'&l=\\'+l:\\'\\';j.async=true;j.src=\\n  \\'https://www.googletagmanager.com/gtm.js?id=\\'+i+dl;f.parentNode.insertBefore(j,f);\\n  })(window,document,\\'script\\',\\'dataLayer\\',\\'GTM-52DXT37\\');</script>\\n  <!-- End Google Tag Manager -->\\n  <meta charset=\"UTF-8\">\\n'\n",
            "\n",
            "## 토큰\n",
            " ['', 'DOCTYPE', 'html', 'html', 'lang', 'en', 'head', 'Google', 'Tag', 'Manager', 'script', 'function', 'w', 'd', 's', 'l', 'i', 'w', 'l', 'w']\n",
            "\n",
            "## html 정제\n",
            " [\"(function(w,d,s,l,i){w[l]=w[l]||[];w[l].push({'gtm.start':\", 'new', \"Date().getTime(),event:'gtm.js'});var\", 'f=d.getElementsByTagName(s)[0],', \"j=d.createElement(s),dl=l!='dataLayer'?'&l='+l:'';j.async=true;j.src=\", \"'https://www.googletagmanager.com/gtm.js?id='+i+dl;f.parentNode.insertBefore(j,f);\", \"})(window,document,'script','dataLayer','GTM-52DXT37');\", 'PyTorch', 'MathJax.Hub.Config({', 'tex2jax:', '{', 'skipTags:', \"['script',\", \"'noscript',\", \"'style',\", \"'textarea',\", \"'pre'],\", 'inlineMath:', \"[['$','$']]\", '}']\n"
          ]
        },
        {
          "output_type": "display_data",
          "data": {
            "text/plain": [
              "<Figure size 432x288 with 1 Axes>"
            ],
            "image/png": "[encoded data removed]"
          },
          "metadata": {
            "needs_background": "light"
          }
        }
      ]
    },
    {
      "cell_type": "code",
      "source": [
        ""
      ],
      "metadata": {
        "id": "s6JCqo-xpGdG"
      },
      "id": "s6JCqo-xpGdG",
      "execution_count": null,
      "outputs": []
    },
    {
      "cell_type": "code",
      "execution_count": null,
      "id": "9afcf6ee",
      "metadata": {
        "id": "9afcf6ee"
      },
      "outputs": [],
      "source": [
        ""
      ]
    }
  ],
  "metadata": {
    "hide_input": false,
    "kernelspec": {
      "display_name": "Python 3 (ipykernel)",
      "language": "python",
      "name": "python3"
    },
    "language_info": {
      "codemirror_mode": {
        "name": "ipython",
        "version": 3
      },
      "file_extension": ".py",
      "mimetype": "text/x-python",
      "name": "python",
      "nbconvert_exporter": "python",
      "pygments_lexer": "ipython3",
      "version": "3.7.11"
    },
    "varInspector": {
      "cols": {
        "lenName": 16,
        "lenType": 16,
        "lenVar": 40
      },
      "kernels_config": {
        "python": {
          "delete_cmd_postfix": "",
          "delete_cmd_prefix": "del ",
          "library": "var_list.py",
          "varRefreshCmd": "print(var_dic_list())"
        },
        "r": {
          "delete_cmd_postfix": ") ",
          "delete_cmd_prefix": "rm(",
          "library": "var_list.r",
          "varRefreshCmd": "cat(var_dic_list()) "
        }
      },
      "types_to_exclude": [
        "module",
        "function",
        "builtin_function_or_method",
        "instance",
        "_Feature"
      ],
      "window_display": false
    },
    "colab": {
      "name": "nlp_2_3_txt_analyze_basic_3_colab.ipynb",
      "provenance": [],
      "collapsed_sections": [
        "85f74344"
      ]
    },
    "accelerator": "GPU"
  },
  "nbformat": 4,
  "nbformat_minor": 5
}