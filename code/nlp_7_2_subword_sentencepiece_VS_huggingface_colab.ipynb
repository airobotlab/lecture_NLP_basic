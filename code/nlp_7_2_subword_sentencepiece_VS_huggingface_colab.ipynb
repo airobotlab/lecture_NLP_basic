{
  "cells": [
    {
      "cell_type": "markdown",
      "metadata": {
        "id": "G-sohfSFXnub"
      },
      "source": [
        "# SentencePiece VS Huggingface tokenizer\n",
        "\n",
        "한국어 서브워드 분절 알고리즘 실습&비교\n",
        "\n",
        "220527\n",
        "\n",
        "고우영"
      ]
    },
    {
      "cell_type": "markdown",
      "metadata": {
        "id": "V6nqltMtXnuf"
      },
      "source": [
        "| 학습시간 비교(s) | 8000   | 16000 | 32000 | 64000 | 128000|\n",
        "|------|------|------|------|------|------|\n",
        "|   Sentencepiece  | 11| 22 |48| 110 |282|\n",
        "|   hugging_face  | 10| 11 |11| 12 |12|\n",
        "\n",
        "| 추론시간 비교(s) | 8000| 128000|\n",
        "|------|------|------|\n",
        "|   Sentencepiece  | 4.5| 4.93 |\n",
        "|   hugging_face  | 4.9| 4.97 |"
      ]
    },
    {
      "cell_type": "markdown",
      "metadata": {
        "id": "UO9izbHlXnug"
      },
      "source": [
        "# NSMC 데이터셋 로드\n",
        "## 15만 문장, 113만 word(띄어쓰기 기준), 평균 7.5word/sentence"
      ]
    },
    {
      "cell_type": "code",
      "execution_count": 1,
      "metadata": {
        "colab": {
          "base_uri": "https://localhost:8080/",
          "height": 536
        },
        "id": "ZCQPMJS2Xnug",
        "outputId": "c892c5eb-bc32-4977-de33-95211bc70a38"
      },
      "outputs": [
        {
          "output_type": "stream",
          "name": "stdout",
          "text": [
            "[('굳 ㅋ', 1), ('GDNTOPCLASSINTHECLUB', 0)]\n",
            "data loading done!\n",
            "sentence: ['굳 ㅋ', 'GDNTOPCLASSINTHECLUB', '뭐야 이 평점들은.... 나쁘진 않지만 10점 짜리는 더더욱 아니잖아']\n",
            "Label   : [1, 0, 0]\n",
            "\n",
            "코퍼스 문장수/평균/총 단어 갯수 : 49997, 7.6 / 380472\n"
          ]
        },
        {
          "output_type": "display_data",
          "data": {
            "text/plain": [
              "<Figure size 576x360 with 1 Axes>"
            ],
            "image/png": "[encoded data removed]"
          },
          "metadata": {
            "needs_background": "light"
          }
        },
        {
          "output_type": "stream",
          "name": "stdout",
          "text": [
            "['굳 ㅋ', 'GDNTOPCLASSINTHECLUB', '뭐야 이 평점들은.... 나쁘진 않지만 10점 짜리는 더더욱 아니잖아']\n",
            "\n",
            "코퍼스 문장수/평균/총 단어 갯수 : 49998, 7.6 / 380472\n",
            "CPU times: user 4.85 s, sys: 200 ms, total: 5.05 s\n",
            "Wall time: 6.18 s\n"
          ]
        }
      ],
      "source": [
        "%%time\n",
        "## 1.2) read csv data\n",
        "# NSMC 데이터 로드\n",
        "import pandas as pd\n",
        "# data_nsmc = pd.read_csv('data/nsmc.txt', sep='\\t')\n",
        "data_nsmc = pd.read_table('https://raw.githubusercontent.com/e9t/nsmc/master/ratings_test.txt')\n",
        "\n",
        "train_pair = [(row[1], row[2]) for _, row in data_nsmc.iterrows() if type(row[1]) == str]  # nan 제거\n",
        "print(train_pair[:2])\n",
        "\n",
        "#  문장 및 라벨 데이터 추출\n",
        "train_data  = [pair[0] for pair in train_pair]\n",
        "train_label = [pair[1] for pair in train_pair]\n",
        "print('data loading done!')\n",
        "print('sentence: %s' %(train_data[:3]))\n",
        "print('Label   : %s' %(train_label[:3]))\n",
        "\n",
        "num_word_list = [len(sentence.split()) for sentence in train_data]\n",
        "print('\\n코퍼스 문장수/평균/총 단어 갯수 : %d, %.1f / %d' % (len(num_word_list), sum(num_word_list)/len(num_word_list), sum(num_word_list)))\n",
        "\n",
        "import matplotlib.pyplot as plt\n",
        "plt.figure(figsize=(8, 5))\n",
        "plt.hist(num_word_list, bins=50)\n",
        "plt.xlabel('length of samples')\n",
        "plt.ylabel('number of samples')\n",
        "plt.show()\n",
        "\n",
        "# subword 학습을 위해 문장만 따로 저장\n",
        "with open('train_tokenizer.txt', 'w', encoding='utf-8') as f:\n",
        "    for line in train_data:\n",
        "        f.write(line+'\\n')\n",
        "\n",
        "# subword 학습을 위해 문장만 따로 저장\n",
        "with open('train_tokenizer.txt', 'r', encoding='utf-8') as f:\n",
        "    test_tokenizer = f.read().split('\\n')\n",
        "print(test_tokenizer[:3])\n",
        "\n",
        "num_word_list = [len(sentence.split()) for sentence in test_tokenizer]\n",
        "print('\\n코퍼스 문장수/평균/총 단어 갯수 : %d, %.1f / %d' % (len(num_word_list), sum(num_word_list)/len(num_word_list), sum(num_word_list)))"
      ]
    },
    {
      "cell_type": "markdown",
      "metadata": {
        "id": "KnePQPQmXnuh"
      },
      "source": [
        "# SentencePiece 학습"
      ]
    },
    {
      "cell_type": "raw",
      "metadata": {
        "id": "RdF34YDKXnui"
      },
      "source": [
        "# 설치\n",
        "!pip install sentencepiece==0.1.83"
      ]
    },
    {
      "cell_type": "code",
      "source": [
        "!pip install sentencepiece==0.1.83"
      ],
      "metadata": {
        "colab": {
          "base_uri": "https://localhost:8080/"
        },
        "id": "XQzJK6yqYg2c",
        "outputId": "c7d044b1-65ae-41b8-fb57-32b8c19dc252"
      },
      "execution_count": 2,
      "outputs": [
        {
          "output_type": "stream",
          "name": "stdout",
          "text": [
            "Looking in indexes: https://pypi.org/simple, https://us-python.pkg.dev/colab-wheels/public/simple/\n",
            "Collecting sentencepiece==0.1.83\n",
            "  Downloading sentencepiece-0.1.83-cp37-cp37m-manylinux1_x86_64.whl (1.0 MB)\n",
            "\u001b[K     |████████████████████████████████| 1.0 MB 3.2 MB/s \n",
            "\u001b[?25hInstalling collected packages: sentencepiece\n",
            "Successfully installed sentencepiece-0.1.83\n"
          ]
        }
      ]
    },
    {
      "cell_type": "code",
      "execution_count": 3,
      "metadata": {
        "colab": {
          "base_uri": "https://localhost:8080/"
        },
        "id": "PWtdjWYiXnui",
        "outputId": "ed6bbdb4-8394-4999-8659-caf8c280c4d1"
      },
      "outputs": [
        {
          "output_type": "stream",
          "name": "stdout",
          "text": [
            "train done\n",
            "CPU times: user 20.6 s, sys: 252 ms, total: 20.9 s\n",
            "Wall time: 15.8 s\n"
          ]
        }
      ],
      "source": [
        "%%time\n",
        "\n",
        "# spm_train --input=train_tokenizer.txt  --model_prefix=sentencepiece/sp --vocab_size=32000 character_coverage=1.0 --model_type=\"unigram\"\n",
        "\n",
        "import sentencepiece as spm\n",
        "import os\n",
        "\n",
        "input_file = 'train_tokenizer.txt'\n",
        "vocab_size = 32000\n",
        "sp_model_root='sentencepiece'\n",
        "if not os.path.isdir(sp_model_root):\n",
        "    os.mkdir(sp_model_root)\n",
        "sp_model_name = 'tokenizer_%d' % (vocab_size)\n",
        "sp_model_path = os.path.join(sp_model_root, sp_model_name)\n",
        "model_type = 'unigram'  # 학습할 모델 선택, unigram이 더 성능이 좋음'bpe'\n",
        "character_coverage  = 1.0  # 전체를 cover 하기 위해, default=0.9995\n",
        "user_defined_symbols = '[PAD],[UNK],[CLS],[SEP],[MASK],[BOS],[EOS],[UNK0],[UNK1],[UNK2],[UNK3],[UNK4],[UNK5],[UNK6],[UNK7],[UNK8],[UNK9],[unused0],[unused1],[unused2],[unused3],[unused4],[unused5],[unused6],[unused7],[unused8],[unused9],[unused10],[unused11],[unused12],[unused13],[unused14],[unused15],[unused16],[unused17],[unused18],[unused19],[unused20],[unused21],[unused22],[unused23],[unused24],[unused25],[unused26],[unused27],[unused28],[unused29],[unused30],[unused31],[unused32],[unused33],[unused34],[unused35],[unused36],[unused37],[unused38],[unused39],[unused40],[unused41],[unused42],[unused43],[unused44],[unused45],[unused46],[unused47],[unused48],[unused49],[unused50],[unused51],[unused52],[unused53],[unused54],[unused55],[unused56],[unused57],[unused58],[unused59],[unused60],[unused61],[unused62],[unused63],[unused64],[unused65],[unused66],[unused67],[unused68],[unused69],[unused70],[unused71],[unused72],[unused73],[unused74],[unused75],[unused76],[unused77],[unused78],[unused79],[unused80],[unused81],[unused82],[unused83],[unused84],[unused85],[unused86],[unused87],[unused88],[unused89],[unused90],[unused91],[unused92],[unused93],[unused94],[unused95],[unused96],[unused97],[unused98],[unused99]'\n",
        "\n",
        "input_argument = '--input=%s --model_prefix=%s --vocab_size=%s --user_defined_symbols=%s --model_type=%s --character_coverage=%s'\n",
        "cmd = input_argument%(input_file, sp_model_path, vocab_size,user_defined_symbols, model_type, character_coverage)\n",
        "\n",
        "spm.SentencePieceTrainer.Train(cmd)\n",
        "print('train done')"
      ]
    },
    {
      "cell_type": "code",
      "execution_count": 4,
      "metadata": {
        "colab": {
          "base_uri": "https://localhost:8080/"
        },
        "id": "XgfFlAAuXnuj",
        "outputId": "f00f1cd1-0189-4bc3-a082-3e703e4564e3"
      },
      "outputs": [
        {
          "output_type": "stream",
          "name": "stdout",
          "text": [
            "[422, 668, 5753, 5305, 131, 121, 9622, 120]\n",
            "['▁나는', '▁오늘', '▁아침', '밥', '을', '▁', '먹었다', '.']\n",
            "나는 오늘 아침밥을 먹었다.\n",
            "나는 오늘 아침밥을 먹었다.\n"
          ]
        }
      ],
      "source": [
        "## check\n",
        "import sentencepiece as spm\n",
        "sp = spm.SentencePieceProcessor()\n",
        "sp.Load('{}.model'.format(sp_model_path))\n",
        "\n",
        "tokens = sp.encode_as_pieces('나는 오늘 아침밥을 먹었다.')\n",
        "ids = sp.encode_as_ids('나는 오늘 아침밥을 먹었다.')\n",
        "\n",
        "print(ids)\n",
        "print(tokens)\n",
        "\n",
        "tokens = sp.decode_pieces(tokens)\n",
        "ids = sp.decode_ids(ids)\n",
        "\n",
        "print(ids)\n",
        "print(tokens)"
      ]
    },
    {
      "cell_type": "markdown",
      "metadata": {
        "id": "4QDKjU5YXnuk"
      },
      "source": [
        "# Huggingface tokenizer"
      ]
    },
    {
      "cell_type": "markdown",
      "metadata": {
        "id": "cbXhW3DfXnuk"
      },
      "source": [
        "## 1. Huggingface setup"
      ]
    },
    {
      "cell_type": "raw",
      "metadata": {
        "id": "cOv9aWZ3Xnuk"
      },
      "source": [
        "# hugging face tokenizer 설치\n",
        "!pip uninstall tokenizers\n",
        "!pip install tokenizers==0.9.4"
      ]
    },
    {
      "cell_type": "markdown",
      "metadata": {
        "id": "6JwrwlLjXnuk"
      },
      "source": [
        "## 2. Huggingface train"
      ]
    },
    {
      "cell_type": "code",
      "source": [
        "!pip install tokenizers==0.12.1"
      ],
      "metadata": {
        "colab": {
          "base_uri": "https://localhost:8080/"
        },
        "id": "wHHc_hHeZoDM",
        "outputId": "a1e0b870-5feb-424d-d609-66d2a77d9d4b"
      },
      "execution_count": 5,
      "outputs": [
        {
          "output_type": "stream",
          "name": "stdout",
          "text": [
            "Looking in indexes: https://pypi.org/simple, https://us-python.pkg.dev/colab-wheels/public/simple/\n",
            "Collecting tokenizers==0.12.1\n",
            "  Downloading tokenizers-0.12.1-cp37-cp37m-manylinux_2_12_x86_64.manylinux2010_x86_64.whl (6.6 MB)\n",
            "\u001b[K     |████████████████████████████████| 6.6 MB 5.2 MB/s \n",
            "\u001b[?25hInstalling collected packages: tokenizers\n",
            "Successfully installed tokenizers-0.12.1\n"
          ]
        }
      ]
    },
    {
      "cell_type": "code",
      "execution_count": 6,
      "metadata": {
        "colab": {
          "base_uri": "https://localhost:8080/"
        },
        "id": "9PS-7JsNXnul",
        "outputId": "2f8df3f4-a84c-4f8c-856d-a25699fc7425"
      },
      "outputs": [
        {
          "output_type": "stream",
          "name": "stdout",
          "text": [
            "BertWordPieceTokenizer\n",
            "['[BOS]', '[EOS]', '[UNK0]', '[UNK1]', '[UNK2]', '[UNK3]', '[UNK4]', '[UNK5]', '[UNK6]', '[UNK7]', '[UNK8]', '[UNK9]']\n",
            "idx   : [4761, 4937, 6312, 3432, 2404, 1041, 4405, 45]\n",
            "tokens: ['나는', '오늘', '아침', '##밥', '##을', '먹', '##었다', '.']\n",
            "offset: [(0, 2), (3, 5), (6, 8), (8, 9), (9, 10), (11, 12), (12, 14), (14, 15)]\n",
            "idx   : [13943, 4497, 13513, 45, 45, 4645, 5424, 4471, 45, 45, 4388, 15204]\n",
            "tokens: ['교도소', '이야기', '##구먼', '.', '.', '솔직히', '재미는', '없다', '.', '.', '평점', '조정']\n",
            "offset: [(0, 3), (4, 7), (7, 9), (10, 11), (11, 12), (12, 15), (16, 19), (20, 22), (22, 23), (23, 24), (24, 26), (27, 29)]\n",
            "CPU times: user 5.81 s, sys: 1.33 s, total: 7.14 s\n",
            "Wall time: 6.41 s\n"
          ]
        }
      ],
      "source": [
        "%%time\n",
        "from tokenizers import SentencePieceBPETokenizer, BertWordPieceTokenizer\n",
        "\n",
        "how_to_tokenize = BertWordPieceTokenizer\n",
        "# how_to_tokenize = SentencePieceBPETokenizer\n",
        "\n",
        "# Initialize a tokenizer\n",
        "if str(how_to_tokenize) == str(BertWordPieceTokenizer):\n",
        "    print('BertWordPieceTokenizer')\n",
        "    tokenizer = how_to_tokenize(\n",
        "        strip_accents=False,  # Must be False if cased model\n",
        "        lowercase=False,\n",
        "    )\n",
        "elif str(how_to_tokenize) == str(SentencePieceBPETokenizer):\n",
        "    print('SentencePieceBPETokenizer')\n",
        "    tokenizer = how_to_tokenize()\n",
        "else:\n",
        "    assert('select right tokenizer')\n",
        "\n",
        "#########################################\n",
        "corpus_file   = ['train_tokenizer.txt']  # data path\n",
        "vocab_size    = 32000\n",
        "limit_alphabet= 6000\n",
        "output_path   = 'hugging_%d'%(vocab_size)\n",
        "\n",
        "hf_model_root='huggingface'\n",
        "if not os.path.isdir(hf_model_root):\n",
        "    os.mkdir(hf_model_root)\n",
        "hf_model_name = 'tokenizer_%d.json' % (vocab_size)\n",
        "hf_model_path = os.path.join(hf_model_root, hf_model_name)\n",
        "\n",
        "min_frequency = 5\n",
        "\n",
        "## 1) define special tokens\n",
        "user_defined_symbols = ['[BOS]','[EOS]','[UNK0]','[UNK1]','[UNK2]','[UNK3]','[UNK4]','[UNK5]','[UNK6]','[UNK7]','[UNK8]','[UNK9]']\n",
        "unused_token_num = 20\n",
        "unused_list = ['[unused{}]'.format(n) for n in range(unused_token_num)]\n",
        "special_tokens = user_defined_symbols + unused_list\n",
        "print(user_defined_symbols)\n",
        "\n",
        "\n",
        "# Then train it!\n",
        "tokenizer.train(files=corpus_file,\n",
        "               vocab_size=vocab_size,\n",
        "               min_frequency=min_frequency,  # 단어의 최소 발생 빈도, 5\n",
        "               limit_alphabet=limit_alphabet,\n",
        "               show_progress=True,\n",
        "               special_tokens=special_tokens\n",
        "               )\n",
        "\n",
        "# And finally save it somewhere\n",
        "tokenizer.save(hf_model_path)\n",
        "\n",
        "output = tokenizer.encode(\"나는 오늘 아침밥을 먹었다.\")\n",
        "print('idx   : %s'%output.ids)\n",
        "print('tokens: %s'%output.tokens)\n",
        "print('offset: %s'%output.offsets)\n",
        "\n",
        "output = tokenizer.encode(\"교도소 이야기구먼 ..솔직히 재미는 없다..평점 조정\")\n",
        "print('idx   : %s'%output.ids)\n",
        "print('tokens: %s'%output.tokens)\n",
        "print('offset: %s'%output.offsets)"
      ]
    },
    {
      "cell_type": "markdown",
      "metadata": {
        "id": "pj8TtLjZXnul"
      },
      "source": [
        "## 3. Huggingface Tokenize test"
      ]
    },
    {
      "cell_type": "code",
      "execution_count": 7,
      "metadata": {
        "colab": {
          "base_uri": "https://localhost:8080/"
        },
        "id": "nm75iGYMXnul",
        "outputId": "b8b2d457-b566-47a0-f910-0bcbd7b4d8a3"
      },
      "outputs": [
        {
          "output_type": "stream",
          "name": "stdout",
          "text": [
            "idx   : [4761, 4937, 6312, 3432, 2404, 1041, 4405, 45]\n",
            "tokens: ['나는', '오늘', '아침', '##밥', '##을', '먹', '##었다', '.']\n",
            "offset: [(0, 2), (3, 5), (6, 8), (8, 9), (9, 10), (11, 12), (12, 14), (14, 15)]\n",
            "idx   : [13943, 4497, 13513, 45, 45, 4645, 5424, 4471, 45, 45, 4388, 15204]\n",
            "tokens: ['교도소', '이야기', '##구먼', '.', '.', '솔직히', '재미는', '없다', '.', '.', '평점', '조정']\n",
            "offset: [(0, 3), (4, 7), (7, 9), (10, 11), (11, 12), (12, 15), (16, 19), (20, 22), (22, 23), (23, 24), (24, 26), (27, 29)]\n"
          ]
        }
      ],
      "source": [
        "from tokenizers import Tokenizer\n",
        "\n",
        "how_to_tokenize = BertWordPieceTokenizer\n",
        "# how_to_tokenize = SentencePieceBPETokenizer\n",
        "vocab_size    = 32000\n",
        "\n",
        "tokenizer = Tokenizer.from_file(hf_model_path)\n",
        "\n",
        "\n",
        "output = tokenizer.encode(\"나는 오늘 아침밥을 먹었다.\")\n",
        "print('idx   : %s'%output.ids)\n",
        "print('tokens: %s'%output.tokens)\n",
        "print('offset: %s'%output.offsets)\n",
        "\n",
        "output = tokenizer.encode(\"교도소 이야기구먼 ..솔직히 재미는 없다..평점 조정\")\n",
        "print('idx   : %s'%output.ids)\n",
        "print('tokens: %s'%output.tokens)\n",
        "print('offset: %s'%output.offsets)"
      ]
    },
    {
      "cell_type": "markdown",
      "metadata": {
        "id": "UIDssrwMXnum"
      },
      "source": [
        "# Tokenze usage"
      ]
    },
    {
      "cell_type": "markdown",
      "metadata": {
        "id": "lIOJIgPjXnum"
      },
      "source": [
        "## 1. SentencePiece Usage, load & 분절"
      ]
    },
    {
      "cell_type": "code",
      "execution_count": 8,
      "metadata": {
        "colab": {
          "base_uri": "https://localhost:8080/"
        },
        "id": "G9x6w4srXnum",
        "outputId": "5519a56a-3e42-4b1d-bcd5-5a1b72f3d60f"
      },
      "outputs": [
        {
          "output_type": "stream",
          "name": "stdout",
          "text": [
            "['▁굳', '▁ᄏ']\n",
            "['▁G', 'D', 'N', 'T', 'O', 'P', 'CL', 'A', 'SS', 'IN', 'THE', 'CL', 'U', 'B']\n",
            "['▁뭐야', '▁이', '▁평점', '들은', '....', '▁나쁘진', '▁않지만', '▁10', '점', '▁짜리', '는', '▁더더욱', '▁아니잖아']\n",
            "CPU times: user 186 ms, sys: 1.89 ms, total: 187 ms\n",
            "Wall time: 254 ms\n"
          ]
        }
      ],
      "source": [
        "%%time\n",
        "import sentencepiece as spm\n",
        "sp = spm.SentencePieceProcessor()\n",
        "sp.Load('{}.model'.format(sp_model_path))\n",
        "sentencepiece_tokenizer = sp.encode_as_pieces\n",
        "\n",
        "result_tokenized_sentencepiece = [sentencepiece_tokenizer(_tmp) for _tmp in test_tokenizer[:3]]\n",
        "    \n",
        "for tmp in result_tokenized_sentencepiece[:3]:\n",
        "    print(tmp)"
      ]
    },
    {
      "cell_type": "markdown",
      "metadata": {
        "id": "_A2S1mojXnum"
      },
      "source": [
        "## 2. Huggingface Usage, load & 분절"
      ]
    },
    {
      "cell_type": "code",
      "execution_count": 9,
      "metadata": {
        "colab": {
          "base_uri": "https://localhost:8080/"
        },
        "id": "N3NMVDyzXnum",
        "outputId": "31758123-e6a7-4f37-8bc2-cac42b05c398"
      },
      "outputs": [
        {
          "output_type": "stream",
          "name": "stdout",
          "text": [
            "['굳', 'ㅋ']\n",
            "['G', '##D', '##N', '##T', '##O', '##P', '##C', '##L', '##A', '##S', '##S', '##IN', '##T', '##H', '##EC', '##L', '##U', '##B']\n",
            "['뭐야', '이', '평점들', '##은', '.', '.', '.', '.', '나쁘진', '않지만', '10점', '짜리', '##는', '더더욱', '아니잖아']\n",
            "CPU times: user 29.7 ms, sys: 1.98 ms, total: 31.7 ms\n",
            "Wall time: 33.4 ms\n"
          ]
        }
      ],
      "source": [
        "%%time\n",
        "from tokenizers import Tokenizer\n",
        "\n",
        "how_to_tokenize = BertWordPieceTokenizer\n",
        "# how_to_tokenize = SentencePieceBPETokenizer\n",
        "vocab_size    = 32000\n",
        "\n",
        "tokenizer = Tokenizer.from_file(hf_model_path)\n",
        "\n",
        "result_tokenized_sentencepiece = [tokenizer.encode(_tmp).tokens for _tmp in test_tokenizer[:3]]\n",
        "for tmp in result_tokenized_sentencepiece[:3]:\n",
        "    print(tmp)\n"
      ]
    },
    {
      "cell_type": "code",
      "execution_count": 9,
      "metadata": {
        "id": "bEJoj-3kXnun"
      },
      "outputs": [],
      "source": [
        ""
      ]
    },
    {
      "cell_type": "code",
      "execution_count": 9,
      "metadata": {
        "id": "FUwzg1TgXnun"
      },
      "outputs": [],
      "source": [
        ""
      ]
    },
    {
      "cell_type": "code",
      "execution_count": 9,
      "metadata": {
        "id": "OyGOgendXnun"
      },
      "outputs": [],
      "source": [
        ""
      ]
    }
  ],
  "metadata": {
    "kernelspec": {
      "display_name": "Python 3",
      "language": "python",
      "name": "python3"
    },
    "language_info": {
      "codemirror_mode": {
        "name": "ipython",
        "version": 3
      },
      "file_extension": ".py",
      "mimetype": "text/x-python",
      "name": "python",
      "nbconvert_exporter": "python",
      "pygments_lexer": "ipython3",
      "version": "3.6.10"
    },
    "varInspector": {
      "cols": {
        "lenName": 16,
        "lenType": 16,
        "lenVar": 40
      },
      "kernels_config": {
        "python": {
          "delete_cmd_postfix": "",
          "delete_cmd_prefix": "del ",
          "library": "var_list.py",
          "varRefreshCmd": "print(var_dic_list())"
        },
        "r": {
          "delete_cmd_postfix": ") ",
          "delete_cmd_prefix": "rm(",
          "library": "var_list.r",
          "varRefreshCmd": "cat(var_dic_list()) "
        }
      },
      "types_to_exclude": [
        "module",
        "function",
        "builtin_function_or_method",
        "instance",
        "_Feature"
      ],
      "window_display": false
    },
    "colab": {
      "name": "nlp_7_2_subword_sentencepiece_VS_huggingface_colab.ipynb",
      "provenance": [],
      "collapsed_sections": []
    }
  },
  "nbformat": 4,
  "nbformat_minor": 0
}