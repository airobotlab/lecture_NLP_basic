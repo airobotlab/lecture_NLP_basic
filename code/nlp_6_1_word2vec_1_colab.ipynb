{
  "cells": [
    {
      "cell_type": "markdown",
      "metadata": {
        "id": "tECk1yKL-07X"
      },
      "source": [
        "#한국어 vectorizing"
      ]
    },
    {
      "cell_type": "markdown",
      "metadata": {
        "id": "eBdJFecI-4UK"
      },
      "source": [
        "자연어를 좌표평면 위에 나열하는 법을 실습합니다.\n",
        "\n",
        "\n",
        "*   Word2Vec\n",
        "*   FastText\n",
        "\n"
      ]
    },
    {
      "cell_type": "code",
      "execution_count": 6,
      "metadata": {
        "colab": {
          "base_uri": "https://localhost:8080/"
        },
        "id": "Ig-5Erc--xbX",
        "outputId": "8fc00769-e14a-4828-893f-6aee0237a308"
      },
      "outputs": [
        {
          "output_type": "stream",
          "name": "stdout",
          "text": [
            "Looking in indexes: https://pypi.org/simple, https://us-python.pkg.dev/colab-wheels/public/simple/\n",
            "Requirement already satisfied: gensim==4.2.0 in /usr/local/lib/python3.7/dist-packages (4.2.0)\n",
            "Requirement already satisfied: smart-open>=1.8.1 in /usr/local/lib/python3.7/dist-packages (from gensim==4.2.0) (6.0.0)\n",
            "Requirement already satisfied: numpy>=1.17.0 in /usr/local/lib/python3.7/dist-packages (from gensim==4.2.0) (1.21.6)\n",
            "Requirement already satisfied: scipy>=0.18.1 in /usr/local/lib/python3.7/dist-packages (from gensim==4.2.0) (1.4.1)\n",
            "Looking in indexes: https://pypi.org/simple, https://us-python.pkg.dev/colab-wheels/public/simple/\n",
            "Requirement already satisfied: konlpy in /usr/local/lib/python3.7/dist-packages (0.6.0)\n",
            "Requirement already satisfied: JPype1>=0.7.0 in /usr/local/lib/python3.7/dist-packages (from konlpy) (1.4.0)\n",
            "Requirement already satisfied: numpy>=1.6 in /usr/local/lib/python3.7/dist-packages (from konlpy) (1.21.6)\n",
            "Requirement already satisfied: lxml>=4.1.0 in /usr/local/lib/python3.7/dist-packages (from konlpy) (4.2.6)\n",
            "Requirement already satisfied: typing-extensions in /usr/local/lib/python3.7/dist-packages (from JPype1>=0.7.0->konlpy) (4.2.0)\n"
          ]
        }
      ],
      "source": [
        "!pip install gensim==4.2.0\n",
        "!python -m pip install konlpy"
      ]
    },
    {
      "cell_type": "code",
      "execution_count": 7,
      "metadata": {
        "colab": {
          "base_uri": "https://localhost:8080/"
        },
        "id": "ctL0df81AHsW",
        "outputId": "bad439c0-8d05-4b7c-c625-ef56bbaadd72"
      },
      "outputs": [
        {
          "output_type": "stream",
          "name": "stdout",
          "text": [
            "awk: cannot open ./cookie (No such file or directory)\n",
            "  % Total    % Received % Xferd  Average Speed   Time    Time     Time  Current\n",
            "                                 Dload  Upload   Total   Spent    Left  Speed\n",
            "  0     0    0     0    0     0      0      0 --:--:--  0:00:02 --:--:--     0\n",
            "100 75.1M  100 75.1M    0     0  30.2M      0  0:00:02  0:00:02 --:--:--  282M\n",
            "mkdir: cannot create directory ‘data’: File exists\n"
          ]
        }
      ],
      "source": [
        "!curl -c ./cookie -s -L \"https://drive.google.com/uc?export=download&id=1V4rTx4yaAg0x1NY1MpNRY2Dp1nKeyOQ7\" > /dev/null\n",
        "!curl -Lb ./cookie \"https://drive.google.com/uc?export=download&confirm=`awk '/download/ {print $NF}' ./cookie`&id=1V4rTx4yaAg0x1NY1MpNRY2Dp1nKeyOQ7\" -o wiki_20190620_small.txt\n",
        "!mkdir data\n",
        "!mv wiki_20190620_small.txt data/"
      ]
    },
    {
      "cell_type": "markdown",
      "metadata": {
        "id": "ZzwT5zteFv_q"
      },
      "source": [
        "## 0) Prepare dataset"
      ]
    },
    {
      "cell_type": "code",
      "execution_count": 8,
      "metadata": {
        "colab": {
          "base_uri": "https://localhost:8080/"
        },
        "id": "Mxko6oiFAUY1",
        "outputId": "b57226fd-4444-4e2c-c7f7-3c86f1c254a9"
      },
      "outputs": [
        {
          "output_type": "stream",
          "name": "stdout",
          "text": [
            "['제임스 얼 \" 지미 \" 카터 주니어 는 민주당 출신 미국 39 번 째 대통령 이 다 . \\n', '지미 카터 는 조지아주 섬터 카운티 플레인스 마을 에서 태어났 다 . \\n']\n",
            "\n",
            "  =>  ['제임스 얼 \" 지미 \" 카터 주니어 는 민주당 출신 미국 39 번 째 대통령 이 다 . \\n', '지미 카터 는 조지아주 섬터 카운티 플레인스 마을 에서 태어났 다 . \\n']\n"
          ]
        }
      ],
      "source": [
        "## 1.1) read text data\n",
        "# 한국어 위키 데이터 load\n",
        "with open('./data/wiki_20190620_small.txt', 'r', encoding='utf-8') as f:\n",
        "    lines = f.readlines()\n",
        "    print(lines[:2])\n",
        "\n",
        "    # '\\n' 제거\n",
        "    lines_wiki = [tmp.strip() for tmp in lines]\n",
        "    print('\\n  => ', lines[:2])"
      ]
    },
    {
      "cell_type": "code",
      "execution_count": 9,
      "metadata": {
        "code_folding": [],
        "id": "R-7xlGVwFv_r"
      },
      "outputs": [],
      "source": [
        "# 형태서 단위로 분절, 23min\n",
        "from konlpy.tag import Okt\n",
        "from tqdm import tqdm\n",
        "okt = Okt()\n",
        "\n",
        "stop_words = ['의','가','이','은','들','는','좀','잘','걍','과','도','를','으로','자','에','와','한','하다']\n",
        "\n",
        "# lines_wiki_morph = []\n",
        "# for tmp in tqdm(lines_wiki[:1000]):\n",
        "# # for tmp in tqdm(lines_wiki):\n",
        "    \n",
        "#     list_token = okt.morphs(tmp)\n",
        "#     lines_wiki_morph = [word for word in list_token if not word in stop_words] \n",
        "\n",
        "    \n",
        "# lines_wiki_morph = list(map(lambda s: list(okt.morphs(s)), lines_wiki[:10000]))\n",
        "lines_wiki_morph = list(map(lambda s: list(okt.morphs(s)), lines_wiki))"
      ]
    },
    {
      "cell_type": "markdown",
      "source": [
        "## 0) 간단한 실습"
      ],
      "metadata": {
        "id": "EGa9-mgZGv_k"
      }
    },
    {
      "cell_type": "code",
      "execution_count": 10,
      "metadata": {
        "code_folding": [
          0
        ],
        "colab": {
          "base_uri": "https://localhost:8080/",
          "height": 498
        },
        "id": "uLdF7B1dFv_r",
        "outputId": "c48182c7-3f36-43e9-ec53-b62b337e8122"
      },
      "outputs": [
        {
          "output_type": "stream",
          "name": "stderr",
          "text": [
            "/usr/local/lib/python3.7/dist-packages/ipykernel_launcher.py:15: DeprecationWarning: Call to deprecated `init_sims` (Gensim 4.0.0 implemented internal optimizations that make calls to init_sims() unnecessary. init_sims() is now obsoleted and will be completely removed in future versions. See https://github.com/RaRe-Technologies/gensim/wiki/Migrating-from-Gensim-3.x-to-4).\n",
            "  from ipykernel import kernelapp as app\n"
          ]
        },
        {
          "output_type": "display_data",
          "data": {
            "text/plain": [
              "<Figure size 1152x432 with 4 Axes>"
            ],
            "image/png": "[encoded data removed]"
          },
          "metadata": {
            "needs_background": "light"
          }
        }
      ],
      "source": [
        "## 1) word2vec 실습\n",
        "# https://frhyme.github.io/python-lib/nlp_vector/\n",
        "from gensim.models.word2vec import Word2Vec\n",
        "import matplotlib.pyplot as plt\n",
        "\n",
        "f, axes = plt.subplots(2, 2, sharex=False, sharey=False)\n",
        "f.set_size_inches((16, 6)) \n",
        "for i in range(0, 2):\n",
        "    for j in range(0, 2):\n",
        "        sample_n = [1, 1000, 2000, 6000][i*2+j]\n",
        "        sent_lst = [\"I am a boy\", \"I am a girl\", \"I am a dog\"]*sample_n\n",
        "        sent_split_lst = map(lambda s: list(s.lower().split(\" \")), sent_lst)\n",
        "\n",
        "        model = Word2Vec(list(sent_split_lst), vector_size=2, window = 3, min_count=1)\n",
        "        model.init_sims(replace=True)# 학습 완료 후, 필요없는 메모리 삭제 \n",
        "\n",
        "        for x, y, t in ((model.wv.get_vector(w)[0], model.wv.get_vector(w)[0], w) for w in model.wv.index_to_key):\n",
        "            axes[i][j].scatter(x, y, cmap=plt.cm.rainbow)\n",
        "            axes[i][j].text(x+0.01, y, t, fontsize=12)\n",
        "            axes[i][j].set_title(\"sample size = {}\".format(sample_n))\n",
        "f.tight_layout()# 그냥 이걸로 다 해결되었다.\n",
        "plt.savefig('word_embedding_subplot_220527.svg')\n",
        "plt.show()"
      ]
    },
    {
      "cell_type": "code",
      "execution_count": 10,
      "metadata": {
        "id": "1xwGn2KnFv_r"
      },
      "outputs": [],
      "source": [
        ""
      ]
    },
    {
      "cell_type": "markdown",
      "metadata": {
        "id": "iGUgjaybFv_s"
      },
      "source": [
        "## 1) train word2vec"
      ]
    },
    {
      "cell_type": "code",
      "execution_count": 11,
      "metadata": {
        "colab": {
          "base_uri": "https://localhost:8080/"
        },
        "id": "uyO0eFjAFv_s",
        "outputId": "08e2b2ca-7cd6-41ba-c043-0464aebd7fde"
      },
      "outputs": [
        {
          "output_type": "stream",
          "name": "stderr",
          "text": [
            "/usr/local/lib/python3.7/dist-packages/ipykernel_launcher.py:4: DeprecationWarning: Call to deprecated `init_sims` (Gensim 4.0.0 implemented internal optimizations that make calls to init_sims() unnecessary. init_sims() is now obsoleted and will be completely removed in future versions. See https://github.com/RaRe-Technologies/gensim/wiki/Migrating-from-Gensim-3.x-to-4).\n",
            "  after removing the cwd from sys.path.\n"
          ]
        }
      ],
      "source": [
        "from gensim.models.word2vec import Word2Vec\n",
        "\n",
        "model_w2v = Word2Vec(lines_wiki_morph, vector_size=50, window = 5, min_count=10)\n",
        "model_w2v.init_sims(replace=True)# 학습 완료 후, 필요없는 메모리 삭제 "
      ]
    },
    {
      "cell_type": "code",
      "execution_count": 12,
      "metadata": {
        "colab": {
          "base_uri": "https://localhost:8080/"
        },
        "id": "1T6oeRzPAZ62",
        "outputId": "6193dbb1-7733-40e3-b76b-9d44f5a44104"
      },
      "outputs": [
        {
          "output_type": "stream",
          "name": "stdout",
          "text": [
            "['.', '다', '의', '이', '는', ',', '에', '을', '하', '은', '를', '한', '고', '가', '있', '으로', '에서', '년', '되', '로', '었', '들', '과', '였', '했', '도', '적', '와', '인', '그', '기', '것', '월', '된', '지', '어', '게', '일', '여', '수', '\"', '등', \"'\", '1', '해', '으며', '며', '2', '던', '할', '서', '자', '3', '않', '만', '았', '성', '에게', '-', '때', '·', '까지', '받', '중', '주', '제', '세', '4', '명', '라고', '면', '라는', '지만', '대', '는데', '5', '아', '다고', '이후', '없', '면서', '으나', '다는', '같', '개', '사용', '위', '부터', '두', '나', '후', '지역', '라', '많', '미국', '때문', '일본', '말', '대한', '전']\n"
          ]
        }
      ],
      "source": [
        "vocabs = model_w2v.wv.index_to_key\n",
        "print(vocabs[:100])"
      ]
    },
    {
      "cell_type": "code",
      "execution_count": 13,
      "metadata": {
        "id": "THsYkxnJBjTa"
      },
      "outputs": [],
      "source": [
        "model_w2v.save('w2v_model')\n",
        "saved_model_w2v = Word2Vec.load('w2v_model')"
      ]
    },
    {
      "cell_type": "code",
      "execution_count": 14,
      "metadata": {
        "colab": {
          "base_uri": "https://localhost:8080/"
        },
        "id": "5oWwDF8kFv_s",
        "outputId": "bd965f06-86b6-45d4-f0f4-91ce3fffe3a2"
      },
      "outputs": [
        {
          "output_type": "execute_result",
          "data": {
            "text/plain": [
              "array([-0.09069695,  0.05213527, -0.04826991, -0.07579015, -0.15667671,\n",
              "       -0.06096543,  0.19858845,  0.15356252, -0.12740041, -0.00627539,\n",
              "        0.00692626,  0.03615111,  0.03501377,  0.34350199, -0.24440192,\n",
              "       -0.23272716,  0.01410124, -0.00720403, -0.2257743 ,  0.01962542,\n",
              "        0.11834422,  0.00861288,  0.05321943, -0.060807  ,  0.06543067,\n",
              "       -0.08315798, -0.131428  , -0.01030659, -0.24258709,  0.03308367,\n",
              "       -0.22581364,  0.10330817, -0.29773876, -0.09942336,  0.21006529,\n",
              "        0.20423074,  0.15202188, -0.13145243, -0.00819538,  0.0136234 ,\n",
              "       -0.07294616, -0.2645808 , -0.03243195, -0.06711995,  0.03371099,\n",
              "        0.24536589,  0.07725797,  0.05031949, -0.11659153, -0.1650046 ],\n",
              "      dtype=float32)"
            ]
          },
          "metadata": {},
          "execution_count": 14
        }
      ],
      "source": [
        "saved_model_w2v.wv['이순신']"
      ]
    },
    {
      "cell_type": "code",
      "execution_count": 15,
      "metadata": {
        "colab": {
          "base_uri": "https://localhost:8080/"
        },
        "id": "86_ljdJ7BsE-",
        "outputId": "22a0c9c3-b9c8-4706-c353-e99151e46e4c"
      },
      "outputs": [
        {
          "output_type": "stream",
          "name": "stdout",
          "text": [
            "## 이순신과 가까운 단어\n",
            " [('원균', 0.847652792930603), ('수군', 0.7719423770904541), ('최영', 0.763788104057312), ('김유신', 0.7518765926361084), ('계략', 0.7403256893157959), ('왕건', 0.7278620004653931), ('연개소문', 0.7171447277069092), ('제갈량', 0.7141541838645935), ('김부식', 0.7126466631889343), ('견훤', 0.7097271084785461)]\n",
            "\n",
            "## 이순신<->이명박: 0.10\n",
            "\n",
            "## 이순신<->원  균: 0.85\n",
            "\n",
            "## 대한민국-서울+베이징\n",
            "=>  [('중화민국', 0.7893625497817993), ('중화인민공화국', 0.7794374227523804), ('베트남', 0.7400386929512024), ('일본', 0.7344449162483215), ('조선민주주의인민공화국', 0.7331362366676331), ('중국', 0.7118562459945679), ('러시아', 0.6881078481674194), ('대만', 0.6875410079956055), ('이스라엘', 0.683338463306427), ('필리핀', 0.6772626042366028)]\n",
            "\n",
            "## 영국과 가까운 단어\n",
            " [('프랑스', 0.8846070170402527), ('독일', 0.8481327891349792), ('네덜란드', 0.8338569402694702), ('스페인', 0.8252941370010376), ('미국', 0.8154518604278564), ('스웨덴', 0.7919657230377197), ('포르투갈', 0.7691243886947632), ('러시아', 0.7557358741760254), ('노르웨이', 0.7504591345787048), ('대영제국', 0.7483952045440674)]\n"
          ]
        }
      ],
      "source": [
        "print('## 이순신과 가까운 단어\\n', saved_model_w2v.wv.most_similar(positive=[\"이순신\"], topn=10))\n",
        "print('\\n## 이순신<->이명박: %.2f'%saved_model_w2v.wv.similarity('이순신', '이명박'))\n",
        "print('\\n## 이순신<->원  균: %.2f'%saved_model_w2v.wv.similarity('이순신', '원균'))\n",
        "print('\\n## 대한민국-서울+베이징\\n=> ', saved_model_w2v.wv.most_similar(positive=['대한민국', '베이징'], negative=['서울']))\n",
        "print('\\n## 영국과 가까운 단어\\n', saved_model_w2v.wv.similar_by_word('영국'))"
      ]
    },
    {
      "cell_type": "code",
      "execution_count": 15,
      "metadata": {
        "id": "gL8k_ZH8Fv_t"
      },
      "outputs": [],
      "source": [
        ""
      ]
    },
    {
      "cell_type": "markdown",
      "metadata": {
        "id": "nrldNjl0Fv_t"
      },
      "source": [
        "## 2) FastText 학습"
      ]
    },
    {
      "cell_type": "code",
      "execution_count": 16,
      "metadata": {
        "id": "1FJvnQPjB7-N"
      },
      "outputs": [],
      "source": [
        "from gensim.models.fasttext import FastText\n",
        "import gensim.models.word2vec"
      ]
    },
    {
      "cell_type": "code",
      "execution_count": 17,
      "metadata": {
        "colab": {
          "base_uri": "https://localhost:8080/"
        },
        "id": "nRJ5EjBzB_0k",
        "outputId": "68002525-9a4a-4756-8563-eadb8a0c9b2e"
      },
      "outputs": [
        {
          "output_type": "stream",
          "name": "stderr",
          "text": [
            "/usr/local/lib/python3.7/dist-packages/ipykernel_launcher.py:2: DeprecationWarning: Call to deprecated `init_sims` (Gensim 4.0.0 implemented internal optimizations that make calls to init_sims() unnecessary. init_sims() is now obsoleted and will be completely removed in future versions. See https://github.com/RaRe-Technologies/gensim/wiki/Migrating-from-Gensim-3.x-to-4).\n",
            "  \n"
          ]
        }
      ],
      "source": [
        "model_fasttext = FastText(lines_wiki_morph, vector_size=50, window = 5, min_count=10)\n",
        "model_fasttext.init_sims(replace=True)# 학습 완료 후, 필요없는 메모리 삭제 "
      ]
    },
    {
      "cell_type": "code",
      "execution_count": 18,
      "metadata": {
        "id": "pOstVrS6CHDR"
      },
      "outputs": [],
      "source": [
        "model_fasttext.save('fasttext_model')\n",
        "saved_model_fasttext = FastText.load('fasttext_model')"
      ]
    },
    {
      "cell_type": "code",
      "execution_count": 19,
      "metadata": {
        "colab": {
          "base_uri": "https://localhost:8080/"
        },
        "id": "IvOLbxy1Fv_u",
        "outputId": "f14a4cbe-12de-4bb2-bc8d-839d0860a314"
      },
      "outputs": [
        {
          "output_type": "stream",
          "name": "stdout",
          "text": [
            "## 이순신과 가까운 단어\n",
            " [('군', 10.144164085388184), ('씨', 9.313223838806152), ('왕', 9.10566520690918), ('병', 8.02184009552002), ('장군', 7.737173080444336), ('함', 7.680090427398682), ('조선', 7.632279396057129), ('《', 7.604093074798584), ('고종', 7.5664215087890625), ('전투', 7.462076663970947)]\n",
            "\n",
            "## 이순신<->이명박: 0.07\n",
            "\n",
            "## 이순신<->원  균: 0.83\n",
            "\n",
            "## 대한민국-서울+베이징\n",
            "=>  [('적', 11.557185173034668), ('론', 8.17136287689209), ('독일', 7.819032192230225), ('족', 7.8113274574279785), ('많', 7.352581977844238), ('들', 7.1035261154174805), ('영국', 7.084288597106934), ('전쟁', 7.064088821411133), ('받', 6.733620643615723), ('화', 6.642155647277832)]\n",
            "\n",
            "## 영국과 가까운 단어\n",
            " [('받', 11.037919998168945), ('미국', 10.553934097290039), ('조약', 10.54643726348877), ('독일', 9.989163398742676), ('섬', 9.667634963989258), ('유럽', 9.460180282592773), ('전쟁', 9.397361755371094), ('령', 9.228996276855469), ('주', 8.839669227600098), ('맺', 8.633912086486816)]\n"
          ]
        }
      ],
      "source": [
        "print('## 이순신과 가까운 단어\\n', saved_model_fasttext.wv.most_similar(positive=[\"이순신\"], topn=10))\n",
        "print('\\n## 이순신<->이명박: %.2f'%saved_model_fasttext.wv.similarity('이순신', '이명박'))\n",
        "print('\\n## 이순신<->원  균: %.2f'%saved_model_fasttext.wv.similarity('이순신', '원균'))\n",
        "print('\\n## 대한민국-서울+베이징\\n=> ', saved_model_fasttext.wv.most_similar(positive=['대한민국', '베이징'], negative=['서울']))\n",
        "print('\\n## 영국과 가까운 단어\\n', saved_model_fasttext.wv.similar_by_word('영국'))"
      ]
    },
    {
      "cell_type": "code",
      "execution_count": 20,
      "metadata": {
        "colab": {
          "base_uri": "https://localhost:8080/"
        },
        "id": "ZLK15mCeCs94",
        "outputId": "31eb72cb-e660-4512-c171-69788310c5af"
      },
      "outputs": [
        {
          "output_type": "stream",
          "name": "stdout",
          "text": [
            "[ 2.5234529e-01 -1.1634414e+00  9.8395813e-01 -5.1066560e-01\n",
            "  2.4469550e-01 -3.3012295e-01 -8.0669159e-01  1.7077715e+00\n",
            "  3.6407217e-01 -2.6824063e-01 -1.1800690e+00  1.1162051e+00\n",
            "  9.2967933e-01  2.3492347e-01 -2.7449331e-01 -2.4737842e-01\n",
            " -1.3649741e-01  5.5512679e-01 -1.2324209e+00  1.5853641e+00\n",
            " -7.8429587e-02 -3.5836378e-01  1.2687370e+00 -5.4174459e-01\n",
            " -8.2940543e-01 -9.8945421e-01  4.7231314e-01  1.0334009e+00\n",
            "  1.5543917e-01 -1.1197838e+00 -2.4302064e-04 -5.0968355e-01\n",
            " -1.2316911e+00  4.2819422e-01  1.0175624e+00  5.5499631e-01\n",
            " -5.9683371e-01 -1.0071896e+00 -2.5340915e-01  5.2348673e-01\n",
            " -5.6685930e-01 -1.3908409e-01  1.3118218e+00 -1.8053211e-01\n",
            "  2.7091036e-02  1.7687333e-01  2.1167459e+00  7.1249074e-01\n",
            "  5.0146717e-01 -2.0945699e+00]\n"
          ]
        }
      ],
      "source": [
        "word_vector = saved_model_fasttext.wv['이순신']\n",
        "print(word_vector)"
      ]
    },
    {
      "cell_type": "code",
      "execution_count": 21,
      "metadata": {
        "colab": {
          "base_uri": "https://localhost:8080/"
        },
        "id": "fGaT0s1pFv_u",
        "outputId": "62914f54-0037-40b8-e584-cdbd1db5febe"
      },
      "outputs": [
        {
          "output_type": "stream",
          "name": "stdout",
          "text": [
            "## 이순신과 가까운 단어\n",
            " [('군', 10.144164085388184), ('씨', 9.313223838806152), ('왕', 9.10566520690918), ('병', 8.02184009552002), ('장군', 7.737173080444336), ('함', 7.680090427398682), ('조선', 7.632279396057129), ('《', 7.604093074798584), ('고종', 7.5664215087890625), ('전투', 7.462076663970947)]\n",
            "\n",
            "## 이순신<->이명박: 0.07\n",
            "\n",
            "## 이순신<->원  균: 0.83\n",
            "\n",
            "## 대한민국-서울+베이징\n",
            "=>  [('적', 11.557185173034668), ('론', 8.17136287689209), ('독일', 7.819032192230225), ('족', 7.8113274574279785), ('많', 7.352581977844238), ('들', 7.1035261154174805), ('영국', 7.084288597106934), ('전쟁', 7.064088821411133), ('받', 6.733620643615723), ('화', 6.642155647277832)]\n",
            "\n",
            "## 영국과 가까운 단어\n",
            " [('받', 11.037919998168945), ('미국', 10.553934097290039), ('조약', 10.54643726348877), ('독일', 9.989163398742676), ('섬', 9.667634963989258), ('유럽', 9.460180282592773), ('전쟁', 9.397361755371094), ('령', 9.228996276855469), ('주', 8.839669227600098), ('맺', 8.633912086486816)]\n"
          ]
        }
      ],
      "source": [
        "print('## 이순신과 가까운 단어\\n', saved_model_fasttext.wv.most_similar(positive=[\"이순신\"], topn=10))\n",
        "print('\\n## 이순신<->이명박: %.2f'%saved_model_fasttext.wv.similarity('이순신', '이명박'))\n",
        "print('\\n## 이순신<->원  균: %.2f'%saved_model_fasttext.wv.similarity('이순신', '원균'))\n",
        "print('\\n## 대한민국-서울+베이징\\n=> ', saved_model_fasttext.wv.most_similar(positive=['대한민국', '베이징'], negative=['서울']))\n",
        "print('\\n## 영국과 가까운 단어\\n', saved_model_fasttext.wv.similar_by_word('영국'))"
      ]
    },
    {
      "cell_type": "code",
      "execution_count": 22,
      "metadata": {
        "colab": {
          "base_uri": "https://localhost:8080/"
        },
        "id": "GlqcXc83Cy-H",
        "outputId": "5f922da5-02f0-46cc-91dc-98448bcb9aa3"
      },
      "outputs": [
        {
          "output_type": "execute_result",
          "data": {
            "text/plain": [
              "[('적', 12.187234878540039),\n",
              " ('받', 9.75007152557373),\n",
              " ('론', 8.557537078857422),\n",
              " ('독일', 8.494512557983398),\n",
              " ('제국', 8.384032249450684),\n",
              " ('족', 8.359405517578125),\n",
              " ('얻', 8.058629035949707),\n",
              " ('왕국', 7.79880952835083),\n",
              " ('영향', 7.783575534820557),\n",
              " ('주의', 7.465984344482422)]"
            ]
          },
          "metadata": {},
          "execution_count": 22
        }
      ],
      "source": [
        "saved_model_fasttext.wv.most_similar(positive=['대한민국', '이탈리아'], negative=['서울'])"
      ]
    },
    {
      "cell_type": "code",
      "execution_count": 23,
      "metadata": {
        "colab": {
          "base_uri": "https://localhost:8080/"
        },
        "id": "QuctyGtMC0aF",
        "outputId": "7461f443-b896-43ad-8cb8-5ccf75335b0f"
      },
      "outputs": [
        {
          "output_type": "stream",
          "name": "stdout",
          "text": [
            "[('측', 14.446197509765625), ('전쟁', 10.709078788757324), ('조약', 10.598675727844238), ('군', 10.43717098236084), ('소련', 10.167313575744629), ('정부', 10.053406715393066), ('국', 9.94519329071045), ('미군', 9.437292098999023), ('핵', 9.430438041687012), ('친', 9.162507057189941)]\n"
          ]
        }
      ],
      "source": [
        "print(saved_model_fasttext.wv.similar_by_word('북한'))"
      ]
    },
    {
      "cell_type": "code",
      "execution_count": 23,
      "metadata": {
        "id": "m9Ql5YYWFv_v"
      },
      "outputs": [],
      "source": [
        ""
      ]
    },
    {
      "cell_type": "code",
      "execution_count": 23,
      "metadata": {
        "id": "4T7ATsvoC5ez"
      },
      "outputs": [],
      "source": [
        ""
      ]
    }
  ],
  "metadata": {
    "colab": {
      "collapsed_sections": [],
      "name": "nlp_6_1_word2vec_1_colab.ipynb",
      "provenance": []
    },
    "kernelspec": {
      "display_name": "Python 3 (ipykernel)",
      "language": "python",
      "name": "python3"
    },
    "language_info": {
      "codemirror_mode": {
        "name": "ipython",
        "version": 3
      },
      "file_extension": ".py",
      "mimetype": "text/x-python",
      "name": "python",
      "nbconvert_exporter": "python",
      "pygments_lexer": "ipython3",
      "version": "3.7.11"
    },
    "varInspector": {
      "cols": {
        "lenName": 16,
        "lenType": 16,
        "lenVar": 40
      },
      "kernels_config": {
        "python": {
          "delete_cmd_postfix": "",
          "delete_cmd_prefix": "del ",
          "library": "var_list.py",
          "varRefreshCmd": "print(var_dic_list())"
        },
        "r": {
          "delete_cmd_postfix": ") ",
          "delete_cmd_prefix": "rm(",
          "library": "var_list.r",
          "varRefreshCmd": "cat(var_dic_list()) "
        }
      },
      "types_to_exclude": [
        "module",
        "function",
        "builtin_function_or_method",
        "instance",
        "_Feature"
      ],
      "window_display": false
    },
    "accelerator": "GPU"
  },
  "nbformat": 4,
  "nbformat_minor": 0
}