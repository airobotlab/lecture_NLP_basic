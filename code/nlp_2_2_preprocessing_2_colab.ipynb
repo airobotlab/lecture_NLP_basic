{
  "cells": [
    {
      "cell_type": "markdown",
      "id": "af8e6701",
      "metadata": {
        "id": "af8e6701"
      },
      "source": [
        "# 텍스트 전처리 기초 1\n",
        "\n",
        "220526\n"
      ]
    },
    {
      "cell_type": "markdown",
      "id": "2aa0422b",
      "metadata": {
        "heading_collapsed": true,
        "id": "2aa0422b"
      },
      "source": [
        "## 1) Read data\n",
        "\n",
        "txt, csv 데이터 읽기"
      ]
    },
    {
      "cell_type": "code",
      "execution_count": 1,
      "id": "97be5551",
      "metadata": {
        "code_folding": [
          0
        ],
        "hidden": true,
        "colab": {
          "base_uri": "https://localhost:8080/"
        },
        "id": "97be5551",
        "outputId": "07c0271c-3c61-455d-e691-54eabb0c6f84"
      },
      "outputs": [
        {
          "output_type": "stream",
          "name": "stdout",
          "text": [
            "confused_loanwords.txt\tnsmc.txt  wiki_20190620_small.txt\n"
          ]
        }
      ],
      "source": [
        "# data check\n",
        "!ls data/"
      ]
    },
    {
      "cell_type": "code",
      "execution_count": 2,
      "id": "5ad84da1",
      "metadata": {
        "code_folding": [
          0
        ],
        "hidden": true,
        "colab": {
          "base_uri": "https://localhost:8080/",
          "height": 426
        },
        "id": "5ad84da1",
        "outputId": "8a788704-f80c-4666-8a4c-ad4447c1d8ae"
      },
      "outputs": [
        {
          "output_type": "stream",
          "name": "stdout",
          "text": [
            "['제임스 얼 \"지미\" 카터 주니어는 민주당 출신 미국 39번째 대통령 이다.\\n', '지미 카터는 조지아주 섬터 카운티 플레인스 마을에서 태어났다.\\n']\n",
            "\n",
            "  =>  ['제임스 얼 \"지미\" 카터 주니어는 민주당 출신 미국 39번째 대통령 이다.\\n', '지미 카터는 조지아주 섬터 카운티 플레인스 마을에서 태어났다.\\n']\n",
            "\n",
            "코퍼스 문장수/평균/총 단어 갯수 : 149998, 13.7 / 2053935\n"
          ]
        },
        {
          "output_type": "display_data",
          "data": {
            "text/plain": [
              "<Figure size 576x360 with 1 Axes>"
            ],
            "image/png": "[encoded data removed]"
          },
          "metadata": {
            "needs_background": "light"
          }
        }
      ],
      "source": [
        "## 1.1) read text data\n",
        "# 한국어 위키 데이터 load\n",
        "with open('./data/wiki_20190620_small.txt', 'r', encoding='utf-8') as f:\n",
        "    lines = f.readlines()\n",
        "    print(lines[:2])\n",
        "\n",
        "    # '\\n' 제거\n",
        "    lines_wiki = [tmp.strip() for tmp in lines]\n",
        "    print('\\n  => ', lines[:2])\n",
        "\n",
        "num_word_list = [len(sentence.split()) for sentence in lines_wiki]\n",
        "print('\\n코퍼스 문장수/평균/총 단어 갯수 : %d, %.1f / %d' % (len(num_word_list), sum(num_word_list)/len(num_word_list), sum(num_word_list)))\n",
        "\n",
        "import matplotlib.pyplot as plt\n",
        "plt.figure(figsize=(8, 5))\n",
        "plt.hist(num_word_list, bins=50)\n",
        "plt.xlabel('length of samples')\n",
        "plt.ylabel('number of samples')\n",
        "plt.show()"
      ]
    },
    {
      "cell_type": "code",
      "execution_count": 3,
      "id": "4a9985cf",
      "metadata": {
        "code_folding": [
          0
        ],
        "hidden": true,
        "colab": {
          "base_uri": "https://localhost:8080/",
          "height": 444
        },
        "id": "4a9985cf",
        "outputId": "8d2a21a7-4c99-4db9-eaa2-1d776696be6b"
      },
      "outputs": [
        {
          "output_type": "stream",
          "name": "stdout",
          "text": [
            "[('굳 ㅋ', 1), ('GDNTOPCLASSINTHECLUB', 0)]\n",
            "data loading done!\n",
            "sentence: ['굳 ㅋ', 'GDNTOPCLASSINTHECLUB', '뭐야 이 평점들은.... 나쁘진 않지만 10점 짜리는 더더욱 아니잖아']\n",
            "Label   : [1, 0, 0]\n",
            "\n",
            "코퍼스 문장수/평균/총 단어 갯수 : 49997, 7.6 / 380472\n"
          ]
        },
        {
          "output_type": "display_data",
          "data": {
            "text/plain": [
              "<Figure size 576x360 with 1 Axes>"
            ],
            "image/png": "[encoded data removed]"
          },
          "metadata": {
            "needs_background": "light"
          }
        }
      ],
      "source": [
        "## 1.2) read csv data\n",
        "# NSMC 데이터 로드\n",
        "import pandas as pd\n",
        "# data_nsmc = pd.read_csv('data/nsmc.txt', sep='\\t')\n",
        "data_nsmc = pd.read_table('https://raw.githubusercontent.com/e9t/nsmc/master/ratings_test.txt')\n",
        "\n",
        "train_pair = [(row[1], row[2]) for _, row in data_nsmc.iterrows() if type(row[1]) == str]  # nan 제거\n",
        "print(train_pair[:2])\n",
        "\n",
        "#  문장 및 라벨 데이터 추출\n",
        "train_data  = [pair[0] for pair in train_pair]\n",
        "train_label = [pair[1] for pair in train_pair]\n",
        "print('data loading done!')\n",
        "print('sentence: %s' %(train_data[:3]))\n",
        "print('Label   : %s' %(train_label[:3]))\n",
        "\n",
        "num_word_list = [len(sentence.split()) for sentence in train_data]\n",
        "print('\\n코퍼스 문장수/평균/총 단어 갯수 : %d, %.1f / %d' % (len(num_word_list), sum(num_word_list)/len(num_word_list), sum(num_word_list)))\n",
        "\n",
        "import matplotlib.pyplot as plt\n",
        "plt.figure(figsize=(8, 5))\n",
        "plt.hist(num_word_list, bins=50)\n",
        "plt.xlabel('length of samples')\n",
        "plt.ylabel('number of samples')\n",
        "plt.show()"
      ]
    },
    {
      "cell_type": "markdown",
      "id": "a2126fd8",
      "metadata": {
        "heading_collapsed": true,
        "id": "a2126fd8"
      },
      "source": [
        "## 2) 문장 분리\n",
        "\n",
        "여러 문장이 이어져 있을 때, 한 문장 단위로 분리한다"
      ]
    },
    {
      "cell_type": "code",
      "execution_count": 4,
      "id": "e948113f",
      "metadata": {
        "code_folding": [
          0
        ],
        "hidden": true,
        "scrolled": true,
        "colab": {
          "base_uri": "https://localhost:8080/"
        },
        "id": "e948113f",
        "outputId": "61a86a01-95fe-423c-8be7-d5a384f3c4a9"
      },
      "outputs": [
        {
          "output_type": "stream",
          "name": "stdout",
          "text": [
            "Looking in indexes: https://pypi.org/simple, https://us-python.pkg.dev/colab-wheels/public/simple/\n",
            "Collecting kss\n",
            "  Downloading kss-3.4.2.tar.gz (42.4 MB)\n",
            "\u001b[K     |████████████████████████████████| 42.4 MB 1.2 MB/s \n",
            "\u001b[?25hCollecting emoji\n",
            "  Downloading emoji-1.7.0.tar.gz (175 kB)\n",
            "\u001b[K     |████████████████████████████████| 175 kB 62.4 MB/s \n",
            "\u001b[?25hRequirement already satisfied: regex in /usr/local/lib/python3.7/dist-packages (from kss) (2019.12.20)\n",
            "Requirement already satisfied: more_itertools in /usr/local/lib/python3.7/dist-packages (from kss) (8.13.0)\n",
            "Building wheels for collected packages: kss, emoji\n",
            "  Building wheel for kss (setup.py) ... \u001b[?25l\u001b[?25hdone\n",
            "  Created wheel for kss: filename=kss-3.4.2-py3-none-any.whl size=42448069 sha256=cbf109c1d9e1775ab831d58a07da5d65acb06a79e9fa131784d842bfc8c21729\n",
            "  Stored in directory: /root/.cache/pip/wheels/ef/22/aa/6399b60516a067ec97fa6599fb2d472aeb25e3f9ee6dae3224\n",
            "  Building wheel for emoji (setup.py) ... \u001b[?25l\u001b[?25hdone\n",
            "  Created wheel for emoji: filename=emoji-1.7.0-py3-none-any.whl size=171046 sha256=39ede8ba6b6d3221b6dfb312624eae989983d515de550e4566af368a6d162964\n",
            "  Stored in directory: /root/.cache/pip/wheels/8a/4e/b6/57b01db010d17ef6ea9b40300af725ef3e210cb1acfb7ac8b6\n",
            "Successfully built kss emoji\n",
            "Installing collected packages: emoji, kss\n",
            "Successfully installed emoji-1.7.0 kss-3.4.2\n",
            "Looking in indexes: https://pypi.org/simple, https://us-python.pkg.dev/colab-wheels/public/simple/\n",
            "Collecting kiwipiepy\n",
            "  Downloading kiwipiepy-0.12.0-cp37-cp37m-manylinux_2_12_x86_64.manylinux2010_x86_64.whl (1.4 MB)\n",
            "\u001b[K     |████████████████████████████████| 1.4 MB 27.9 MB/s \n",
            "\u001b[?25hCollecting kiwipiepy-model~=0.12\n",
            "  Downloading kiwipiepy_model-0.12.0.tar.gz (27.7 MB)\n",
            "\u001b[K     |████████████████████████████████| 27.7 MB 37 kB/s \n",
            "\u001b[?25hBuilding wheels for collected packages: kiwipiepy-model\n",
            "  Building wheel for kiwipiepy-model (setup.py) ... \u001b[?25l\u001b[?25hdone\n",
            "  Created wheel for kiwipiepy-model: filename=kiwipiepy_model-0.12.0-py3-none-any.whl size=27789677 sha256=55c2367c9654265ca59e36699a0fb0ec446a3fac1207cfcb21cfdc489049a52d\n",
            "  Stored in directory: /root/.cache/pip/wheels/da/30/65/0934400fe1c12633da117d661b7795ea83c2a224ddc71fb72e\n",
            "Successfully built kiwipiepy-model\n",
            "Installing collected packages: kiwipiepy-model, kiwipiepy\n",
            "Successfully installed kiwipiepy-0.12.0 kiwipiepy-model-0.12.0\n"
          ]
        }
      ],
      "source": [
        "# 한국어 문장분리 라이브러리 설치\n",
        "!pip install kss\n",
        "!pip install kiwipiepy"
      ]
    },
    {
      "cell_type": "code",
      "execution_count": 5,
      "id": "570afb84",
      "metadata": {
        "code_folding": [
          0
        ],
        "hidden": true,
        "colab": {
          "base_uri": "https://localhost:8080/"
        },
        "id": "570afb84",
        "outputId": "590c2844-8791-4229-93d8-741a58a66b47"
      },
      "outputs": [
        {
          "output_type": "stream",
          "name": "stderr",
          "text": [
            "[Korean Sentence Splitter]: Initializing Pynori...\n"
          ]
        },
        {
          "output_type": "stream",
          "name": "stdout",
          "text": [
            "자연어처리 공부를 시작해 볼까요? 텍스트는 비정형 데이터로 정형화 하기 위해 많은 노력이 필요합니다. 하지만 우리 포기하지 말고 끝까지 공부해봐요!! \n",
            "=>\n",
            "자연어처리 공부를 시작해 볼까요?\n",
            "텍스트는 비정형 데이터로 정형화 하기 위해 많은 노력이 필요합니다. 하지만 우리 포기하지 말고 끝까지 공부해봐요!!\n"
          ]
        }
      ],
      "source": [
        "## 2.1) kss를 이용한 문장분리\n",
        "import kss\n",
        "\n",
        "sentences = '자연어처리 공부를 시작해 볼까요? 텍스트는 비정형 데이터로 정형화 하기 위해 많은 노력이 필요합니다. 하지만 우리 포기하지 말고 끝까지 공부해봐요!!'\n",
        "\n",
        "resut_kss = kss.split_sentences(sentences)\n",
        "\n",
        "sentence_tokenized_text = []\n",
        "for sent in resut_kss:\n",
        "    sentence_tokenized_text.append(sent.strip())\n",
        "\n",
        "print(sentences, '\\n=>')\n",
        "for tmp in sentence_tokenized_text:\n",
        "    print(tmp)"
      ]
    },
    {
      "cell_type": "code",
      "execution_count": 6,
      "id": "5b271285",
      "metadata": {
        "code_folding": [
          0
        ],
        "hidden": true,
        "colab": {
          "base_uri": "https://localhost:8080/"
        },
        "id": "5b271285",
        "outputId": "9f59131b-4f0d-464c-901d-1c87be028631"
      },
      "outputs": [
        {
          "output_type": "stream",
          "name": "stdout",
          "text": [
            "자연어처리 공부를 시작해 볼까요? 텍스트는 비정형 데이터로 정형화 하기 위해 많은 노력이 필요합니다. 하지만 우리 포기하지 말고 끝까지 공부해봐요!! \n",
            "=>\n",
            "자연어처리 공부를 시작해 볼까요?\n",
            "텍스트는 비정형 데이터로 정형화 하기 위해 많은 노력이 필요합니다.\n",
            "하지만 우리 포기하지 말고 끝까지 공부해봐요!!\n"
          ]
        }
      ],
      "source": [
        "## 2.1) kiwi를 이용한 문장분리\n",
        "from kiwipiepy import Kiwi\n",
        "kiwi = Kiwi()\n",
        "\n",
        "sentences = '자연어처리 공부를 시작해 볼까요? 텍스트는 비정형 데이터로 정형화 하기 위해 많은 노력이 필요합니다. 하지만 우리 포기하지 말고 끝까지 공부해봐요!!'\n",
        "\n",
        "result_kiwi = kiwi.split_into_sents(sentences)\n",
        "sentence_tokenized_text = []\n",
        "for sent in result_kiwi:\n",
        "    sentence_tokenized_text.append(sent.text)\n",
        "\n",
        "print(sentences, '\\n=>')\n",
        "for tmp in sentence_tokenized_text:\n",
        "    print(tmp)"
      ]
    },
    {
      "cell_type": "code",
      "execution_count": 7,
      "id": "17acb400",
      "metadata": {
        "code_folding": [
          0
        ],
        "hidden": true,
        "colab": {
          "base_uri": "https://localhost:8080/"
        },
        "id": "17acb400",
        "outputId": "480dd52d-8490-4eb0-ccfa-afd422031e96"
      },
      "outputs": [
        {
          "output_type": "stream",
          "name": "stdout",
          "text": [
            "##################################################\n",
            "문장 분리 적용 전\n",
            "갈수록 개판되가는 중국영화 유치하고 내용없음 폼잡다 끝남 말도안되는 무기에 유치한cg남무 아 그립다 동사서독같은 영화가 이건 3류아류작이다\n",
            "\n",
            "코퍼스 문장수/평균/총 단어 갯수 : 100, 7.3 / 726\n",
            "##################################################\n",
            "문장 분리 적용 후\n",
            "['갈수록 개판되가는 중국영화 유치하고 내용없음 폼잡다 끝남 말도안되는 무기에 유치한cg남무 아 그립다', '동사서독같은 영화가 이건 3류아류작이다']\n",
            "\n",
            "코퍼스 문장수/평균/총 단어 갯수 : 169, 4.4 / 750\n"
          ]
        }
      ],
      "source": [
        "## 2.3) 결과 비교\n",
        "tmp_data = train_data[:100]\n",
        "\n",
        "print('#'*50)\n",
        "print('문장 분리 적용 전')\n",
        "print(tmp_data[8])\n",
        "\n",
        "num_word_list = [len(sentence.split()) for sentence in tmp_data]\n",
        "print('\\n코퍼스 문장수/평균/총 단어 갯수 : %d, %.1f / %d' % (len(num_word_list), sum(num_word_list)/len(num_word_list), sum(num_word_list)))\n",
        "\n",
        "print('#'*50)\n",
        "print('문장 분리 적용 후')\n",
        "tokenized_text = []\n",
        "for sentences in tmp_data:\n",
        "    result_kiwi = kiwi.split_into_sents(sentences)\n",
        "    sentence_tokenized_text = [sent.text for sent in result_kiwi]\n",
        "    \n",
        "    tokenized_text.extend(sentence_tokenized_text)\n",
        "\n",
        "print(tokenized_text[12:14])\n",
        "num_word_list = [len(sentence.split()) for sentence in tokenized_text]\n",
        "print('\\n코퍼스 문장수/평균/총 단어 갯수 : %d, %.1f / %d' % (len(num_word_list), sum(num_word_list)/len(num_word_list), sum(num_word_list)))"
      ]
    },
    {
      "cell_type": "markdown",
      "id": "8622b88c",
      "metadata": {
        "heading_collapsed": true,
        "id": "8622b88c"
      },
      "source": [
        "## 3) 문장 기본 정제\n",
        "\n",
        "noisy한 문장을 깨끗이 전처리 한다"
      ]
    },
    {
      "cell_type": "code",
      "execution_count": 8,
      "id": "f8e015e7",
      "metadata": {
        "hidden": true,
        "colab": {
          "base_uri": "https://localhost:8080/"
        },
        "id": "f8e015e7",
        "outputId": "5f741071-bf3f-4dfe-b983-7e081f23d20e"
      },
      "outputs": [
        {
          "output_type": "execute_result",
          "data": {
            "text/plain": [
              "['굳 ㅋ',\n",
              " 'GDNTOPCLASSINTHECLUB',\n",
              " '뭐야',\n",
              " '이 평점들은....',\n",
              " '나쁘진 않지만 10점 짜리는 더더욱 아니잖아',\n",
              " '지루하지는 않은데 완전 막장임...',\n",
              " '돈주고 보기에는....',\n",
              " '3D만 아니었어도 별 다섯 개 줬을텐데..',\n",
              " '왜 3D로 나와서 제 심기를 불편하게 하죠??',\n",
              " '음악이 주가 된, 최고의 음악영화',\n",
              " '진정한 쓰레기',\n",
              " '마치 미국애니에서 튀어나온듯한 창의력없는 로봇디자인부터가,고개를 젖게한다',\n",
              " '갈수록 개판되가는 중국영화 유치하고 내용없음 폼잡다 끝남 말도안되는 무기에 유치한cg남무 아 그립다',\n",
              " '동사서독같은 영화가 이건 3류아류작이다',\n",
              " '이별의 아픔뒤에 찾아오는 새로운 인연의 기쁨 But, 모든 사람이 그렇지는 않네..',\n",
              " '괜찮네요오랜만포켓몬스터잼밌어요',\n",
              " '한국독립영화의 한계 그렇게 아버지가 된다와 비교됨',\n",
              " '청춘은 아름답다 그 아름다움은 이성을 흔들어 놓는다.',\n",
              " '찰나의 아름다움을 잘 포착한 섬세하고 아름다운 수채화같은 퀴어영화이다.',\n",
              " '눈에 보이는 반전이었지만 영화의 흡인력은 사라지지 않았다.']"
            ]
          },
          "metadata": {},
          "execution_count": 8
        }
      ],
      "source": [
        "list_sentence = tokenized_text[:20]\n",
        "list_sentence"
      ]
    },
    {
      "cell_type": "code",
      "execution_count": 9,
      "id": "b96e2306",
      "metadata": {
        "hidden": true,
        "scrolled": true,
        "colab": {
          "base_uri": "https://localhost:8080/",
          "height": 54
        },
        "id": "b96e2306",
        "outputId": "cd4e2efb-a5a9-4cf8-a5db-f557458e5f4a"
      },
      "outputs": [
        {
          "output_type": "execute_result",
          "data": {
            "text/plain": [
              "'굳 ㅋ\\nGDNTOPCLASSINTHECLUB\\n뭐야 이 평점들은.... 나쁘진 않지만 10점 짜리는 더더욱 아니잖아\\n지루하지는 않은데 완전 막장임... 돈주고 보기에는....\\n3D만 아니었어도 별 다섯 개 줬을텐데.. 왜 3D로 나와서 제 심기를 불편하게 하죠??\\n음악이 주가 된, 최고의 음악영화\\n진정한 쓰레기\\n마치 미국애니에서 튀어나온듯한 창의력없는 로봇디'"
            ],
            "application/vnd.google.colaboratory.intrinsic+json": {
              "type": "string"
            }
          },
          "metadata": {},
          "execution_count": 9
        }
      ],
      "source": [
        "string_sentence = '\\n'.join(train_data[:1000])\n",
        "string_sentence[:200]"
      ]
    },
    {
      "cell_type": "code",
      "execution_count": 10,
      "id": "57bf8122",
      "metadata": {
        "code_folding": [
          0
        ],
        "hidden": true,
        "colab": {
          "base_uri": "https://localhost:8080/"
        },
        "id": "57bf8122",
        "outputId": "2062bf4a-f133-4e75-f02a-7cfd94317891"
      },
      "outputs": [
        {
          "output_type": "stream",
          "name": "stdout",
          "text": [
            "걸러진 이상한 문자들 갯수 : 23\n",
            "['‘', '’', '☆', '♡', '♥', 'ㄱ', 'ㄲ', 'ㄴ', 'ㄷ', 'ㄹ', 'ㅁ', 'ㅂ', 'ㅅ', 'ㅇ', 'ㅈ', 'ㅉ', 'ㅊ', 'ㅋ', 'ㅎ', '乃', '無', '用', '＼']\n"
          ]
        }
      ],
      "source": [
        "# 키보드로 칠수 없는 문자열 필터링\n",
        "import re\n",
        "pattern = '[\\n\\t 0-9a-zA-Z가-힣ㅏ-ㅣ\\~`!@#$%^&*\\(\\)-_=+\\[\\{\\}\\]\\}|;:\\'\\\",.\\<\\>/?·]'\n",
        "tmp = re.sub(pattern , '', string_sentence)\n",
        "have_to_remove_char = sorted(list(set(list(tmp))))\n",
        "print('걸러진 이상한 문자들 갯수 : %d'%(len(have_to_remove_char)))\n",
        "print(have_to_remove_char)"
      ]
    },
    {
      "cell_type": "code",
      "execution_count": 11,
      "id": "99d7129f",
      "metadata": {
        "code_folding": [
          0
        ],
        "hidden": true,
        "id": "99d7129f"
      },
      "outputs": [],
      "source": [
        "# text cleansing\n",
        "def clean_punc(text):\n",
        "    mapping = {\"‘\": \"'\", \n",
        "                     \"’\": \"'\", \n",
        "                     \"無\":\"무\",\n",
        "                     \"用\":\"용\",\n",
        "                     \"☆\":\"-\", \n",
        "                     \"♡\":\"-\", \n",
        "                     \"♥\":\"-\"}\n",
        "    for p in mapping:\n",
        "        text = text.replace(p, mapping[p])\n",
        "        \n",
        "    specials_word = {'\\u200b': ' ', '…': ' ... ', '\\ufeff': ''}\n",
        "    for s in specials_word:\n",
        "        text = text.replace(s, specials_word[s])\n",
        "    \n",
        "    return text.strip()\n",
        "\n",
        "cleansed_sentence = []\n",
        "for sent in list_sentence:\n",
        "    cleansed_sentence.append(clean_punc(sent))\n",
        "    \n",
        "string_cleansed_sentence = '\\n'.join(cleansed_sentence)"
      ]
    },
    {
      "cell_type": "code",
      "execution_count": 12,
      "id": "b9af7929",
      "metadata": {
        "hidden": true,
        "colab": {
          "base_uri": "https://localhost:8080/",
          "height": 54
        },
        "id": "b9af7929",
        "outputId": "a681be2f-ae0a-40f8-90d0-90c1c81f0705"
      },
      "outputs": [
        {
          "output_type": "execute_result",
          "data": {
            "text/plain": [
              "'굳 ㅋ\\nGDNTOPCLASSINTHECLUB\\n뭐야 이 평점들은.... 나쁘진 않지만 10점 짜리는 더더욱 아니잖아\\n지루하지는 않은데 완전 막장임... 돈주고 보기에는....\\n3D만 아니었어도 별 다섯 개 줬을텐데.. 왜 3D로 나와서 제 심기를 불편하게 하죠??\\n음악이 주가 된, 최고의 음악영화\\n진정한 쓰레기\\n마치 미국애니에서 튀어나온듯한 창의력없는 로봇디'"
            ],
            "application/vnd.google.colaboratory.intrinsic+json": {
              "type": "string"
            }
          },
          "metadata": {},
          "execution_count": 12
        }
      ],
      "source": [
        "string_sentence[:200]"
      ]
    },
    {
      "cell_type": "code",
      "execution_count": 13,
      "id": "ab2cde7b",
      "metadata": {
        "code_folding": [
          0
        ],
        "hidden": true,
        "colab": {
          "base_uri": "https://localhost:8080/"
        },
        "id": "ab2cde7b",
        "outputId": "283a331c-331b-423f-9a8d-19e0b1c73415"
      },
      "outputs": [
        {
          "output_type": "stream",
          "name": "stdout",
          "text": [
            "걸러진 이상한 문자들 갯수 : 1\n",
            "['ㅋ']\n"
          ]
        }
      ],
      "source": [
        "# cleansing text 체크\n",
        "import re\n",
        "pattern = '[\\n\\t 0-9a-zA-Z가-힣ㅏ-ㅣ\\~`!@#$%^&*\\(\\)-_=+\\[\\{\\}\\]\\}|;:\\'\\\",.\\<\\>/?·]'\n",
        "tmp = re.sub(pattern , '', string_cleansed_sentence)\n",
        "have_to_remove_char = sorted(list(set(list(tmp))))\n",
        "print('걸러진 이상한 문자들 갯수 : %d'%(len(have_to_remove_char)))\n",
        "print(have_to_remove_char)"
      ]
    },
    {
      "cell_type": "code",
      "execution_count": 14,
      "id": "d23fbf78",
      "metadata": {
        "code_folding": [
          0
        ],
        "hidden": true,
        "colab": {
          "base_uri": "https://localhost:8080/"
        },
        "id": "d23fbf78",
        "outputId": "6974a847-76d7-42ca-ec29-763ff4676748"
      },
      "outputs": [
        {
          "output_type": "stream",
          "name": "stdout",
          "text": [
            "굳 ㅋ\n",
            "gdntopclassintheclub\n",
            "뭐야\n",
            "이 평점들은\n",
            "나쁘진 않지만 10점 짜리는 더더욱 아니잖아\n",
            "지루하지는 않은데 완전 막장임\n",
            "돈주고 보기에는\n",
            "3d만 아니었어도 별 다섯 개 줬을텐데\n",
            "왜 3d로 나와서 제 심기를 불편하게 하죠\n",
            "음악이 주가 된 최고의 음악영화\n"
          ]
        }
      ],
      "source": [
        "# clean more\n",
        "import re\n",
        "\n",
        "def clean_text(texts):\n",
        "    list_cleansed_txt = []\n",
        "    for i in range(0, len(texts)):\n",
        "        review = re.sub(r'[@%\\\\*=()/~#&\\+á?\\xc3\\xa1\\-\\|\\.\\:\\;\\!\\-\\,\\_\\~\\$\\'\\\"]', '',str(texts[i])) #remove punctuation\n",
        "#         review = re.sub(r'\\d+','', str(texts[i]))# remove number\n",
        "        review = review.lower() #lower case\n",
        "        review = re.sub(r'\\s+', ' ', review) #remove extra space\n",
        "        review = re.sub(r'<[^>]+>','',review) #remove Html tags\n",
        "        review = re.sub(r\"^\\s+\", '', review) #remove space from start\n",
        "        review = re.sub(r'\\s+$', '', review) #remove space from the end\n",
        "        list_cleansed_txt.append(review)\n",
        "    return list_cleansed_txt\n",
        "\n",
        "basic_preprocessed_txt = clean_text(cleansed_sentence)\n",
        "for i in range(0, 10):\n",
        "    print(basic_preprocessed_txt[i])"
      ]
    },
    {
      "cell_type": "markdown",
      "id": "5f9b0a60",
      "metadata": {
        "heading_collapsed": true,
        "id": "5f9b0a60"
      },
      "source": [
        "## 4) 문장 고급 정제\n",
        "\n",
        "- 4.1) [띄어쓰기 검사](https://github.com/haven-jeon/PyKoSpacing)\n",
        "- 4.2) [맞춤법 검사](https://github.com/ssut/py-hanspell)\n",
        "- 4.3) [반복되는 이모티콘/자소 필터링](https://github.com/lovit/soynlp)\n",
        "- 4.4) [외래어 사전](https://link.springer.com/chapter/10.1007/978-3-030-12385-7_3)"
      ]
    },
    {
      "cell_type": "markdown",
      "id": "bb5a4a8b",
      "metadata": {
        "hidden": true,
        "id": "bb5a4a8b"
      },
      "source": [
        "#### 4.1) 띄어쓰기 검사"
      ]
    },
    {
      "cell_type": "markdown",
      "id": "81e8e6e8",
      "metadata": {
        "hidden": true,
        "id": "81e8e6e8"
      },
      "source": [
        "##### 한국어 띄어쓰기\n",
        "\n",
        "- 한국어에선 띄어쓰기가 잘 지켜지지 않음\n",
        "- 타 언어에 비해 띄어쓰기가 어렵고 잘 안지켜 짐\n",
        "- 한국어의 경우 띄어쓰기가 없더라도 글을 쉽게 이해할 수 있는 언어\n",
        "\n",
        "ex) 한국어의경우띄어쓰기가없더라도글을쉽게이해할수있는언어지??\n",
        "ex) Wedonotstudynaturallanguageprocessingtoohard!!(We do not study natural language processing too hard!!)\n",
        "\n",
        "- 한국어는 띄어쓰기 없이도 이해가 가능\n",
        "- 하지만, 영어는 이해가 힘듦"
      ]
    },
    {
      "cell_type": "code",
      "execution_count": 15,
      "id": "50ad2c14",
      "metadata": {
        "hidden": true,
        "colab": {
          "base_uri": "https://localhost:8080/",
          "height": 1000
        },
        "id": "50ad2c14",
        "outputId": "c5a6f1ff-0f43-4ad9-a625-b2598d173c87"
      },
      "outputs": [
        {
          "output_type": "stream",
          "name": "stdout",
          "text": [
            "Looking in indexes: https://pypi.org/simple, https://us-python.pkg.dev/colab-wheels/public/simple/\n",
            "Collecting git+https://github.com/haven-jeon/PyKoSpacing.git\n",
            "  Cloning https://github.com/haven-jeon/PyKoSpacing.git to /tmp/pip-req-build-mi8oiv6q\n",
            "  Running command git clone -q https://github.com/haven-jeon/PyKoSpacing.git /tmp/pip-req-build-mi8oiv6q\n",
            "Collecting tensorflow==2.6.4\n",
            "  Downloading https://us-python.pkg.dev/colab-wheels/public/tensorflow/tensorflow-2.6.4%2Bzzzcolab20220516125453-cp37-cp37m-linux_x86_64.whl\n",
            "\u001b[K     | 570.3 MB 87.5 MB/s\n",
            "\u001b[?25hRequirement already satisfied: h5py==3.1.0 in /usr/local/lib/python3.7/dist-packages (from pykospacing==0.5) (3.1.0)\n",
            "Collecting argparse>=1.4.0\n",
            "  Downloading argparse-1.4.0-py2.py3-none-any.whl (23 kB)\n",
            "Requirement already satisfied: numpy>=1.14.5 in /usr/local/lib/python3.7/dist-packages (from h5py==3.1.0->pykospacing==0.5) (1.21.6)\n",
            "Requirement already satisfied: cached-property in /usr/local/lib/python3.7/dist-packages (from h5py==3.1.0->pykospacing==0.5) (1.5.2)\n",
            "Requirement already satisfied: protobuf>=3.9.2 in /usr/local/lib/python3.7/dist-packages (from tensorflow==2.6.4->pykospacing==0.5) (3.17.3)\n",
            "Requirement already satisfied: keras-preprocessing~=1.1.2 in /usr/local/lib/python3.7/dist-packages (from tensorflow==2.6.4->pykospacing==0.5) (1.1.2)\n",
            "Collecting keras<2.7,>=2.6.0\n",
            "  Downloading keras-2.6.0-py2.py3-none-any.whl (1.3 MB)\n",
            "\u001b[K     |████████████████████████████████| 1.3 MB 20.3 MB/s \n",
            "\u001b[?25hCollecting absl-py~=0.10\n",
            "  Downloading absl_py-0.15.0-py3-none-any.whl (132 kB)\n",
            "\u001b[K     |████████████████████████████████| 132 kB 41.8 MB/s \n",
            "\u001b[?25hCollecting wrapt~=1.12.1\n",
            "  Downloading wrapt-1.12.1.tar.gz (27 kB)\n",
            "Requirement already satisfied: six~=1.15.0 in /usr/local/lib/python3.7/dist-packages (from tensorflow==2.6.4->pykospacing==0.5) (1.15.0)\n",
            "Collecting clang~=5.0\n",
            "  Downloading clang-5.0.tar.gz (30 kB)\n",
            "Collecting tensorflow-estimator<2.7,>=2.6.0\n",
            "  Downloading tensorflow_estimator-2.6.0-py2.py3-none-any.whl (462 kB)\n",
            "\u001b[K     |████████████████████████████████| 462 kB 50.9 MB/s \n",
            "\u001b[?25hRequirement already satisfied: termcolor~=1.1.0 in /usr/local/lib/python3.7/dist-packages (from tensorflow==2.6.4->pykospacing==0.5) (1.1.0)\n",
            "Collecting flatbuffers~=1.12.0\n",
            "  Downloading flatbuffers-1.12-py2.py3-none-any.whl (15 kB)\n",
            "Requirement already satisfied: google-pasta~=0.2 in /usr/local/lib/python3.7/dist-packages (from tensorflow==2.6.4->pykospacing==0.5) (0.2.0)\n",
            "Requirement already satisfied: astunparse~=1.6.3 in /usr/local/lib/python3.7/dist-packages (from tensorflow==2.6.4->pykospacing==0.5) (1.6.3)\n",
            "Requirement already satisfied: opt-einsum~=3.3.0 in /usr/local/lib/python3.7/dist-packages (from tensorflow==2.6.4->pykospacing==0.5) (3.3.0)\n",
            "Collecting typing-extensions<3.11,>=3.7\n",
            "  Downloading typing_extensions-3.10.0.2-py3-none-any.whl (26 kB)\n",
            "Requirement already satisfied: wheel~=0.35 in /usr/local/lib/python3.7/dist-packages (from tensorflow==2.6.4->pykospacing==0.5) (0.37.1)\n",
            "Collecting numpy>=1.14.5\n",
            "  Downloading numpy-1.19.5-cp37-cp37m-manylinux2010_x86_64.whl (14.8 MB)\n",
            "\u001b[K     |████████████████████████████████| 14.8 MB 46.6 MB/s \n",
            "\u001b[?25hCollecting gast==0.4.0\n",
            "  Downloading gast-0.4.0-py3-none-any.whl (9.8 kB)\n",
            "Collecting tensorboard<2.7,>=2.6.0\n",
            "  Downloading tensorboard-2.6.0-py3-none-any.whl (5.6 MB)\n",
            "\u001b[K     |████████████████████████████████| 5.6 MB 51.0 MB/s \n",
            "\u001b[?25hRequirement already satisfied: grpcio<2.0,>=1.37.0 in /usr/local/lib/python3.7/dist-packages (from tensorflow==2.6.4->pykospacing==0.5) (1.46.1)\n",
            "Requirement already satisfied: google-auth-oauthlib<0.5,>=0.4.1 in /usr/local/lib/python3.7/dist-packages (from tensorboard<2.7,>=2.6.0->tensorflow==2.6.4->pykospacing==0.5) (0.4.6)\n",
            "Requirement already satisfied: werkzeug>=0.11.15 in /usr/local/lib/python3.7/dist-packages (from tensorboard<2.7,>=2.6.0->tensorflow==2.6.4->pykospacing==0.5) (1.0.1)\n",
            "Requirement already satisfied: markdown>=2.6.8 in /usr/local/lib/python3.7/dist-packages (from tensorboard<2.7,>=2.6.0->tensorflow==2.6.4->pykospacing==0.5) (3.3.7)\n",
            "Requirement already satisfied: google-auth<2,>=1.6.3 in /usr/local/lib/python3.7/dist-packages (from tensorboard<2.7,>=2.6.0->tensorflow==2.6.4->pykospacing==0.5) (1.35.0)\n",
            "Requirement already satisfied: requests<3,>=2.21.0 in /usr/local/lib/python3.7/dist-packages (from tensorboard<2.7,>=2.6.0->tensorflow==2.6.4->pykospacing==0.5) (2.23.0)\n",
            "Requirement already satisfied: tensorboard-data-server<0.7.0,>=0.6.0 in /usr/local/lib/python3.7/dist-packages (from tensorboard<2.7,>=2.6.0->tensorflow==2.6.4->pykospacing==0.5) (0.6.1)\n",
            "Requirement already satisfied: tensorboard-plugin-wit>=1.6.0 in /usr/local/lib/python3.7/dist-packages (from tensorboard<2.7,>=2.6.0->tensorflow==2.6.4->pykospacing==0.5) (1.8.1)\n",
            "Requirement already satisfied: setuptools>=41.0.0 in /usr/local/lib/python3.7/dist-packages (from tensorboard<2.7,>=2.6.0->tensorflow==2.6.4->pykospacing==0.5) (57.4.0)\n",
            "Requirement already satisfied: cachetools<5.0,>=2.0.0 in /usr/local/lib/python3.7/dist-packages (from google-auth<2,>=1.6.3->tensorboard<2.7,>=2.6.0->tensorflow==2.6.4->pykospacing==0.5) (4.2.4)\n",
            "Requirement already satisfied: pyasn1-modules>=0.2.1 in /usr/local/lib/python3.7/dist-packages (from google-auth<2,>=1.6.3->tensorboard<2.7,>=2.6.0->tensorflow==2.6.4->pykospacing==0.5) (0.2.8)\n",
            "Requirement already satisfied: rsa<5,>=3.1.4 in /usr/local/lib/python3.7/dist-packages (from google-auth<2,>=1.6.3->tensorboard<2.7,>=2.6.0->tensorflow==2.6.4->pykospacing==0.5) (4.8)\n",
            "Requirement already satisfied: requests-oauthlib>=0.7.0 in /usr/local/lib/python3.7/dist-packages (from google-auth-oauthlib<0.5,>=0.4.1->tensorboard<2.7,>=2.6.0->tensorflow==2.6.4->pykospacing==0.5) (1.3.1)\n",
            "Requirement already satisfied: importlib-metadata>=4.4 in /usr/local/lib/python3.7/dist-packages (from markdown>=2.6.8->tensorboard<2.7,>=2.6.0->tensorflow==2.6.4->pykospacing==0.5) (4.11.3)\n",
            "Requirement already satisfied: zipp>=0.5 in /usr/local/lib/python3.7/dist-packages (from importlib-metadata>=4.4->markdown>=2.6.8->tensorboard<2.7,>=2.6.0->tensorflow==2.6.4->pykospacing==0.5) (3.8.0)\n",
            "Requirement already satisfied: pyasn1<0.5.0,>=0.4.6 in /usr/local/lib/python3.7/dist-packages (from pyasn1-modules>=0.2.1->google-auth<2,>=1.6.3->tensorboard<2.7,>=2.6.0->tensorflow==2.6.4->pykospacing==0.5) (0.4.8)\n",
            "Requirement already satisfied: certifi>=2017.4.17 in /usr/local/lib/python3.7/dist-packages (from requests<3,>=2.21.0->tensorboard<2.7,>=2.6.0->tensorflow==2.6.4->pykospacing==0.5) (2022.5.18.1)\n",
            "Requirement already satisfied: urllib3!=1.25.0,!=1.25.1,<1.26,>=1.21.1 in /usr/local/lib/python3.7/dist-packages (from requests<3,>=2.21.0->tensorboard<2.7,>=2.6.0->tensorflow==2.6.4->pykospacing==0.5) (1.24.3)\n",
            "Requirement already satisfied: idna<3,>=2.5 in /usr/local/lib/python3.7/dist-packages (from requests<3,>=2.21.0->tensorboard<2.7,>=2.6.0->tensorflow==2.6.4->pykospacing==0.5) (2.10)\n",
            "Requirement already satisfied: chardet<4,>=3.0.2 in /usr/local/lib/python3.7/dist-packages (from requests<3,>=2.21.0->tensorboard<2.7,>=2.6.0->tensorflow==2.6.4->pykospacing==0.5) (3.0.4)\n",
            "Requirement already satisfied: oauthlib>=3.0.0 in /usr/local/lib/python3.7/dist-packages (from requests-oauthlib>=0.7.0->google-auth-oauthlib<0.5,>=0.4.1->tensorboard<2.7,>=2.6.0->tensorflow==2.6.4->pykospacing==0.5) (3.2.0)\n",
            "Building wheels for collected packages: pykospacing, clang, wrapt\n",
            "  Building wheel for pykospacing (setup.py) ... \u001b[?25l\u001b[?25hdone\n",
            "  Created wheel for pykospacing: filename=pykospacing-0.5-py3-none-any.whl size=2268580 sha256=a972230b00fb059d2afbb921e3f0f79f25fcfa3b67aab68a2dfe9aaa18a6c45c\n",
            "  Stored in directory: /tmp/pip-ephem-wheel-cache-1m056zmo/wheels/9b/93/81/a2a7dc8c66ede5bf30634d20635f32b95eac7ca2ea8844058b\n",
            "  Building wheel for clang (setup.py) ... \u001b[?25l\u001b[?25hdone\n",
            "  Created wheel for clang: filename=clang-5.0-py3-none-any.whl size=30694 sha256=4ffc1b94bfa83e3346dfe0a67fd845351b0922c65015af00149c7693185f4d2a\n",
            "  Stored in directory: /root/.cache/pip/wheels/98/91/04/971b4c587cf47ae952b108949b46926f426c02832d120a082a\n",
            "  Building wheel for wrapt (setup.py) ... \u001b[?25l\u001b[?25hdone\n",
            "  Created wheel for wrapt: filename=wrapt-1.12.1-cp37-cp37m-linux_x86_64.whl size=68721 sha256=b1c371301aa1db96a30718ef88993bad530f0b57f3a7611ec3354cd6c3448476\n",
            "  Stored in directory: /root/.cache/pip/wheels/62/76/4c/aa25851149f3f6d9785f6c869387ad82b3fd37582fa8147ac6\n",
            "Successfully built pykospacing clang wrapt\n",
            "Installing collected packages: typing-extensions, numpy, absl-py, wrapt, tensorflow-estimator, tensorboard, keras, gast, flatbuffers, clang, tensorflow, argparse, pykospacing\n",
            "  Attempting uninstall: typing-extensions\n",
            "    Found existing installation: typing-extensions 4.2.0\n",
            "    Uninstalling typing-extensions-4.2.0:\n",
            "      Successfully uninstalled typing-extensions-4.2.0\n",
            "  Attempting uninstall: numpy\n",
            "    Found existing installation: numpy 1.21.6\n",
            "    Uninstalling numpy-1.21.6:\n",
            "      Successfully uninstalled numpy-1.21.6\n",
            "  Attempting uninstall: absl-py\n",
            "    Found existing installation: absl-py 1.0.0\n",
            "    Uninstalling absl-py-1.0.0:\n",
            "      Successfully uninstalled absl-py-1.0.0\n",
            "  Attempting uninstall: wrapt\n",
            "    Found existing installation: wrapt 1.14.1\n",
            "    Uninstalling wrapt-1.14.1:\n",
            "      Successfully uninstalled wrapt-1.14.1\n",
            "  Attempting uninstall: tensorflow-estimator\n",
            "    Found existing installation: tensorflow-estimator 2.8.0\n",
            "    Uninstalling tensorflow-estimator-2.8.0:\n",
            "      Successfully uninstalled tensorflow-estimator-2.8.0\n",
            "  Attempting uninstall: tensorboard\n",
            "    Found existing installation: tensorboard 2.8.0\n",
            "    Uninstalling tensorboard-2.8.0:\n",
            "      Successfully uninstalled tensorboard-2.8.0\n",
            "  Attempting uninstall: keras\n",
            "    Found existing installation: keras 2.8.0\n",
            "    Uninstalling keras-2.8.0:\n",
            "      Successfully uninstalled keras-2.8.0\n",
            "  Attempting uninstall: gast\n",
            "    Found existing installation: gast 0.5.3\n",
            "    Uninstalling gast-0.5.3:\n",
            "      Successfully uninstalled gast-0.5.3\n",
            "  Attempting uninstall: flatbuffers\n",
            "    Found existing installation: flatbuffers 2.0\n",
            "    Uninstalling flatbuffers-2.0:\n",
            "      Successfully uninstalled flatbuffers-2.0\n",
            "  Attempting uninstall: tensorflow\n",
            "    Found existing installation: tensorflow 2.8.0+zzzcolab20220506162203\n",
            "    Uninstalling tensorflow-2.8.0+zzzcolab20220506162203:\n",
            "      Successfully uninstalled tensorflow-2.8.0+zzzcolab20220506162203\n",
            "\u001b[31mERROR: pip's dependency resolver does not currently take into account all the packages that are installed. This behaviour is the source of the following dependency conflicts.\n",
            "xarray-einstats 0.2.2 requires numpy>=1.21, but you have numpy 1.19.5 which is incompatible.\n",
            "datascience 0.10.6 requires folium==0.2.1, but you have folium 0.8.3 which is incompatible.\n",
            "albumentations 0.1.12 requires imgaug<0.2.7,>=0.2.5, but you have imgaug 0.2.9 which is incompatible.\u001b[0m\n",
            "Successfully installed absl-py-0.15.0 argparse-1.4.0 clang-5.0 flatbuffers-1.12 gast-0.4.0 keras-2.6.0 numpy-1.19.5 pykospacing-0.5 tensorboard-2.6.0 tensorflow-2.6.4+zzzcolab20220516125453 tensorflow-estimator-2.6.0 typing-extensions-3.10.0.2 wrapt-1.12.1\n"
          ]
        },
        {
          "output_type": "display_data",
          "data": {
            "application/vnd.colab-display-data+json": {
              "pip_warning": {
                "packages": [
                  "argparse",
                  "numpy",
                  "typing_extensions"
                ]
              }
            }
          },
          "metadata": {}
        }
      ],
      "source": [
        "# install\n",
        "!pip install git+https://github.com/haven-jeon/PyKoSpacing.git"
      ]
    },
    {
      "cell_type": "code",
      "execution_count": 16,
      "id": "44d22810",
      "metadata": {
        "hidden": true,
        "id": "44d22810"
      },
      "outputs": [],
      "source": [
        "from pykospacing import Spacing\n",
        "spacing = Spacing()"
      ]
    },
    {
      "cell_type": "code",
      "execution_count": 17,
      "id": "b30481e2",
      "metadata": {
        "hidden": true,
        "colab": {
          "base_uri": "https://localhost:8080/"
        },
        "id": "b30481e2",
        "outputId": "b16f3c88-4835-4e21-9206-4a9330f58a9e"
      },
      "outputs": [
        {
          "output_type": "stream",
          "name": "stdout",
          "text": [
            "김형호 영화시장 분석가는 '1987'의 네이버 영화 정보 네티즌 10점 평에서 언급된 단어들을 지난해 12월 27일부터 올해 1월 10일까지 통계 프로그램 R과 KoNLP 패키지로 텍스트마이닝하여 분석했다.\n"
          ]
        }
      ],
      "source": [
        "print(spacing(\"김형호영화시장분석가는'1987'의네이버영화정보네티즌10점평에서언급된단어들을지난해12월27일부터올해1월10일까지통계프로그램R과KoNLP패키지로텍스트마이닝하여분석했다.\"))"
      ]
    },
    {
      "cell_type": "code",
      "execution_count": 18,
      "id": "42e8ddd8",
      "metadata": {
        "hidden": true,
        "colab": {
          "base_uri": "https://localhost:8080/"
        },
        "id": "42e8ddd8",
        "outputId": "285e9c3c-c6e3-4a07-ff3b-22dca5288a3a"
      },
      "outputs": [
        {
          "output_type": "stream",
          "name": "stdout",
          "text": [
            "귀 밑에서 턱까지 잇따라 난 수염을 구레나 룻이라고 한다.\n"
          ]
        }
      ],
      "source": [
        "print(spacing('귀밑에서턱까지잇따라난수염을구레나룻이라고한다.'))"
      ]
    },
    {
      "cell_type": "code",
      "execution_count": 19,
      "id": "f7726fc2",
      "metadata": {
        "hidden": true,
        "colab": {
          "base_uri": "https://localhost:8080/"
        },
        "id": "f7726fc2",
        "outputId": "d01d2144-3f76-456b-b0e4-f32b8c42a3c1"
      },
      "outputs": [
        {
          "output_type": "stream",
          "name": "stdout",
          "text": [
            "귀 밑에서 턱까지 잇따라 난 수염을 구레나룻이라고 한다.\n"
          ]
        }
      ],
      "source": [
        "spacing = Spacing(rules=['구레나룻'])\n",
        "print(spacing('귀밑에서턱까지잇따라난수염을구레나룻이라고한다.'))"
      ]
    },
    {
      "cell_type": "code",
      "execution_count": 20,
      "id": "3b72d62c",
      "metadata": {
        "hidden": true,
        "colab": {
          "base_uri": "https://localhost:8080/"
        },
        "id": "3b72d62c",
        "outputId": "b977155c-7f17-4348-9e46-4b2ef3205f5a"
      },
      "outputs": [
        {
          "output_type": "stream",
          "name": "stdout",
          "text": [
            "아버지가 방에 들어가신다.\n"
          ]
        }
      ],
      "source": [
        "print(spacing('아버지가방에들어가신다.'))"
      ]
    },
    {
      "cell_type": "markdown",
      "id": "cd57833a",
      "metadata": {
        "heading_collapsed": true,
        "hidden": true,
        "id": "cd57833a"
      },
      "source": [
        "#### 4.2) 맞춤법 검사"
      ]
    },
    {
      "cell_type": "code",
      "execution_count": 21,
      "id": "797ea066",
      "metadata": {
        "hidden": true,
        "colab": {
          "base_uri": "https://localhost:8080/"
        },
        "id": "797ea066",
        "outputId": "9eabde96-c709-41c2-f29b-c0b2e8e47bee"
      },
      "outputs": [
        {
          "output_type": "stream",
          "name": "stdout",
          "text": [
            "Looking in indexes: https://pypi.org/simple, https://us-python.pkg.dev/colab-wheels/public/simple/\n",
            "Collecting git+https://github.com/ssut/py-hanspell.git\n",
            "  Cloning https://github.com/ssut/py-hanspell.git to /tmp/pip-req-build-ihn2ur9z\n",
            "  Running command git clone -q https://github.com/ssut/py-hanspell.git /tmp/pip-req-build-ihn2ur9z\n",
            "Requirement already satisfied: requests in /usr/local/lib/python3.7/dist-packages (from py-hanspell==1.1) (2.23.0)\n",
            "Requirement already satisfied: chardet<4,>=3.0.2 in /usr/local/lib/python3.7/dist-packages (from requests->py-hanspell==1.1) (3.0.4)\n",
            "Requirement already satisfied: urllib3!=1.25.0,!=1.25.1,<1.26,>=1.21.1 in /usr/local/lib/python3.7/dist-packages (from requests->py-hanspell==1.1) (1.24.3)\n",
            "Requirement already satisfied: certifi>=2017.4.17 in /usr/local/lib/python3.7/dist-packages (from requests->py-hanspell==1.1) (2022.5.18.1)\n",
            "Requirement already satisfied: idna<3,>=2.5 in /usr/local/lib/python3.7/dist-packages (from requests->py-hanspell==1.1) (2.10)\n",
            "Building wheels for collected packages: py-hanspell\n",
            "  Building wheel for py-hanspell (setup.py) ... \u001b[?25l\u001b[?25hdone\n",
            "  Created wheel for py-hanspell: filename=py_hanspell-1.1-py3-none-any.whl size=4868 sha256=de7160bc334386b90e62eeb8287c7df3e240e0076854d900285aff666d8d7765\n",
            "  Stored in directory: /tmp/pip-ephem-wheel-cache-vvlpu319/wheels/ab/f5/7b/d4124bb329c905301baed80e2ae45aa14e824f62ebc3ec2cc4\n",
            "Successfully built py-hanspell\n",
            "Installing collected packages: py-hanspell\n",
            "Successfully installed py-hanspell-1.1\n"
          ]
        }
      ],
      "source": [
        "# install\n",
        "!pip install git+https://github.com/ssut/py-hanspell.git"
      ]
    },
    {
      "cell_type": "code",
      "execution_count": 22,
      "id": "e7a8364c",
      "metadata": {
        "hidden": true,
        "colab": {
          "base_uri": "https://localhost:8080/"
        },
        "id": "e7a8364c",
        "outputId": "1255c21a-032f-4680-f610-63b7d57cdb91"
      },
      "outputs": [
        {
          "output_type": "stream",
          "name": "stdout",
          "text": [
            "## 띄어쓰기 검사\n",
            "\n",
            "귀밑에서턱까지잇따라난수염을구레나룻이라고한다.\n",
            "  => 귀밑에서 턱까지 잇따라난 수염을 구레나룻이라고 한다.\n"
          ]
        }
      ],
      "source": [
        "from hanspell import spell_checker\n",
        "\n",
        "sentence = '귀밑에서턱까지잇따라난수염을구레나룻이라고한다.'\n",
        "result = spell_checker.check(sentence)\n",
        "spell_checked_sentence = result.checked\n",
        "\n",
        "print('## 띄어쓰기 검사\\n\\n%s\\n  => %s'%(sentence, spell_checked_sentence))"
      ]
    },
    {
      "cell_type": "code",
      "execution_count": 23,
      "id": "ebcdef80",
      "metadata": {
        "hidden": true,
        "colab": {
          "base_uri": "https://localhost:8080/"
        },
        "id": "ebcdef80",
        "outputId": "69465308-efa0-49bc-e70f-9a3b2a9545c6"
      },
      "outputs": [
        {
          "output_type": "stream",
          "name": "stdout",
          "text": [
            "## 맞춤법 검사\n",
            "\n",
            "아뉘 찐짜 재대로 정말 데채 무슨 말이쥐?\n",
            "  => 아니 진짜 제대로 정말 대체 무슨 말이지?\n"
          ]
        }
      ],
      "source": [
        "sentence = '아뉘 찐짜 재대로 정말 데채 무슨 말이쥐?'\n",
        "result = spell_checker.check(sentence)\n",
        "spell_checked_sentence = result.checked\n",
        "\n",
        "print('## 맞춤법 검사\\n\\n%s\\n  => %s'%(sentence, spell_checked_sentence))"
      ]
    },
    {
      "cell_type": "markdown",
      "id": "4ea3383f",
      "metadata": {
        "heading_collapsed": true,
        "hidden": true,
        "id": "4ea3383f"
      },
      "source": [
        "#### 4.3) 반복되는 이모티콘/자소 필터링"
      ]
    },
    {
      "cell_type": "code",
      "execution_count": 24,
      "id": "a7787db6",
      "metadata": {
        "hidden": true,
        "scrolled": true,
        "colab": {
          "base_uri": "https://localhost:8080/"
        },
        "id": "a7787db6",
        "outputId": "1b9fa04c-ceff-4acc-9966-dc8621ff7659"
      },
      "outputs": [
        {
          "output_type": "stream",
          "name": "stdout",
          "text": [
            "Looking in indexes: https://pypi.org/simple, https://us-python.pkg.dev/colab-wheels/public/simple/\n",
            "Collecting soynlp\n",
            "  Downloading soynlp-0.0.493-py3-none-any.whl (416 kB)\n",
            "\u001b[K     |████████████████████████████████| 416 kB 28.8 MB/s \n",
            "\u001b[?25hRequirement already satisfied: scipy>=1.1.0 in /usr/local/lib/python3.7/dist-packages (from soynlp) (1.4.1)\n",
            "Requirement already satisfied: psutil>=5.0.1 in /usr/local/lib/python3.7/dist-packages (from soynlp) (5.4.8)\n",
            "Requirement already satisfied: scikit-learn>=0.20.0 in /usr/local/lib/python3.7/dist-packages (from soynlp) (1.0.2)\n",
            "Requirement already satisfied: numpy>=1.12.1 in /usr/local/lib/python3.7/dist-packages (from soynlp) (1.19.5)\n",
            "Requirement already satisfied: threadpoolctl>=2.0.0 in /usr/local/lib/python3.7/dist-packages (from scikit-learn>=0.20.0->soynlp) (3.1.0)\n",
            "Requirement already satisfied: joblib>=0.11 in /usr/local/lib/python3.7/dist-packages (from scikit-learn>=0.20.0->soynlp) (1.1.0)\n",
            "Installing collected packages: soynlp\n",
            "Successfully installed soynlp-0.0.493\n"
          ]
        }
      ],
      "source": [
        "!pip install soynlp"
      ]
    },
    {
      "cell_type": "code",
      "execution_count": 25,
      "id": "1b27a898",
      "metadata": {
        "hidden": true,
        "colab": {
          "base_uri": "https://localhost:8080/"
        },
        "id": "1b27a898",
        "outputId": "5f475260-20a2-4f7a-b212-d31757f5bb05"
      },
      "outputs": [
        {
          "output_type": "stream",
          "name": "stdout",
          "text": [
            "ㅋㅋㅋㅋㅋㅋㅋㅋㅋㅋㅋㅋㅋ쿠ㅜㅜㅜㅜㅜㅜ  =>  ㅋㅋ쿠ㅜㅜ\n",
            "꺄아아아아아하하핫핫핫핫핫핫  =>  꺄아아하하핫핫\n"
          ]
        }
      ],
      "source": [
        "from soynlp.normalizer import *\n",
        "sentence = 'ㅋㅋㅋㅋㅋㅋㅋㅋㅋㅋㅋㅋㅋ쿠ㅜㅜㅜㅜㅜㅜ'\n",
        "print('%s  =>  %s'%(sentence, repeat_normalize(sentence, num_repeats=2)))\n",
        "\n",
        "sentence = '꺄아아아아아하하핫핫핫핫핫핫'\n",
        "print('%s  =>  %s'%(sentence, repeat_normalize(sentence, num_repeats=2)))"
      ]
    },
    {
      "cell_type": "markdown",
      "id": "b47d6cc7",
      "metadata": {
        "heading_collapsed": true,
        "hidden": true,
        "id": "b47d6cc7"
      },
      "source": [
        "#### 4.4) 외래어 사전"
      ]
    },
    {
      "cell_type": "code",
      "execution_count": 26,
      "id": "dbbaff9b",
      "metadata": {
        "hidden": true,
        "colab": {
          "base_uri": "https://localhost:8080/"
        },
        "id": "dbbaff9b",
        "outputId": "42e8e128-9345-480e-a0a3-ab86c3d10fd1"
      },
      "outputs": [
        {
          "output_type": "stream",
          "name": "stdout",
          "text": [
            "awk: cannot open ./cookie (No such file or directory)\n",
            "  % Total    % Received % Xferd  Average Speed   Time    Time     Time  Current\n",
            "                                 Dload  Upload   Total   Spent    Left  Speed\n",
            "  0     0    0     0    0     0      0      0 --:--:-- --:--:-- --:--:--     0\n",
            "100 19779  100 19779    0     0  38630      0 --:--:-- --:--:-- --:--:-- 38630\n"
          ]
        }
      ],
      "source": [
        "# download confused_loanwords.txt\n",
        "!curl -c ./cookie -s -L \"https://drive.google.com/uc?export=download&id=1RNYpLE-xbMCGtiEHIoNsCmfcyJP3kLYn\" > /dev/null\n",
        "!curl -Lb ./cookie \"https://drive.google.com/uc?export=download&confirm=`awk '/download/ {print $NF}' ./cookie`&id=1RNYpLE-xbMCGtiEHIoNsCmfcyJP3kLYn\" -o confused_loanwords.txt"
      ]
    },
    {
      "cell_type": "code",
      "execution_count": 27,
      "id": "609bf6b6",
      "metadata": {
        "hidden": true,
        "colab": {
          "base_uri": "https://localhost:8080/"
        },
        "id": "609bf6b6",
        "outputId": "b7a43471-f80e-43f4-8321-891ef64e43ef"
      },
      "outputs": [
        {
          "output_type": "stream",
          "name": "stdout",
          "text": [
            "가돌리니움 -> 가돌리늄\n",
            "개돌리늄 -> 가돌리늄\n",
            "개돌리니움 -> 가돌리늄\n",
            "가드래일 -> 가드레일\n",
            "가아드레일 -> 가드레일\n"
          ]
        }
      ],
      "source": [
        "lownword_map = {}\n",
        "lownword_data = open('data/confused_loanwords.txt', 'r', encoding='utf-8')\n",
        "\n",
        "lines = lownword_data.readlines()\n",
        "\n",
        "for line in lines:\n",
        "    line = line.strip()\n",
        "    miss_spell = line.split('\\t')[0]\n",
        "    ori_word = line.split('\\t')[1]\n",
        "    lownword_map[miss_spell] = ori_word\n",
        "\n",
        "for key in list(lownword_map.keys())[:5]:\n",
        "    print('%s -> %s'%(key, lownword_map[key]))"
      ]
    },
    {
      "cell_type": "markdown",
      "id": "28e44a00",
      "metadata": {
        "heading_collapsed": true,
        "hidden": true,
        "id": "28e44a00"
      },
      "source": [
        "#### 4.5) advanced 전처리 적용"
      ]
    },
    {
      "cell_type": "code",
      "execution_count": 28,
      "id": "ddb8c23f",
      "metadata": {
        "code_folding": [
          0
        ],
        "hidden": true,
        "colab": {
          "base_uri": "https://localhost:8080/"
        },
        "id": "ddb8c23f",
        "outputId": "a6602400-8b91-4fd6-ecdd-35a377c1e770"
      },
      "outputs": [
        {
          "output_type": "stream",
          "name": "stdout",
          "text": [
            "## advanced preprocessing\n",
            "마치 미국애니에서 튀어나온듯한 창의력없는 로봇디자인부터가고개를 젖게한다\n",
            "  =>  마치 미국 애니에서 튀어나온 듯한 창의력 없는 로봇 디자인부터 가 고개를 젓게 한다\n"
          ]
        }
      ],
      "source": [
        "# 여러 고급 전처리 기법 적용\n",
        "def advanced_preprocess_function(texts):\n",
        "    preprocessed_txt = []\n",
        "    for sent in texts:\n",
        "        # 1) 띄어쓰기 검사\n",
        "        spaced_text = spacing(sent)\n",
        "        \n",
        "        # 2) 맞춤법 검사\n",
        "        spelled_sent = spell_checker.check(spaced_text).checked\n",
        "        \n",
        "        # 3) 반복되는 이모티콘/자소 필터링\n",
        "        normalized_sent = repeat_normalize(spelled_sent)\n",
        "        \n",
        "        # 4) 외래어 사전\n",
        "        for lownword in lownword_map:\n",
        "            normalized_sent = normalized_sent.replace(lownword, lownword_map[lownword])\n",
        "        \n",
        "        preprocessed_txt.append(normalized_sent)\n",
        "    return preprocessed_txt\n",
        "\n",
        "preprocessed_txt = advanced_preprocess_function(basic_preprocessed_txt)\n",
        "\n",
        "print('## advanced preprocessing')\n",
        "print('%s\\n  =>  %s'%(basic_preprocessed_txt[11], preprocessed_txt[11]))"
      ]
    },
    {
      "cell_type": "markdown",
      "id": "7cb5403c",
      "metadata": {
        "id": "7cb5403c"
      },
      "source": [
        "# 전처리 완료!"
      ]
    },
    {
      "cell_type": "code",
      "execution_count": 28,
      "id": "a799fb32",
      "metadata": {
        "scrolled": true,
        "id": "a799fb32"
      },
      "outputs": [],
      "source": [
        ""
      ]
    }
  ],
  "metadata": {
    "hide_input": false,
    "kernelspec": {
      "display_name": "Python 3 (ipykernel)",
      "language": "python",
      "name": "python3"
    },
    "language_info": {
      "codemirror_mode": {
        "name": "ipython",
        "version": 3
      },
      "file_extension": ".py",
      "mimetype": "text/x-python",
      "name": "python",
      "nbconvert_exporter": "python",
      "pygments_lexer": "ipython3",
      "version": "3.7.11"
    },
    "varInspector": {
      "cols": {
        "lenName": 16,
        "lenType": 16,
        "lenVar": 40
      },
      "kernels_config": {
        "python": {
          "delete_cmd_postfix": "",
          "delete_cmd_prefix": "del ",
          "library": "var_list.py",
          "varRefreshCmd": "print(var_dic_list())"
        },
        "r": {
          "delete_cmd_postfix": ") ",
          "delete_cmd_prefix": "rm(",
          "library": "var_list.r",
          "varRefreshCmd": "cat(var_dic_list()) "
        }
      },
      "types_to_exclude": [
        "module",
        "function",
        "builtin_function_or_method",
        "instance",
        "_Feature"
      ],
      "window_display": false
    },
    "colab": {
      "name": "nlp_1_preprocessing_2.ipynb",
      "provenance": []
    }
  },
  "nbformat": 4,
  "nbformat_minor": 5
}