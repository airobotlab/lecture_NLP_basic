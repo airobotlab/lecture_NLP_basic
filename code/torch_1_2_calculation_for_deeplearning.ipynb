{
 "cells": [
  {
   "cell_type": "markdown",
   "metadata": {
    "id": "ovq1PADBFN1d"
   },
   "source": [
    "#0. 시작하기 전에"
   ]
  },
  {
   "cell_type": "markdown",
   "metadata": {
    "id": "7W0EgzcYFC8O"
   },
   "source": [
    "우리는 PyTorch라는 딥 러닝 프레임워크를 사용할 것이므로 실습하기에 앞서 torch를 임포트합니다.  \n",
    "Colab에서는 PyTorch가 이미 설치되어서 제공되어져 있으므로 별도 설치가 필요하지 않습니다."
   ]
  },
  {
   "cell_type": "code",
   "execution_count": 1,
   "metadata": {
    "executionInfo": {
     "elapsed": 6773,
     "status": "ok",
     "timestamp": 1647930299934,
     "user": {
      "displayName": "Taehee Lee",
      "photoUrl": "https://lh3.googleusercontent.com/a-/AOh14GijtfpZnQ0Syv6KWDHsShFunkW1YmSXhr4rUnheIEg=s64",
      "userId": "12017922817927484990"
     },
     "user_tz": -540
    },
    "id": "ZJ_26-nkFAEI"
   },
   "outputs": [],
   "source": [
    "import torch"
   ]
  },
  {
   "cell_type": "markdown",
   "metadata": {
    "id": "dw4fkCcuEiVo"
   },
   "source": [
    "# 1. 스칼라(Scalar)"
   ]
  },
  {
   "cell_type": "markdown",
   "metadata": {
    "id": "0eE85PoxE5ut"
   },
   "source": [
    "스칼라(Scalar)는 하나의 상수를 의미합니다. PyTorch에서 스칼라를 만드는 방법은 간단합니다.  \n",
    "\n",
    "* torch.tensor([숫자])"
   ]
  },
  {
   "cell_type": "code",
   "execution_count": 2,
   "metadata": {
    "executionInfo": {
     "elapsed": 323,
     "status": "ok",
     "timestamp": 1647930321523,
     "user": {
      "displayName": "Taehee Lee",
      "photoUrl": "https://lh3.googleusercontent.com/a-/AOh14GijtfpZnQ0Syv6KWDHsShFunkW1YmSXhr4rUnheIEg=s64",
      "userId": "12017922817927484990"
     },
     "user_tz": -540
    },
    "id": "BMUKosWwFRHF"
   },
   "outputs": [],
   "source": [
    "var1 = torch.tensor([1])"
   ]
  },
  {
   "cell_type": "code",
   "execution_count": 3,
   "metadata": {
    "colab": {
     "base_uri": "https://localhost:8080/"
    },
    "executionInfo": {
     "elapsed": 480,
     "status": "ok",
     "timestamp": 1647930325065,
     "user": {
      "displayName": "Taehee Lee",
      "photoUrl": "https://lh3.googleusercontent.com/a-/AOh14GijtfpZnQ0Syv6KWDHsShFunkW1YmSXhr4rUnheIEg=s64",
      "userId": "12017922817927484990"
     },
     "user_tz": -540
    },
    "id": "ovRI3vHLGAAp",
    "outputId": "cf50b316-4d0f-445b-ba0e-f6de52bce19a"
   },
   "outputs": [
    {
     "data": {
      "text/plain": [
       "torch.Tensor"
      ]
     },
     "execution_count": 3,
     "metadata": {},
     "output_type": "execute_result"
    }
   ],
   "source": [
    "type(var1)"
   ]
  },
  {
   "cell_type": "markdown",
   "metadata": {
    "id": "-mCahl74GGaR"
   },
   "source": [
    "타입은 torch.Tensor가 나옵니다. torch.Tensor는 파이토치에서 제공하는 파이썬의 자료형이라고 보시면됩니다.  "
   ]
  },
  {
   "cell_type": "markdown",
   "metadata": {
    "id": "j07Ct6RuGUdv"
   },
   "source": [
    "이번에는 또 다른 스칼라를 만들어봤습니다."
   ]
  },
  {
   "cell_type": "code",
   "execution_count": 4,
   "metadata": {
    "executionInfo": {
     "elapsed": 289,
     "status": "ok",
     "timestamp": 1647930339639,
     "user": {
      "displayName": "Taehee Lee",
      "photoUrl": "https://lh3.googleusercontent.com/a-/AOh14GijtfpZnQ0Syv6KWDHsShFunkW1YmSXhr4rUnheIEg=s64",
      "userId": "12017922817927484990"
     },
     "user_tz": -540
    },
    "id": "5KLQchclGFrI"
   },
   "outputs": [],
   "source": [
    "var2 = torch.tensor([5.8])"
   ]
  },
  {
   "cell_type": "markdown",
   "metadata": {
    "id": "bgV46LxR_0uG"
   },
   "source": [
    "이번에는 두 개의 스칼라를 가지고 곱셈이나 나눗셈 연산을 해보겠습니다.  \n",
    "파이썬에서는 덧셈은 +, 뺄셈은 -, 곱셈은 * 나눗셈은 / 을 의미합니다."
   ]
  },
  {
   "cell_type": "code",
   "execution_count": 5,
   "metadata": {
    "colab": {
     "base_uri": "https://localhost:8080/"
    },
    "executionInfo": {
     "elapsed": 330,
     "status": "ok",
     "timestamp": 1647930361820,
     "user": {
      "displayName": "Taehee Lee",
      "photoUrl": "https://lh3.googleusercontent.com/a-/AOh14GijtfpZnQ0Syv6KWDHsShFunkW1YmSXhr4rUnheIEg=s64",
      "userId": "12017922817927484990"
     },
     "user_tz": -540
    },
    "id": "5j4NfxZjGTYQ",
    "outputId": "07b3c616-9999-4b0e-b396-f528e4c0d1b7"
   },
   "outputs": [
    {
     "data": {
      "text/plain": [
       "tensor([6.8000])"
      ]
     },
     "execution_count": 5,
     "metadata": {},
     "output_type": "execute_result"
    }
   ],
   "source": [
    "# 두 스칼라의 덧셈 연산\n",
    "var1 + var2"
   ]
  },
  {
   "cell_type": "code",
   "execution_count": 6,
   "metadata": {
    "colab": {
     "base_uri": "https://localhost:8080/"
    },
    "executionInfo": {
     "elapsed": 311,
     "status": "ok",
     "timestamp": 1647930368780,
     "user": {
      "displayName": "Taehee Lee",
      "photoUrl": "https://lh3.googleusercontent.com/a-/AOh14GijtfpZnQ0Syv6KWDHsShFunkW1YmSXhr4rUnheIEg=s64",
      "userId": "12017922817927484990"
     },
     "user_tz": -540
    },
    "id": "YiY217U1DK2S",
    "outputId": "14920afa-d320-4c4e-de23-483e4ce3fcfa"
   },
   "outputs": [
    {
     "data": {
      "text/plain": [
       "tensor([-4.8000])"
      ]
     },
     "execution_count": 6,
     "metadata": {},
     "output_type": "execute_result"
    }
   ],
   "source": [
    "# 두 스칼라의 뺄셈 연산\n",
    "var1 - var2"
   ]
  },
  {
   "cell_type": "code",
   "execution_count": 7,
   "metadata": {
    "colab": {
     "base_uri": "https://localhost:8080/"
    },
    "executionInfo": {
     "elapsed": 293,
     "status": "ok",
     "timestamp": 1647930373743,
     "user": {
      "displayName": "Taehee Lee",
      "photoUrl": "https://lh3.googleusercontent.com/a-/AOh14GijtfpZnQ0Syv6KWDHsShFunkW1YmSXhr4rUnheIEg=s64",
      "userId": "12017922817927484990"
     },
     "user_tz": -540
    },
    "id": "cwoesLpzGXoR",
    "outputId": "1a0dec4d-ad66-42d7-bc0b-2f9481fd0d4e"
   },
   "outputs": [
    {
     "data": {
      "text/plain": [
       "tensor([5.8000])"
      ]
     },
     "execution_count": 7,
     "metadata": {},
     "output_type": "execute_result"
    }
   ],
   "source": [
    "# 두 스칼라의 곱셈 연산\n",
    "var1 * var2"
   ]
  },
  {
   "cell_type": "code",
   "execution_count": 8,
   "metadata": {
    "colab": {
     "base_uri": "https://localhost:8080/"
    },
    "executionInfo": {
     "elapsed": 295,
     "status": "ok",
     "timestamp": 1647930377746,
     "user": {
      "displayName": "Taehee Lee",
      "photoUrl": "https://lh3.googleusercontent.com/a-/AOh14GijtfpZnQ0Syv6KWDHsShFunkW1YmSXhr4rUnheIEg=s64",
      "userId": "12017922817927484990"
     },
     "user_tz": -540
    },
    "id": "RXmpfoxLGaxQ",
    "outputId": "fbf1d993-23d9-4566-93a4-7e49c16ab64b"
   },
   "outputs": [
    {
     "data": {
      "text/plain": [
       "tensor([0.1724])"
      ]
     },
     "execution_count": 8,
     "metadata": {},
     "output_type": "execute_result"
    }
   ],
   "source": [
    "# 두 스칼라의 나눗셈 연산\n",
    "var1 / var2"
   ]
  },
  {
   "cell_type": "markdown",
   "metadata": {
    "id": "vHxfLivnGimS"
   },
   "source": [
    "파이토치는 두 스칼라의 연산을 위해서 덧셈, 뺄셈, 곱셈, 나눗셈 등의 다양한 파이토치만의 연산 함수들을 제공합니다.  \n",
    "\n",
    "위에서 수행했던 사칙연산들을 이번에는 파이토치 함수를 통해서 값을 구해봅시다.\n",
    "\n",
    "* add, sub, mul, div  "
   ]
  },
  {
   "cell_type": "code",
   "execution_count": 9,
   "metadata": {
    "colab": {
     "base_uri": "https://localhost:8080/"
    },
    "executionInfo": {
     "elapsed": 297,
     "status": "ok",
     "timestamp": 1647930415627,
     "user": {
      "displayName": "Taehee Lee",
      "photoUrl": "https://lh3.googleusercontent.com/a-/AOh14GijtfpZnQ0Syv6KWDHsShFunkW1YmSXhr4rUnheIEg=s64",
      "userId": "12017922817927484990"
     },
     "user_tz": -540
    },
    "id": "nK2hBze8GgEo",
    "outputId": "fe1305cb-0259-472c-d068-d72d0f18b016"
   },
   "outputs": [
    {
     "data": {
      "text/plain": [
       "tensor([6.8000])"
      ]
     },
     "execution_count": 9,
     "metadata": {},
     "output_type": "execute_result"
    }
   ],
   "source": [
    "torch.add(var1, var2)"
   ]
  },
  {
   "cell_type": "code",
   "execution_count": 10,
   "metadata": {
    "colab": {
     "base_uri": "https://localhost:8080/"
    },
    "executionInfo": {
     "elapsed": 4,
     "status": "ok",
     "timestamp": 1647930416983,
     "user": {
      "displayName": "Taehee Lee",
      "photoUrl": "https://lh3.googleusercontent.com/a-/AOh14GijtfpZnQ0Syv6KWDHsShFunkW1YmSXhr4rUnheIEg=s64",
      "userId": "12017922817927484990"
     },
     "user_tz": -540
    },
    "id": "4rDz7q_IGti3",
    "outputId": "895148aa-b423-457f-9bad-2662559dc90e"
   },
   "outputs": [
    {
     "data": {
      "text/plain": [
       "tensor([-4.8000])"
      ]
     },
     "execution_count": 10,
     "metadata": {},
     "output_type": "execute_result"
    }
   ],
   "source": [
    "torch.sub(var1, var2)"
   ]
  },
  {
   "cell_type": "code",
   "execution_count": 11,
   "metadata": {
    "colab": {
     "base_uri": "https://localhost:8080/"
    },
    "executionInfo": {
     "elapsed": 473,
     "status": "ok",
     "timestamp": 1647930418037,
     "user": {
      "displayName": "Taehee Lee",
      "photoUrl": "https://lh3.googleusercontent.com/a-/AOh14GijtfpZnQ0Syv6KWDHsShFunkW1YmSXhr4rUnheIEg=s64",
      "userId": "12017922817927484990"
     },
     "user_tz": -540
    },
    "id": "1Fy0XAivGvqQ",
    "outputId": "15441002-413a-40b5-a41f-3fcedcbeb0ed"
   },
   "outputs": [
    {
     "data": {
      "text/plain": [
       "tensor([5.8000])"
      ]
     },
     "execution_count": 11,
     "metadata": {},
     "output_type": "execute_result"
    }
   ],
   "source": [
    "torch.mul(var1, var2)"
   ]
  },
  {
   "cell_type": "code",
   "execution_count": 12,
   "metadata": {
    "colab": {
     "base_uri": "https://localhost:8080/"
    },
    "executionInfo": {
     "elapsed": 5,
     "status": "ok",
     "timestamp": 1647930418349,
     "user": {
      "displayName": "Taehee Lee",
      "photoUrl": "https://lh3.googleusercontent.com/a-/AOh14GijtfpZnQ0Syv6KWDHsShFunkW1YmSXhr4rUnheIEg=s64",
      "userId": "12017922817927484990"
     },
     "user_tz": -540
    },
    "id": "NJc3e5MCILfR",
    "outputId": "7bc36a74-6109-4385-bcaf-284818eb77d5"
   },
   "outputs": [
    {
     "data": {
      "text/plain": [
       "tensor([0.1724])"
      ]
     },
     "execution_count": 12,
     "metadata": {},
     "output_type": "execute_result"
    }
   ],
   "source": [
    "torch.div(var1, var2)"
   ]
  },
  {
   "cell_type": "markdown",
   "metadata": {
    "id": "4KM47l54CwLa"
   },
   "source": [
    "---"
   ]
  },
  {
   "cell_type": "markdown",
   "metadata": {
    "id": "JccFKkb7If8Q"
   },
   "source": [
    "#2. 벡터(Vector)"
   ]
  },
  {
   "cell_type": "markdown",
   "metadata": {
    "id": "aGEnbuhPIiZ3"
   },
   "source": [
    "스칼라(Scalar)가 하나의 상수를 표현한다면, 벡터(Vector)는 상수가 두 개 이상 나열되었을 때를 벡터라고 합니다.  \n",
    "PyTorch에서는 벡터(Vector)를 다음과 같이 표현합니다."
   ]
  },
  {
   "cell_type": "markdown",
   "metadata": {
    "id": "Jtn2N_tjI8RF"
   },
   "source": [
    "* torch.tensor([숫자1, 숫자2, 숫자3, ... , 숫자9999])"
   ]
  },
  {
   "cell_type": "code",
   "execution_count": 13,
   "metadata": {
    "executionInfo": {
     "elapsed": 299,
     "status": "ok",
     "timestamp": 1647930447743,
     "user": {
      "displayName": "Taehee Lee",
      "photoUrl": "https://lh3.googleusercontent.com/a-/AOh14GijtfpZnQ0Syv6KWDHsShFunkW1YmSXhr4rUnheIEg=s64",
      "userId": "12017922817927484990"
     },
     "user_tz": -540
    },
    "id": "HIBIlQTIIxxZ"
   },
   "outputs": [],
   "source": [
    "vector1 = torch.tensor([1, 2, 3])"
   ]
  },
  {
   "cell_type": "code",
   "execution_count": 14,
   "metadata": {
    "colab": {
     "base_uri": "https://localhost:8080/"
    },
    "executionInfo": {
     "elapsed": 6,
     "status": "ok",
     "timestamp": 1647930449056,
     "user": {
      "displayName": "Taehee Lee",
      "photoUrl": "https://lh3.googleusercontent.com/a-/AOh14GijtfpZnQ0Syv6KWDHsShFunkW1YmSXhr4rUnheIEg=s64",
      "userId": "12017922817927484990"
     },
     "user_tz": -540
    },
    "id": "FC2boRJpJA0c",
    "outputId": "220709ae-d8c0-4cf5-e0b0-ac6ac758d7c8"
   },
   "outputs": [
    {
     "data": {
      "text/plain": [
       "tensor([1, 2, 3])"
      ]
     },
     "execution_count": 14,
     "metadata": {},
     "output_type": "execute_result"
    }
   ],
   "source": [
    "vector1"
   ]
  },
  {
   "cell_type": "markdown",
   "metadata": {
    "id": "2QL1jjeyJGZ4"
   },
   "source": [
    "여기서 **수학적인 용어** 한 가지만 짚고갈게요. 우리는 벡터를 차원이라는 용어로 부를 때가 있습니다.  \n",
    "가령, 'N차원 벡터'라고 부른다면 여기서 N은 벡터 안에 숫자가 몇 개있는지를 의미합니다."
   ]
  },
  {
   "cell_type": "markdown",
   "metadata": {
    "id": "BJAaO3vOJRG2"
   },
   "source": [
    "vector1은 숫자가 지금 안에 3개가 있기 때문에 우리는 vector1은 **'3차원 벡터'**라고 부를 수 있습니다."
   ]
  },
  {
   "cell_type": "markdown",
   "metadata": {
    "id": "9DAJTHmzDoNO"
   },
   "source": [
    "##2-1. 벡터의 사칙 연산"
   ]
  },
  {
   "cell_type": "markdown",
   "metadata": {
    "id": "QJfcAPA1J_Qg"
   },
   "source": [
    "이번에는 또 다른 벡터를 만들어서 벡터의 연산을 벡터의 다양한 연산을 한 번 해보겠습니다."
   ]
  },
  {
   "cell_type": "code",
   "execution_count": 15,
   "metadata": {
    "executionInfo": {
     "elapsed": 298,
     "status": "ok",
     "timestamp": 1647930462923,
     "user": {
      "displayName": "Taehee Lee",
      "photoUrl": "https://lh3.googleusercontent.com/a-/AOh14GijtfpZnQ0Syv6KWDHsShFunkW1YmSXhr4rUnheIEg=s64",
      "userId": "12017922817927484990"
     },
     "user_tz": -540
    },
    "id": "F3kkdl1GJE3_"
   },
   "outputs": [],
   "source": [
    "vector2 = torch.tensor([10, 20, 30])"
   ]
  },
  {
   "cell_type": "markdown",
   "metadata": {
    "id": "qdAY8XLm_9dR"
   },
   "source": [
    "순서대로 덧셈, 뺄셈, 곱셈, 나눗셈을 수행해봅시다."
   ]
  },
  {
   "cell_type": "code",
   "execution_count": null,
   "metadata": {
    "colab": {
     "base_uri": "https://localhost:8080/"
    },
    "executionInfo": {
     "elapsed": 86,
     "status": "ok",
     "timestamp": 1647603732628,
     "user": {
      "displayName": "Taehee Lee",
      "photoUrl": "https://lh3.googleusercontent.com/a-/AOh14GijtfpZnQ0Syv6KWDHsShFunkW1YmSXhr4rUnheIEg=s64",
      "userId": "12017922817927484990"
     },
     "user_tz": -540
    },
    "id": "DJVfsv6e_uTD",
    "outputId": "7afbe374-0e5d-4405-c9c2-98d3655b7769"
   },
   "outputs": [
    {
     "data": {
      "text/plain": [
       "tensor([11, 22, 33])"
      ]
     },
     "execution_count": 16,
     "metadata": {},
     "output_type": "execute_result"
    }
   ],
   "source": [
    "# 덧셈\n",
    "vector1 + vector2"
   ]
  },
  {
   "cell_type": "code",
   "execution_count": null,
   "metadata": {
    "colab": {
     "base_uri": "https://localhost:8080/"
    },
    "executionInfo": {
     "elapsed": 86,
     "status": "ok",
     "timestamp": 1647603732629,
     "user": {
      "displayName": "Taehee Lee",
      "photoUrl": "https://lh3.googleusercontent.com/a-/AOh14GijtfpZnQ0Syv6KWDHsShFunkW1YmSXhr4rUnheIEg=s64",
      "userId": "12017922817927484990"
     },
     "user_tz": -540
    },
    "id": "xxNYa_ptACAr",
    "outputId": "c99962a7-8634-4a84-e23e-2a3e3be9c8d3"
   },
   "outputs": [
    {
     "data": {
      "text/plain": [
       "tensor([ -9, -18, -27])"
      ]
     },
     "execution_count": 17,
     "metadata": {},
     "output_type": "execute_result"
    }
   ],
   "source": [
    "# 뺄셈\n",
    "vector1 - vector2"
   ]
  },
  {
   "cell_type": "code",
   "execution_count": null,
   "metadata": {
    "colab": {
     "base_uri": "https://localhost:8080/"
    },
    "executionInfo": {
     "elapsed": 81,
     "status": "ok",
     "timestamp": 1647603732629,
     "user": {
      "displayName": "Taehee Lee",
      "photoUrl": "https://lh3.googleusercontent.com/a-/AOh14GijtfpZnQ0Syv6KWDHsShFunkW1YmSXhr4rUnheIEg=s64",
      "userId": "12017922817927484990"
     },
     "user_tz": -540
    },
    "id": "B84FdybJAFVa",
    "outputId": "8b2154b7-2856-4246-d9cd-f1e1a6ec7765"
   },
   "outputs": [
    {
     "data": {
      "text/plain": [
       "tensor([10, 40, 90])"
      ]
     },
     "execution_count": 18,
     "metadata": {},
     "output_type": "execute_result"
    }
   ],
   "source": [
    "# 곱셈\n",
    "vector1 * vector2"
   ]
  },
  {
   "cell_type": "code",
   "execution_count": null,
   "metadata": {
    "colab": {
     "base_uri": "https://localhost:8080/"
    },
    "executionInfo": {
     "elapsed": 77,
     "status": "ok",
     "timestamp": 1647603732629,
     "user": {
      "displayName": "Taehee Lee",
      "photoUrl": "https://lh3.googleusercontent.com/a-/AOh14GijtfpZnQ0Syv6KWDHsShFunkW1YmSXhr4rUnheIEg=s64",
      "userId": "12017922817927484990"
     },
     "user_tz": -540
    },
    "id": "1fpCew3rAHcy",
    "outputId": "2b0b011d-1ff2-4542-ddbd-bc4dd6ffee77"
   },
   "outputs": [
    {
     "data": {
      "text/plain": [
       "tensor([0.1000, 0.1000, 0.1000])"
      ]
     },
     "execution_count": 19,
     "metadata": {},
     "output_type": "execute_result"
    }
   ],
   "source": [
    "# 나눗셈\n",
    "vector1 / vector2"
   ]
  },
  {
   "cell_type": "markdown",
   "metadata": {
    "id": "eRjtcD5RALG_"
   },
   "source": [
    "물론 파이토치가 제공하는 연산 함수를 통해서도 가능합니다.  \n",
    "* add, sub, mul, div"
   ]
  },
  {
   "cell_type": "code",
   "execution_count": null,
   "metadata": {
    "colab": {
     "base_uri": "https://localhost:8080/"
    },
    "executionInfo": {
     "elapsed": 73,
     "status": "ok",
     "timestamp": 1647603732629,
     "user": {
      "displayName": "Taehee Lee",
      "photoUrl": "https://lh3.googleusercontent.com/a-/AOh14GijtfpZnQ0Syv6KWDHsShFunkW1YmSXhr4rUnheIEg=s64",
      "userId": "12017922817927484990"
     },
     "user_tz": -540
    },
    "id": "0YPTUQGIAJaC",
    "outputId": "a2097b30-8fe9-4168-c704-ff657caf82be"
   },
   "outputs": [
    {
     "data": {
      "text/plain": [
       "tensor([11, 22, 33])"
      ]
     },
     "execution_count": 20,
     "metadata": {},
     "output_type": "execute_result"
    }
   ],
   "source": [
    "# 덧셈\n",
    "torch.add(vector1, vector2)"
   ]
  },
  {
   "cell_type": "code",
   "execution_count": null,
   "metadata": {
    "colab": {
     "base_uri": "https://localhost:8080/"
    },
    "executionInfo": {
     "elapsed": 69,
     "status": "ok",
     "timestamp": 1647603732629,
     "user": {
      "displayName": "Taehee Lee",
      "photoUrl": "https://lh3.googleusercontent.com/a-/AOh14GijtfpZnQ0Syv6KWDHsShFunkW1YmSXhr4rUnheIEg=s64",
      "userId": "12017922817927484990"
     },
     "user_tz": -540
    },
    "id": "uvlcahvyASXy",
    "outputId": "861f656c-939b-4b08-e260-81cdb37a324a"
   },
   "outputs": [
    {
     "data": {
      "text/plain": [
       "tensor([ -9, -18, -27])"
      ]
     },
     "execution_count": 21,
     "metadata": {},
     "output_type": "execute_result"
    }
   ],
   "source": [
    "# 뺄셈\n",
    "torch.sub(vector1, vector2)"
   ]
  },
  {
   "cell_type": "code",
   "execution_count": null,
   "metadata": {
    "colab": {
     "base_uri": "https://localhost:8080/"
    },
    "executionInfo": {
     "elapsed": 66,
     "status": "ok",
     "timestamp": 1647603732629,
     "user": {
      "displayName": "Taehee Lee",
      "photoUrl": "https://lh3.googleusercontent.com/a-/AOh14GijtfpZnQ0Syv6KWDHsShFunkW1YmSXhr4rUnheIEg=s64",
      "userId": "12017922817927484990"
     },
     "user_tz": -540
    },
    "id": "Q99lOoojAWKy",
    "outputId": "b3ccca38-0bec-41a2-deb4-15cb8181f5d3"
   },
   "outputs": [
    {
     "data": {
      "text/plain": [
       "tensor([10, 40, 90])"
      ]
     },
     "execution_count": 22,
     "metadata": {},
     "output_type": "execute_result"
    }
   ],
   "source": [
    "# 곱셈\n",
    "torch.mul(vector1, vector2)"
   ]
  },
  {
   "cell_type": "code",
   "execution_count": null,
   "metadata": {
    "colab": {
     "base_uri": "https://localhost:8080/"
    },
    "executionInfo": {
     "elapsed": 63,
     "status": "ok",
     "timestamp": 1647603732629,
     "user": {
      "displayName": "Taehee Lee",
      "photoUrl": "https://lh3.googleusercontent.com/a-/AOh14GijtfpZnQ0Syv6KWDHsShFunkW1YmSXhr4rUnheIEg=s64",
      "userId": "12017922817927484990"
     },
     "user_tz": -540
    },
    "id": "oWGwuKaTAX6i",
    "outputId": "a2b04794-c1f5-4554-b55d-743975ecdeb8"
   },
   "outputs": [
    {
     "data": {
      "text/plain": [
       "tensor([0.1000, 0.1000, 0.1000])"
      ]
     },
     "execution_count": 23,
     "metadata": {},
     "output_type": "execute_result"
    }
   ],
   "source": [
    "# 나눗셈\n",
    "torch.div(vector1, vector2)"
   ]
  },
  {
   "cell_type": "markdown",
   "metadata": {
    "id": "-QP3giTMDfw1"
   },
   "source": [
    "##2-2. 벡터의 내적(중요)"
   ]
  },
  {
   "cell_type": "markdown",
   "metadata": {
    "id": "f2x-0rCsAj4o"
   },
   "source": [
    "벡터의 **내적 연산(dot product)**도 torch.dot()을 통해서 가능합니다.  \n",
    "\n",
    "두 벡터의 내적이라고 함은 x = [a1, a2, a3], y=[b1, b2, b3] 다음의 두 벡터가 있다면,  \n",
    "a1 x b1 + a2 x b2 + a3 x b3를 우리는 벡터의 내적이라고 합니다.  "
   ]
  },
  {
   "cell_type": "markdown",
   "metadata": {
    "id": "Z57_U_t4BJeC"
   },
   "source": [
    "여기서 내적은 다음과 같이 이루어졌습니다.  \n",
    "\n",
    "* 1 x 10 + 2 x 20 + 3 x 30 = 140"
   ]
  },
  {
   "cell_type": "code",
   "execution_count": 16,
   "metadata": {
    "colab": {
     "base_uri": "https://localhost:8080/"
    },
    "executionInfo": {
     "elapsed": 293,
     "status": "ok",
     "timestamp": 1647930516276,
     "user": {
      "displayName": "Taehee Lee",
      "photoUrl": "https://lh3.googleusercontent.com/a-/AOh14GijtfpZnQ0Syv6KWDHsShFunkW1YmSXhr4rUnheIEg=s64",
      "userId": "12017922817927484990"
     },
     "user_tz": -540
    },
    "id": "BOjpwv_UAZza",
    "outputId": "0230ad97-b7d1-4e9e-86d2-b285199e9cd7"
   },
   "outputs": [
    {
     "data": {
      "text/plain": [
       "tensor(140)"
      ]
     },
     "execution_count": 16,
     "metadata": {},
     "output_type": "execute_result"
    }
   ],
   "source": [
    "# 내적\n",
    "torch.dot(vector1, vector2)"
   ]
  },
  {
   "cell_type": "markdown",
   "metadata": {
    "id": "CmISt6G2CxXk"
   },
   "source": [
    "---"
   ]
  },
  {
   "cell_type": "markdown",
   "metadata": {
    "id": "pIQf7tpvBRpn"
   },
   "source": [
    "#3. 행렬(Matrix)"
   ]
  },
  {
   "cell_type": "markdown",
   "metadata": {
    "id": "l_pO5N7KBbdr"
   },
   "source": [
    "행렬(Matrix)는 2개 이상의 벡터 값을 가지고 만들어진 값으로 **행과 열의 개념**을 가진 숫자의 나열입니다."
   ]
  },
  {
   "cell_type": "code",
   "execution_count": 17,
   "metadata": {
    "colab": {
     "base_uri": "https://localhost:8080/"
    },
    "executionInfo": {
     "elapsed": 291,
     "status": "ok",
     "timestamp": 1647930534417,
     "user": {
      "displayName": "Taehee Lee",
      "photoUrl": "https://lh3.googleusercontent.com/a-/AOh14GijtfpZnQ0Syv6KWDHsShFunkW1YmSXhr4rUnheIEg=s64",
      "userId": "12017922817927484990"
     },
     "user_tz": -540
    },
    "id": "ccLeh3SiBXQ9",
    "outputId": "ddf00423-7654-4d0b-eb71-f4c141b63e79"
   },
   "outputs": [
    {
     "name": "stdout",
     "output_type": "stream",
     "text": [
      "tensor([[1, 2],\n",
      "        [3, 4]])\n"
     ]
    }
   ],
   "source": [
    "matrix1 = torch.tensor([[1, 2], [3, 4]])\n",
    "print(matrix1)"
   ]
  },
  {
   "cell_type": "markdown",
   "metadata": {
    "id": "2xs6ZinhB3Bw"
   },
   "source": [
    "위 행렬은 2행, 2열을 가지는 행렬입니다. 또는 2 x 2 행렬이라고도 부릅니다.  \n",
    "또 다른 행렬을 하나 더 만들어봅시다."
   ]
  },
  {
   "cell_type": "code",
   "execution_count": 18,
   "metadata": {
    "colab": {
     "base_uri": "https://localhost:8080/"
    },
    "executionInfo": {
     "elapsed": 294,
     "status": "ok",
     "timestamp": 1647930539202,
     "user": {
      "displayName": "Taehee Lee",
      "photoUrl": "https://lh3.googleusercontent.com/a-/AOh14GijtfpZnQ0Syv6KWDHsShFunkW1YmSXhr4rUnheIEg=s64",
      "userId": "12017922817927484990"
     },
     "user_tz": -540
    },
    "id": "gWe79Gy0By5b",
    "outputId": "10fecf25-ff91-4fe6-bc77-c0ed4fc796e1"
   },
   "outputs": [
    {
     "name": "stdout",
     "output_type": "stream",
     "text": [
      "tensor([[ 7,  8],\n",
      "        [ 9, 10]])\n"
     ]
    }
   ],
   "source": [
    "matrix2 = torch.tensor([[7, 8], [9, 10]])\n",
    "print(matrix2)"
   ]
  },
  {
   "cell_type": "markdown",
   "metadata": {
    "id": "mvnnCiQ-Dza-"
   },
   "source": [
    "##3-1. 행렬의 사칙연산"
   ]
  },
  {
   "cell_type": "markdown",
   "metadata": {
    "id": "7hUFTVzqB-tF"
   },
   "source": [
    "이제 두 행렬 간 사칙 연산을 수행해봅시다."
   ]
  },
  {
   "cell_type": "code",
   "execution_count": null,
   "metadata": {
    "colab": {
     "base_uri": "https://localhost:8080/"
    },
    "executionInfo": {
     "elapsed": 53,
     "status": "ok",
     "timestamp": 1647603732630,
     "user": {
      "displayName": "Taehee Lee",
      "photoUrl": "https://lh3.googleusercontent.com/a-/AOh14GijtfpZnQ0Syv6KWDHsShFunkW1YmSXhr4rUnheIEg=s64",
      "userId": "12017922817927484990"
     },
     "user_tz": -540
    },
    "id": "AK7Z3SqwB2gq",
    "outputId": "6860d420-a162-4479-bbfd-ab1d0510f285"
   },
   "outputs": [
    {
     "data": {
      "text/plain": [
       "tensor([[ 8, 10],\n",
       "        [12, 14]])"
      ]
     },
     "execution_count": 27,
     "metadata": {},
     "output_type": "execute_result"
    }
   ],
   "source": [
    "matrix1 + matrix2"
   ]
  },
  {
   "cell_type": "code",
   "execution_count": null,
   "metadata": {
    "colab": {
     "base_uri": "https://localhost:8080/"
    },
    "executionInfo": {
     "elapsed": 51,
     "status": "ok",
     "timestamp": 1647603732630,
     "user": {
      "displayName": "Taehee Lee",
      "photoUrl": "https://lh3.googleusercontent.com/a-/AOh14GijtfpZnQ0Syv6KWDHsShFunkW1YmSXhr4rUnheIEg=s64",
      "userId": "12017922817927484990"
     },
     "user_tz": -540
    },
    "id": "KQ056XsdCChq",
    "outputId": "fe668024-74f5-4b40-d3c2-448385e98533"
   },
   "outputs": [
    {
     "data": {
      "text/plain": [
       "tensor([[-6, -6],\n",
       "        [-6, -6]])"
      ]
     },
     "execution_count": 28,
     "metadata": {},
     "output_type": "execute_result"
    }
   ],
   "source": [
    "matrix1 - matrix2"
   ]
  },
  {
   "cell_type": "code",
   "execution_count": null,
   "metadata": {
    "colab": {
     "base_uri": "https://localhost:8080/"
    },
    "executionInfo": {
     "elapsed": 48,
     "status": "ok",
     "timestamp": 1647603732630,
     "user": {
      "displayName": "Taehee Lee",
      "photoUrl": "https://lh3.googleusercontent.com/a-/AOh14GijtfpZnQ0Syv6KWDHsShFunkW1YmSXhr4rUnheIEg=s64",
      "userId": "12017922817927484990"
     },
     "user_tz": -540
    },
    "id": "VJmKBRWoCExJ",
    "outputId": "af0fe9e6-075a-41f5-a09a-f5f2aa8d2f82"
   },
   "outputs": [
    {
     "data": {
      "text/plain": [
       "tensor([[ 7, 16],\n",
       "        [27, 40]])"
      ]
     },
     "execution_count": 29,
     "metadata": {},
     "output_type": "execute_result"
    }
   ],
   "source": [
    "# 동일한 위치에 있는 원소들끼리 곱합니다.\n",
    "matrix1 * matrix2"
   ]
  },
  {
   "cell_type": "code",
   "execution_count": null,
   "metadata": {
    "colab": {
     "base_uri": "https://localhost:8080/"
    },
    "executionInfo": {
     "elapsed": 46,
     "status": "ok",
     "timestamp": 1647603732630,
     "user": {
      "displayName": "Taehee Lee",
      "photoUrl": "https://lh3.googleusercontent.com/a-/AOh14GijtfpZnQ0Syv6KWDHsShFunkW1YmSXhr4rUnheIEg=s64",
      "userId": "12017922817927484990"
     },
     "user_tz": -540
    },
    "id": "z96UHpcRCIvJ",
    "outputId": "b03ec73e-ff51-48a7-ecf3-0b402475da98"
   },
   "outputs": [
    {
     "data": {
      "text/plain": [
       "tensor([[0.1429, 0.2500],\n",
       "        [0.3333, 0.4000]])"
      ]
     },
     "execution_count": 30,
     "metadata": {},
     "output_type": "execute_result"
    }
   ],
   "source": [
    "matrix1 / matrix2"
   ]
  },
  {
   "cell_type": "markdown",
   "metadata": {
    "id": "vjJ-owOeCWDP"
   },
   "source": [
    "스칼라와 벡터일 때와 마찬가지로 파이토치에서 제공하는 연산 함수를 통해서 사칙 연산을 수행할 수도 있습니다."
   ]
  },
  {
   "cell_type": "code",
   "execution_count": null,
   "metadata": {
    "colab": {
     "base_uri": "https://localhost:8080/"
    },
    "executionInfo": {
     "elapsed": 43,
     "status": "ok",
     "timestamp": 1647603732630,
     "user": {
      "displayName": "Taehee Lee",
      "photoUrl": "https://lh3.googleusercontent.com/a-/AOh14GijtfpZnQ0Syv6KWDHsShFunkW1YmSXhr4rUnheIEg=s64",
      "userId": "12017922817927484990"
     },
     "user_tz": -540
    },
    "id": "KEMLy693CKjR",
    "outputId": "18adb519-b8bc-4b2c-db6a-821017f07bc7"
   },
   "outputs": [
    {
     "data": {
      "text/plain": [
       "tensor([[ 8, 10],\n",
       "        [12, 14]])"
      ]
     },
     "execution_count": 31,
     "metadata": {},
     "output_type": "execute_result"
    }
   ],
   "source": [
    "# 행렬의 덧셈\n",
    "torch.add(matrix1, matrix2)"
   ]
  },
  {
   "cell_type": "code",
   "execution_count": null,
   "metadata": {
    "colab": {
     "base_uri": "https://localhost:8080/"
    },
    "executionInfo": {
     "elapsed": 42,
     "status": "ok",
     "timestamp": 1647603732631,
     "user": {
      "displayName": "Taehee Lee",
      "photoUrl": "https://lh3.googleusercontent.com/a-/AOh14GijtfpZnQ0Syv6KWDHsShFunkW1YmSXhr4rUnheIEg=s64",
      "userId": "12017922817927484990"
     },
     "user_tz": -540
    },
    "id": "Kg-wVadiCoTa",
    "outputId": "9162c4ac-54ff-493a-c4f1-24fb504be07a"
   },
   "outputs": [
    {
     "data": {
      "text/plain": [
       "tensor([[-6, -6],\n",
       "        [-6, -6]])"
      ]
     },
     "execution_count": 32,
     "metadata": {},
     "output_type": "execute_result"
    }
   ],
   "source": [
    "# 행렬의 뺄셈\n",
    "torch.sub(matrix1, matrix2)"
   ]
  },
  {
   "cell_type": "code",
   "execution_count": null,
   "metadata": {
    "colab": {
     "base_uri": "https://localhost:8080/"
    },
    "executionInfo": {
     "elapsed": 40,
     "status": "ok",
     "timestamp": 1647603732631,
     "user": {
      "displayName": "Taehee Lee",
      "photoUrl": "https://lh3.googleusercontent.com/a-/AOh14GijtfpZnQ0Syv6KWDHsShFunkW1YmSXhr4rUnheIEg=s64",
      "userId": "12017922817927484990"
     },
     "user_tz": -540
    },
    "id": "Olb8Gj_5CpVR",
    "outputId": "f991c77e-2b6b-4da5-fddd-0765a24310fe"
   },
   "outputs": [
    {
     "data": {
      "text/plain": [
       "tensor([[ 7, 16],\n",
       "        [27, 40]])"
      ]
     },
     "execution_count": 33,
     "metadata": {},
     "output_type": "execute_result"
    }
   ],
   "source": [
    "# 행렬의 원소별 곱셈\n",
    "torch.mul(matrix1, matrix2)"
   ]
  },
  {
   "cell_type": "code",
   "execution_count": null,
   "metadata": {
    "colab": {
     "base_uri": "https://localhost:8080/"
    },
    "executionInfo": {
     "elapsed": 37,
     "status": "ok",
     "timestamp": 1647603732631,
     "user": {
      "displayName": "Taehee Lee",
      "photoUrl": "https://lh3.googleusercontent.com/a-/AOh14GijtfpZnQ0Syv6KWDHsShFunkW1YmSXhr4rUnheIEg=s64",
      "userId": "12017922817927484990"
     },
     "user_tz": -540
    },
    "id": "-HW0XM-wCqjZ",
    "outputId": "b58f30f1-3194-4af0-d515-5db0677d192e"
   },
   "outputs": [
    {
     "data": {
      "text/plain": [
       "tensor([[0.1429, 0.2500],\n",
       "        [0.3333, 0.4000]])"
      ]
     },
     "execution_count": 34,
     "metadata": {},
     "output_type": "execute_result"
    }
   ],
   "source": [
    "# 행렬의 나눗셈\n",
    "torch.div(matrix1, matrix2)"
   ]
  },
  {
   "cell_type": "markdown",
   "metadata": {
    "id": "-v1wY0NgD1Rr"
   },
   "source": [
    "##3-2. 행렬의 곱셈"
   ]
  },
  {
   "cell_type": "markdown",
   "metadata": {
    "id": "_wNxXANzEPYk"
   },
   "source": [
    "행렬의 곱셈에 대한 참고 자료 : https://mathbang.net/562  \n",
    "행렬의 곱셈에 대한 참고 자료 : https://m.blog.naver.com/PostView.naver?isHttpsRedirect=true&blogId=alwaysneoi&logNo=100194421088"
   ]
  },
  {
   "cell_type": "markdown",
   "metadata": {
    "id": "WNe-owBvD3Pl"
   },
   "source": [
    "벡터에 내적이라는 개념이 있었던 것처럼 행렬에도 행렬의 곱셈이라는 특수한 연산이 존재합니다.  \n",
    "\n",
    "* torch.matmul()"
   ]
  },
  {
   "cell_type": "code",
   "execution_count": 19,
   "metadata": {
    "colab": {
     "base_uri": "https://localhost:8080/"
    },
    "executionInfo": {
     "elapsed": 302,
     "status": "ok",
     "timestamp": 1647930604250,
     "user": {
      "displayName": "Taehee Lee",
      "photoUrl": "https://lh3.googleusercontent.com/a-/AOh14GijtfpZnQ0Syv6KWDHsShFunkW1YmSXhr4rUnheIEg=s64",
      "userId": "12017922817927484990"
     },
     "user_tz": -540
    },
    "id": "gib0dovgCr5R",
    "outputId": "5be3d7f3-1d22-4df0-e317-682f1e4d76a5"
   },
   "outputs": [
    {
     "data": {
      "text/plain": [
       "tensor([[25, 28],\n",
       "        [57, 64]])"
      ]
     },
     "execution_count": 19,
     "metadata": {},
     "output_type": "execute_result"
    }
   ],
   "source": [
    "torch.matmul(matrix1, matrix2)"
   ]
  },
  {
   "cell_type": "markdown",
   "metadata": {
    "id": "GHWlrksQET9A"
   },
   "source": [
    "#4. 텐서(Tensor)"
   ]
  },
  {
   "cell_type": "markdown",
   "metadata": {
    "id": "eqwxCaAaEgHk"
   },
   "source": [
    "스칼라는 하나의 숫자를 의미했습니다.  \n",
    "벡터는 다수의 스칼라가 모인 개념입니다.    \n",
    "행렬은 다수의 벡터가 모인 개념입니다.  \n",
    "텐서는 다수의 행렬이 모이면 이때부터는 일반적으로 텐서(Tensor)라고 부릅니다.  \n"
   ]
  },
  {
   "cell_type": "code",
   "execution_count": null,
   "metadata": {
    "colab": {
     "base_uri": "https://localhost:8080/",
     "height": 518
    },
    "executionInfo": {
     "elapsed": 32,
     "status": "ok",
     "timestamp": 1647603732631,
     "user": {
      "displayName": "Taehee Lee",
      "photoUrl": "https://lh3.googleusercontent.com/a-/AOh14GijtfpZnQ0Syv6KWDHsShFunkW1YmSXhr4rUnheIEg=s64",
      "userId": "12017922817927484990"
     },
     "user_tz": -540
    },
    "id": "iwt7vhnkE7PI",
    "outputId": "efe2aa80-5741-4fcf-f49d-2e6344d68718"
   },
   "outputs": [
    {
     "data": {
      "text/html": [
       "<img src=\"https://miro.medium.com/max/875/1*jRyyMAhS_NZxqyv3EoLCvg.png\"/>"
      ],
      "text/plain": [
       "<IPython.core.display.Image object>"
      ]
     },
     "execution_count": 36,
     "metadata": {},
     "output_type": "execute_result"
    }
   ],
   "source": [
    "from IPython.display import Image\n",
    "Image(url='https://miro.medium.com/max/875/1*jRyyMAhS_NZxqyv3EoLCvg.png')"
   ]
  },
  {
   "cell_type": "markdown",
   "metadata": {
    "id": "Eg9zz5JAGTEM"
   },
   "source": [
    "이미지 출처 : https://miro.medium.com/max/875/1*jRyyMAhS_NZxqyv3EoLCvg.png"
   ]
  },
  {
   "cell_type": "markdown",
   "metadata": {
    "id": "ygG9xJw_J-dl"
   },
   "source": [
    "다음과 같이 두 개의 텐서를 만들었습니다."
   ]
  },
  {
   "cell_type": "code",
   "execution_count": 20,
   "metadata": {
    "colab": {
     "base_uri": "https://localhost:8080/"
    },
    "executionInfo": {
     "elapsed": 8,
     "status": "ok",
     "timestamp": 1647930657714,
     "user": {
      "displayName": "Taehee Lee",
      "photoUrl": "https://lh3.googleusercontent.com/a-/AOh14GijtfpZnQ0Syv6KWDHsShFunkW1YmSXhr4rUnheIEg=s64",
      "userId": "12017922817927484990"
     },
     "user_tz": -540
    },
    "id": "J6eeaYdOE0uk",
    "outputId": "ef2f906b-6166-411b-a28c-535ee0c82618"
   },
   "outputs": [
    {
     "name": "stdout",
     "output_type": "stream",
     "text": [
      "tensor([[[1, 2],\n",
      "         [3, 4]],\n",
      "\n",
      "        [[5, 6],\n",
      "         [7, 8]]])\n"
     ]
    }
   ],
   "source": [
    "tensor1 = torch.tensor([[[1, 2], [3, 4]], [[5, 6], [7, 8]]])\n",
    "print(tensor1)"
   ]
  },
  {
   "cell_type": "code",
   "execution_count": 21,
   "metadata": {
    "colab": {
     "base_uri": "https://localhost:8080/"
    },
    "executionInfo": {
     "elapsed": 305,
     "status": "ok",
     "timestamp": 1647930679717,
     "user": {
      "displayName": "Taehee Lee",
      "photoUrl": "https://lh3.googleusercontent.com/a-/AOh14GijtfpZnQ0Syv6KWDHsShFunkW1YmSXhr4rUnheIEg=s64",
      "userId": "12017922817927484990"
     },
     "user_tz": -540
    },
    "id": "1ihM870IJ1Ev",
    "outputId": "15221fb6-bc80-46ad-ba84-9fac9b61607c"
   },
   "outputs": [
    {
     "name": "stdout",
     "output_type": "stream",
     "text": [
      "tensor([[[ 9, 10],\n",
      "         [11, 12]],\n",
      "\n",
      "        [[13, 14],\n",
      "         [15, 16]]])\n"
     ]
    }
   ],
   "source": [
    "tensor2 = torch.tensor([[[9, 10], [11, 12]], [[13, 14], [15, 16]]])\n",
    "print(tensor2)"
   ]
  },
  {
   "cell_type": "markdown",
   "metadata": {
    "id": "JYPLZyg9KAM9"
   },
   "source": [
    "##4-1. 텐서의 사칙연산"
   ]
  },
  {
   "cell_type": "markdown",
   "metadata": {
    "id": "Ri9PBXc2KBog"
   },
   "source": [
    "이번에는 텐서의 사칙 연산을 한 번 수행해봅시다."
   ]
  },
  {
   "cell_type": "code",
   "execution_count": null,
   "metadata": {
    "colab": {
     "base_uri": "https://localhost:8080/"
    },
    "executionInfo": {
     "elapsed": 27,
     "status": "ok",
     "timestamp": 1647603732632,
     "user": {
      "displayName": "Taehee Lee",
      "photoUrl": "https://lh3.googleusercontent.com/a-/AOh14GijtfpZnQ0Syv6KWDHsShFunkW1YmSXhr4rUnheIEg=s64",
      "userId": "12017922817927484990"
     },
     "user_tz": -540
    },
    "id": "EQqbBqNdJ0SI",
    "outputId": "97879120-92a0-4fab-b29a-236aee8f8ba5"
   },
   "outputs": [
    {
     "data": {
      "text/plain": [
       "tensor([[[10, 12],\n",
       "         [14, 16]],\n",
       "\n",
       "        [[18, 20],\n",
       "         [22, 24]]])"
      ]
     },
     "execution_count": 39,
     "metadata": {},
     "output_type": "execute_result"
    }
   ],
   "source": [
    "# 텐서의 덧셈\n",
    "tensor1 + tensor2"
   ]
  },
  {
   "cell_type": "code",
   "execution_count": null,
   "metadata": {
    "colab": {
     "base_uri": "https://localhost:8080/"
    },
    "executionInfo": {
     "elapsed": 25,
     "status": "ok",
     "timestamp": 1647603732632,
     "user": {
      "displayName": "Taehee Lee",
      "photoUrl": "https://lh3.googleusercontent.com/a-/AOh14GijtfpZnQ0Syv6KWDHsShFunkW1YmSXhr4rUnheIEg=s64",
      "userId": "12017922817927484990"
     },
     "user_tz": -540
    },
    "id": "gMCHfZL5KJOS",
    "outputId": "121df533-9f37-4c0c-8710-92b012db8ce0"
   },
   "outputs": [
    {
     "data": {
      "text/plain": [
       "tensor([[[-8, -8],\n",
       "         [-8, -8]],\n",
       "\n",
       "        [[-8, -8],\n",
       "         [-8, -8]]])"
      ]
     },
     "execution_count": 40,
     "metadata": {},
     "output_type": "execute_result"
    }
   ],
   "source": [
    "# 텐서의 뺄셈\n",
    "tensor1 - tensor2"
   ]
  },
  {
   "cell_type": "code",
   "execution_count": null,
   "metadata": {
    "colab": {
     "base_uri": "https://localhost:8080/"
    },
    "executionInfo": {
     "elapsed": 23,
     "status": "ok",
     "timestamp": 1647603732632,
     "user": {
      "displayName": "Taehee Lee",
      "photoUrl": "https://lh3.googleusercontent.com/a-/AOh14GijtfpZnQ0Syv6KWDHsShFunkW1YmSXhr4rUnheIEg=s64",
      "userId": "12017922817927484990"
     },
     "user_tz": -540
    },
    "id": "S8CF-BJvKKnW",
    "outputId": "a7e8c852-5cb4-44a3-8a9e-c80966f6f18a"
   },
   "outputs": [
    {
     "data": {
      "text/plain": [
       "tensor([[[0.1111, 0.2000],\n",
       "         [0.2727, 0.3333]],\n",
       "\n",
       "        [[0.3846, 0.4286],\n",
       "         [0.4667, 0.5000]]])"
      ]
     },
     "execution_count": 41,
     "metadata": {},
     "output_type": "execute_result"
    }
   ],
   "source": [
    "# 텐서의 나눗셈\n",
    "tensor1 / tensor2"
   ]
  },
  {
   "cell_type": "code",
   "execution_count": null,
   "metadata": {
    "colab": {
     "base_uri": "https://localhost:8080/"
    },
    "executionInfo": {
     "elapsed": 20,
     "status": "ok",
     "timestamp": 1647603732632,
     "user": {
      "displayName": "Taehee Lee",
      "photoUrl": "https://lh3.googleusercontent.com/a-/AOh14GijtfpZnQ0Syv6KWDHsShFunkW1YmSXhr4rUnheIEg=s64",
      "userId": "12017922817927484990"
     },
     "user_tz": -540
    },
    "id": "LJ0ln-I8KMtu",
    "outputId": "e8d68e44-4919-4a5f-c20a-5a2eb0cd87e2"
   },
   "outputs": [
    {
     "data": {
      "text/plain": [
       "tensor([[[  9,  20],\n",
       "         [ 33,  48]],\n",
       "\n",
       "        [[ 65,  84],\n",
       "         [105, 128]]])"
      ]
     },
     "execution_count": 42,
     "metadata": {},
     "output_type": "execute_result"
    }
   ],
   "source": [
    "# 텐서의 곱셈\n",
    "tensor1 * tensor2"
   ]
  },
  {
   "cell_type": "markdown",
   "metadata": {
    "id": "b8cuuAxzKTH2"
   },
   "source": [
    "파이토치에서 제공하는 연산 함수를 통해서 사칙 연산을 수행할 수도 있습니다."
   ]
  },
  {
   "cell_type": "code",
   "execution_count": null,
   "metadata": {
    "colab": {
     "base_uri": "https://localhost:8080/"
    },
    "executionInfo": {
     "elapsed": 18,
     "status": "ok",
     "timestamp": 1647603732632,
     "user": {
      "displayName": "Taehee Lee",
      "photoUrl": "https://lh3.googleusercontent.com/a-/AOh14GijtfpZnQ0Syv6KWDHsShFunkW1YmSXhr4rUnheIEg=s64",
      "userId": "12017922817927484990"
     },
     "user_tz": -540
    },
    "id": "1lGtR76OKOmO",
    "outputId": "7548ae84-6a32-42f3-d63a-5c5315e9afc1"
   },
   "outputs": [
    {
     "data": {
      "text/plain": [
       "tensor([[[10, 12],\n",
       "         [14, 16]],\n",
       "\n",
       "        [[18, 20],\n",
       "         [22, 24]]])"
      ]
     },
     "execution_count": 43,
     "metadata": {},
     "output_type": "execute_result"
    }
   ],
   "source": [
    "# 텐서의 덧셈\n",
    "torch.add(tensor1, tensor2)"
   ]
  },
  {
   "cell_type": "code",
   "execution_count": null,
   "metadata": {
    "colab": {
     "base_uri": "https://localhost:8080/"
    },
    "executionInfo": {
     "elapsed": 16,
     "status": "ok",
     "timestamp": 1647603732632,
     "user": {
      "displayName": "Taehee Lee",
      "photoUrl": "https://lh3.googleusercontent.com/a-/AOh14GijtfpZnQ0Syv6KWDHsShFunkW1YmSXhr4rUnheIEg=s64",
      "userId": "12017922817927484990"
     },
     "user_tz": -540
    },
    "id": "QSmZVz_xKYy_",
    "outputId": "4b6b3aa8-bda3-4153-8e3e-6fe6709dd537"
   },
   "outputs": [
    {
     "data": {
      "text/plain": [
       "tensor([[[-8, -8],\n",
       "         [-8, -8]],\n",
       "\n",
       "        [[-8, -8],\n",
       "         [-8, -8]]])"
      ]
     },
     "execution_count": 44,
     "metadata": {},
     "output_type": "execute_result"
    }
   ],
   "source": [
    "# 텐서의 뺄셈\n",
    "torch.sub(tensor1, tensor2)"
   ]
  },
  {
   "cell_type": "code",
   "execution_count": null,
   "metadata": {
    "colab": {
     "base_uri": "https://localhost:8080/"
    },
    "executionInfo": {
     "elapsed": 14,
     "status": "ok",
     "timestamp": 1647603732632,
     "user": {
      "displayName": "Taehee Lee",
      "photoUrl": "https://lh3.googleusercontent.com/a-/AOh14GijtfpZnQ0Syv6KWDHsShFunkW1YmSXhr4rUnheIEg=s64",
      "userId": "12017922817927484990"
     },
     "user_tz": -540
    },
    "id": "-hJmuOG5KZq-",
    "outputId": "501c5533-939a-435b-8596-ec79a17bfaf9"
   },
   "outputs": [
    {
     "data": {
      "text/plain": [
       "tensor([[[  9,  20],\n",
       "         [ 33,  48]],\n",
       "\n",
       "        [[ 65,  84],\n",
       "         [105, 128]]])"
      ]
     },
     "execution_count": 45,
     "metadata": {},
     "output_type": "execute_result"
    }
   ],
   "source": [
    "# 텐서의 원소별 곱셈\n",
    "torch.mul(tensor1, tensor2)"
   ]
  },
  {
   "cell_type": "code",
   "execution_count": null,
   "metadata": {
    "colab": {
     "base_uri": "https://localhost:8080/"
    },
    "executionInfo": {
     "elapsed": 12,
     "status": "ok",
     "timestamp": 1647603732633,
     "user": {
      "displayName": "Taehee Lee",
      "photoUrl": "https://lh3.googleusercontent.com/a-/AOh14GijtfpZnQ0Syv6KWDHsShFunkW1YmSXhr4rUnheIEg=s64",
      "userId": "12017922817927484990"
     },
     "user_tz": -540
    },
    "id": "REcLtD34Ka2f",
    "outputId": "56e6ba8c-0621-4eb4-e8e8-8b8aa96d2239"
   },
   "outputs": [
    {
     "data": {
      "text/plain": [
       "tensor([[[0.1111, 0.2000],\n",
       "         [0.2727, 0.3333]],\n",
       "\n",
       "        [[0.3846, 0.4286],\n",
       "         [0.4667, 0.5000]]])"
      ]
     },
     "execution_count": 46,
     "metadata": {},
     "output_type": "execute_result"
    }
   ],
   "source": [
    "# 텐서의 나눗셈\n",
    "torch.div(tensor1, tensor2)"
   ]
  },
  {
   "cell_type": "markdown",
   "metadata": {
    "id": "tXqWazyRKh1I"
   },
   "source": [
    "## 4-2. 텐서의 곱셈"
   ]
  },
  {
   "cell_type": "markdown",
   "metadata": {
    "id": "i0l9aX9XKtm_"
   },
   "source": [
    "벡터의 내적, 행렬의 곱셈과 마찬가지로 우리는 텐서의 곱셈 또한 가능합니다.  \n",
    "기본적으로 원리는 행렬의 곱셈입니다."
   ]
  },
  {
   "cell_type": "code",
   "execution_count": 22,
   "metadata": {
    "colab": {
     "base_uri": "https://localhost:8080/"
    },
    "executionInfo": {
     "elapsed": 317,
     "status": "ok",
     "timestamp": 1647930705643,
     "user": {
      "displayName": "Taehee Lee",
      "photoUrl": "https://lh3.googleusercontent.com/a-/AOh14GijtfpZnQ0Syv6KWDHsShFunkW1YmSXhr4rUnheIEg=s64",
      "userId": "12017922817927484990"
     },
     "user_tz": -540
    },
    "id": "Kw6IgV0BKcTW",
    "outputId": "9f7ddf7d-a595-4a79-d090-2122547a71e1"
   },
   "outputs": [
    {
     "data": {
      "text/plain": [
       "tensor([[[ 31,  34],\n",
       "         [ 71,  78]],\n",
       "\n",
       "        [[155, 166],\n",
       "         [211, 226]]])"
      ]
     },
     "execution_count": 22,
     "metadata": {},
     "output_type": "execute_result"
    }
   ],
   "source": [
    "torch.matmul(tensor1, tensor2)"
   ]
  },
  {
   "cell_type": "code",
   "execution_count": null,
   "metadata": {
    "id": "vLpwujU5-T8k"
   },
   "outputs": [],
   "source": []
  }
 ],
 "metadata": {
  "colab": {
   "collapsed_sections": [],
   "name": "02-03. 딥러닝을 위한 연산 (PyTorch)",
   "provenance": [
    {
     "file_id": "17du2pVzmHyj_m71217vzTl8rZggkOfMK",
     "timestamp": 1628295169017
    }
   ],
   "toc_visible": true
  },
  "kernelspec": {
   "display_name": "Python 3 (ipykernel)",
   "language": "python",
   "name": "python3"
  },
  "language_info": {
   "codemirror_mode": {
    "name": "ipython",
    "version": 3
   },
   "file_extension": ".py",
   "mimetype": "text/x-python",
   "name": "python",
   "nbconvert_exporter": "python",
   "pygments_lexer": "ipython3",
   "version": "3.7.11"
  },
  "varInspector": {
   "cols": {
    "lenName": 16,
    "lenType": 16,
    "lenVar": 40
   },
   "kernels_config": {
    "python": {
     "delete_cmd_postfix": "",
     "delete_cmd_prefix": "del ",
     "library": "var_list.py",
     "varRefreshCmd": "print(var_dic_list())"
    },
    "r": {
     "delete_cmd_postfix": ") ",
     "delete_cmd_prefix": "rm(",
     "library": "var_list.r",
     "varRefreshCmd": "cat(var_dic_list()) "
    }
   },
   "types_to_exclude": [
    "module",
    "function",
    "builtin_function_or_method",
    "instance",
    "_Feature"
   ],
   "window_display": false
  }
 },
 "nbformat": 4,
 "nbformat_minor": 1
}
